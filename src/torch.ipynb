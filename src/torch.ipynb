{
 "cells": [
  {
   "cell_type": "code",
   "execution_count": 200,
   "metadata": {},
   "outputs": [],
   "source": [
    "import torch\n",
    "import torchaudio\n",
    "import polars as pl\n",
    "import matplotlib.pyplot as plt\n",
    "import os\n",
    "import numpy as np\n",
    "import tqdm\n",
    "from torchaudio import transforms\n",
    "from IPython.display import Audio\n",
    "import math, random\n",
    "\n",
    "import helpers.input_processor as ip"
   ]
  },
  {
   "cell_type": "code",
   "execution_count": 201,
   "metadata": {},
   "outputs": [
    {
     "name": "stdout",
     "output_type": "stream",
     "text": [
      "loading data from save file:  cache/ingested_data.json\n"
     ]
    }
   ],
   "source": [
    "#load data from dataframe\n",
    "data_dir = \"data/raw_training/training_data/\"\n",
    "target_label = 'murmur_in_recording'\n",
    "df = (\n",
    "    ip.loadTrainingData(data_dir)\n",
    "    .filter(pl.col(target_label) != 'Unknown')\n",
    "    .pipe(ip.encodeData)\n",
    "    .select([\n",
    "        pl.col('audio_file').apply(lambda x: os.path.join(data_dir, x)),\n",
    "        pl.col(target_label)\n",
    "    ])\n",
    ")"
   ]
  },
  {
   "cell_type": "code",
   "execution_count": 202,
   "metadata": {},
   "outputs": [
    {
     "name": "stdout",
     "output_type": "stream",
     "text": [
      "Total Samples:        998\n",
      "Positive Samples:     499\n",
      "Negative Samples:     499\n",
      "Percent Positive Samples:     0.5\n"
     ]
    }
   ],
   "source": [
    "# #balance the data so that there is an equal number of murmur positive and murmur negative samples\n",
    "# #do this by duplicating random rows of whichever group (pos or neg) is smaller\n",
    "# neg_df = df.filter(pl.col(target_label)==0.0)\n",
    "# pos_df = df.filter(pl.col(target_label)==1.0)\n",
    "# numNeg = neg_df.height\n",
    "# numPos = pos_df.height\n",
    "\n",
    "# while numNeg != numPos:\n",
    "#     if numNeg < numPos:\n",
    "#         df.vstack(neg_df.sample(n=min(numPos-numNeg, neg_df.height), shuffle=True), in_place=True)\n",
    "#     else: \n",
    "#         df.vstack(pos_df.sample(n=min(numNeg-numPos, pos_df.height), shuffle=True), in_place=True)\n",
    "#     numNeg = df.filter(pl.col(target_label)==0.0).height\n",
    "#     numPos = df.filter(pl.col(target_label)==1.0).height\n",
    "\n",
    "# #reshuffle rows\n",
    "# df = df.sample(frac=1.0, shuffle=True)\n",
    "\n",
    "# #check number of positive and negative samples\n",
    "# numNeg = df.filter(pl.col(target_label)==0.0).height\n",
    "# numPos = df.filter(pl.col(target_label)==1.0).height\n",
    "# print('Total Samples:       ', df.height)\n",
    "# print('Positive Samples:    ', numPos)\n",
    "# print('Negative Samples:    ', numNeg)\n",
    "# print('Percent Positive Samples:    ', numPos/(numPos+numNeg))\n",
    "\n",
    "\n",
    "# method 2:\n",
    "\n",
    "#balance the data so that there is an equal number of murmur positive and murmur negative samples\n",
    "#do this by duplicating random rows of whichever group (pos or neg) is smaller\n",
    "neg_df = df.filter(pl.col(target_label)==0.0)\n",
    "pos_df = df.filter(pl.col(target_label)==1.0)\n",
    "numNeg = neg_df.height\n",
    "numPos = pos_df.height\n",
    "\n",
    "if numNeg < numPos:\n",
    "    df = neg_df.vstack(pos_df.sample(n=numNeg))\n",
    "elif numPos < numNeg:\n",
    "    df = pos_df.vstack(neg_df.sample(n=numPos))\n",
    "else:\n",
    "    df = neg_df.vstack(pos_df)\n",
    "\n",
    "#reshuffle rows\n",
    "df = df.sample(frac=1.0, shuffle=True)\n",
    "\n",
    "#check number of positive and negative samples\n",
    "numNeg = df.filter(pl.col(target_label)==0.0).height\n",
    "numPos = df.filter(pl.col(target_label)==1.0).height\n",
    "print('Total Samples:       ', df.height)\n",
    "print('Positive Samples:    ', numPos)\n",
    "print('Negative Samples:    ', numNeg)\n",
    "print('Percent Positive Samples:    ', numPos/(numPos+numNeg))"
   ]
  },
  {
   "cell_type": "code",
   "execution_count": 203,
   "metadata": {},
   "outputs": [],
   "source": [
    "import librosa\n",
    "import math, random\n",
    "import numpy as np\n",
    "\n",
    "# x = path to audio file\n",
    "# duration = length of time (in seconds) to which the signal is resized\n",
    "# sr = sample rate of the signal\n",
    "# **kwargs = keyword args to pass to librosa.feature.melspectrogram()\n",
    "def preprocessAudio(x, duration, sr=4000, **kwargs):\n",
    "    #read and load audio file in .wav format\n",
    "    sig, samp_rate = librosa.load(x, sr=sr) #make sure that the correct sample rate is passed as a parameters. if unspecified, the function chooses some default value\n",
    "    \n",
    "    #resize sample, either by padding it with silence or truncating it\n",
    "    sig = librosa.util.fix_length(sig, size=sr*duration)\n",
    "\n",
    "    #implement audio augmentation:  ------------\n",
    "    #time shift signal to the left or right by a random percent of its original length (max 99%)\n",
    "    sig_len = sig.shape[0]\n",
    "    max_shift = 0.99\n",
    "    sig = np.roll(sig, round(random.random() * max_shift * sig_len))\n",
    "\n",
    "    # #convert to stereo\n",
    "    # sig = np.tile(sig, (2,1))\n",
    "    #-------------------------------------------\n",
    "\n",
    "    #get Mel spectrogram\n",
    "    melSpec = librosa.feature.melspectrogram(y=sig, sr=samp_rate)\n",
    "    melSpec = librosa.amplitude_to_db(melSpec)\n",
    "\n",
    "    #implement image augmentation   ------------\n",
    "    #-------------------------------------------\n",
    "\n",
    "    return melSpec"
   ]
  },
  {
   "cell_type": "code",
   "execution_count": 204,
   "metadata": {},
   "outputs": [],
   "source": [
    "# x = path to audio file\n",
    "# samp_rate = sample rate of the signal\n",
    "# duration = length of time (in seconds) to which the signal is resized\n",
    "# n_freq_masks = number of frequency masks\n",
    "# n_time_masks = number of time masks\n",
    "# remaining keyword argument are passed to transforms.MelSpectrogram()\n",
    "def preprocessAudioV2(x, samp_rate, duration, n_freq_masks=1, n_time_masks=1, n_mels=64, n_fft=1024, hop_len=None):\n",
    "    # read and load audio file in .wav format\n",
    "    sig, sr = torchaudio.load(x)\n",
    "\n",
    "    # Check that audio is mono (has 1 audio channel)\n",
    "    num_channels = sig.shape[0]\n",
    "    if num_channels != 1:\n",
    "        raise Exception('The provided audio file \\'%s\\' has %s channels, when 1 was expected' % (x, num_channels))\n",
    "    \n",
    "    # resize sample, either by padding it with silence or truncating it\n",
    "    num_rows, sig_len = sig.shape\n",
    "    max_len = sr * duration\n",
    "    if (sig_len > max_len):\n",
    "        # Truncate the signal to the given length\n",
    "        sig = sig[:,:max_len]\n",
    "    elif (sig_len < max_len):\n",
    "        # Pad with zeroes at the beginning and end of the signal\n",
    "        pad_begin_len = random.randint(0, max_len - sig_len)\n",
    "        pad_end_len = max_len - sig_len - pad_begin_len\n",
    "        pad_begin = torch.zeros((num_rows, pad_begin_len))\n",
    "        pad_end = torch.zeros((num_rows, pad_end_len))\n",
    "        sig = torch.cat((pad_begin, sig, pad_end), 1)\n",
    "\n",
    "    # Audio Augmentation    --------\\\n",
    "    # time shift signal to the left or right by a random percent of its original length (max 99%)\n",
    "    _, sig_len = sig.shape\n",
    "    max_shift = 0.99\n",
    "    sig = sig.roll(int(random.random() * max_shift * sig_len))\n",
    "    #-------------------------------/\n",
    "\n",
    "    # get Mel spectrogram\n",
    "    top_db = 80\n",
    "    melSpec = torchaudio.transforms.MelSpectrogram(sr, n_fft=n_fft, hop_length=hop_len, n_mels=n_mels)(sig)\n",
    "    melSpec = torchaudio.transforms.AmplitudeToDB(top_db=top_db)(melSpec)\n",
    "\n",
    "    # Image Augmentation    --------\\\n",
    "    # Apply time and frequency mask\n",
    "    max_mask_pct=0.1\n",
    "    n_steps = melSpec.shape[2]\n",
    "    mask_value = melSpec.mean()\n",
    "    for i in range(n_freq_masks):\n",
    "        melSpec = torchaudio.transforms.FrequencyMasking(max_mask_pct * n_mels)(melSpec, mask_value)\n",
    "    for i in range(n_time_masks):\n",
    "        melSpec = torchaudio.transforms.TimeMasking(max_mask_pct * n_steps)(melSpec, mask_value)\n",
    "    #-------------------------------/\n",
    "    \n",
    "    return melSpec"
   ]
  },
  {
   "cell_type": "code",
   "execution_count": 205,
   "metadata": {},
   "outputs": [
    {
     "name": "stdout",
     "output_type": "stream",
     "text": [
      "6.138801574707031\n"
     ]
    }
   ],
   "source": [
    "import time\n",
    "\n",
    "start=time.time()\n",
    "\n",
    "preprocessAudioV2(os.path.join(data_dir, '2530_AV.wav'), 4000, 25)\n",
    "\n",
    "stop = time.time()\n",
    "\n",
    "print((stop-start)*1000)"
   ]
  },
  {
   "cell_type": "code",
   "execution_count": 206,
   "metadata": {},
   "outputs": [],
   "source": [
    "from torch.utils.data import Dataset\n",
    "from torch.utils.data import DataLoader\n",
    "\n",
    "class AudioDataset(Dataset):\n",
    "    def __init__(self, audioPaths, labels):\n",
    "        self.audioPaths = audioPaths\n",
    "        self.labels = labels\n",
    "        self.sr = 4000\n",
    "        self.sample_duration = 25\n",
    "        self.n_mels = 128\n",
    "\n",
    "    def __len__(self):\n",
    "        return len(self.labels)\n",
    "\n",
    "    def __getitem__(self, idx):\n",
    "        # spec = torch.from_numpy(preprocessAudio(self.audioPaths[idx], self.sample_duration, n_mels=self.n_mels))\n",
    "        spec = preprocessAudioV2(self.audioPaths[idx], self.sr, self.sample_duration, n_mels=self.n_mels)\n",
    "        label = self.labels[idx]\n",
    "        return spec, label"
   ]
  },
  {
   "cell_type": "code",
   "execution_count": 207,
   "metadata": {},
   "outputs": [],
   "source": [
    "def splitDataset(ds, split_ratio=0.8):\n",
    "    total_size = len(ds)\n",
    "    train_size = round(split_ratio * total_size)\n",
    "    test_size = total_size - train_size\n",
    "\n",
    "    trainSet, testSet = torch.utils.data.random_split(ds, [train_size, test_size], generator=torch.Generator().manual_seed(0))\n",
    "    return trainSet, testSet"
   ]
  },
  {
   "cell_type": "code",
   "execution_count": 208,
   "metadata": {},
   "outputs": [],
   "source": [
    "\n",
    "audioPaths = df.get_column('audio_file').to_list()\n",
    "labels = df.get_column(target_label).to_list()\n",
    "classes = df.get_column(target_label).unique().to_list()\n",
    "\n",
    "ds = AudioDataset(audioPaths, labels)\n",
    "train_ds, test_ds = splitDataset(ds)\n",
    "\n",
    "# train_dl = torch.utils.data.DataLoader(train_ds, batch_size=16, shuffle=True)\n",
    "# val_dl = torch.utils.data.DataLoader(val_ds, batch_size=16, shuffle=False)"
   ]
  },
  {
   "cell_type": "markdown",
   "metadata": {},
   "source": [
    "_________________________________________________________________________________________________________\n",
    "tutorial code\n",
    "_________________________________________________________________________________________________________"
   ]
  },
  {
   "cell_type": "code",
   "execution_count": 209,
   "metadata": {},
   "outputs": [],
   "source": [
    "import torch\n",
    "import torch.nn as nn\n",
    "import torch.nn.functional as F\n",
    "import torchvision\n",
    "import torchvision.transforms as transforms\n",
    "import matplotlib.pyplot as plt\n",
    "import numpy as np\n",
    "\n",
    "# Device configuration\n",
    "device = torch.device('cuda' if torch.cuda.is_available() else 'cpu')\n",
    "\n",
    "# Hyper-parameters \n",
    "num_epochs = 50\n",
    "batch_size = 32\n",
    "learning_rate = 0.001\n",
    "\n",
    "# Dataloaders\n",
    "train_loader = torch.utils.data.DataLoader(train_ds, batch_size=batch_size, shuffle=True, num_workers=4, prefetch_factor=4)\n",
    "test_loader = torch.utils.data.DataLoader(test_ds, batch_size=batch_size, shuffle=False, num_workers=4, prefetch_factor=4)\n",
    "\n",
    "class ConvNet(nn.Module):\n",
    "    def __init__(self):\n",
    "        super(ConvNet, self).__init__()\n",
    "        # numClasses = 2\n",
    "        # self.conv1 = nn.Conv2d(1, 2*1, 5)   # first param = 1 since iput image has 1 channel\n",
    "        # self.pool = nn.MaxPool2d(2, 2)\n",
    "        # self.conv2 = nn.Conv2d(2*1, 16, 5)\n",
    "        # self.fc1 = nn.Linear(16 * 29 * 46, 120)\n",
    "        # self.fc2 = nn.Linear(120, 84)\n",
    "        # self.fc3 = nn.Linear(84, numClasses)\n",
    "        numClasses = 2\n",
    "        self.conv1 = nn.Conv2d(1, 32, 5)   # first param = 1 since iput image has 1 channel\n",
    "        self.pool = nn.MaxPool2d(2, 2)\n",
    "        self.conv2 = nn.Conv2d(32, 64, 5)\n",
    "        self.fc1 = nn.Linear(64 * 29 * 46, 120)\n",
    "        self.fc2 = nn.Linear(120, 84)\n",
    "        self.fc3 = nn.Linear(84, numClasses)\n",
    "\n",
    "\n",
    "    def forward(self, x):\n",
    "        # -> n, 3, 32, 32\n",
    "        x = self.pool(F.relu(self.conv1(x)))  # -> n, 6, 14, 14\n",
    "        x = self.pool(F.relu(self.conv2(x)))  # -> n, 16, 5, 5\n",
    "        x = x.view(-1, 64 * 29 * 46)            # -> n, 400\n",
    "        x = F.relu(self.fc1(x))               # -> n, 120\n",
    "        x = F.relu(self.fc2(x))               # -> n, 84\n",
    "        x = self.fc3(x)                       # -> n, 10\n",
    "        return x\n",
    "\n",
    "\n",
    "model = ConvNet().to(device)"
   ]
  },
  {
   "cell_type": "code",
   "execution_count": 210,
   "metadata": {},
   "outputs": [
    {
     "name": "stderr",
     "output_type": "stream",
     "text": [
      "Epoch 0: 100%|██████████| 25/25 [00:01<00:00, 20.88it/s, loss=0.619]\n",
      "Epoch 1: 100%|██████████| 25/25 [00:01<00:00, 20.33it/s, loss=0.671]\n",
      "Epoch 2: 100%|██████████| 25/25 [00:01<00:00, 21.36it/s, loss=0.661]\n",
      "Epoch 3: 100%|██████████| 25/25 [00:01<00:00, 20.99it/s, loss=0.568]\n",
      "Epoch 4: 100%|██████████| 25/25 [00:01<00:00, 21.30it/s, loss=0.557]\n",
      "Epoch 5: 100%|██████████| 25/25 [00:01<00:00, 21.88it/s, loss=0.546]\n",
      "Epoch 6: 100%|██████████| 25/25 [00:01<00:00, 20.71it/s, loss=0.549]\n",
      "Epoch 7: 100%|██████████| 25/25 [00:01<00:00, 21.33it/s, loss=0.76] \n",
      "Epoch 8: 100%|██████████| 25/25 [00:01<00:00, 21.66it/s, loss=0.633]\n",
      "Epoch 9: 100%|██████████| 25/25 [00:01<00:00, 21.77it/s, loss=0.507]\n",
      "Epoch 10: 100%|██████████| 25/25 [00:01<00:00, 20.91it/s, loss=0.573]\n",
      "Epoch 11: 100%|██████████| 25/25 [00:01<00:00, 21.30it/s, loss=0.438]\n",
      "Epoch 12: 100%|██████████| 25/25 [00:01<00:00, 20.95it/s, loss=0.455]\n",
      "Epoch 13: 100%|██████████| 25/25 [00:01<00:00, 21.60it/s, loss=0.63] \n",
      "Epoch 14: 100%|██████████| 25/25 [00:01<00:00, 21.74it/s, loss=0.598]\n",
      "Epoch 15: 100%|██████████| 25/25 [00:01<00:00, 21.00it/s, loss=0.459]\n",
      "Epoch 16: 100%|██████████| 25/25 [00:01<00:00, 21.04it/s, loss=0.678]\n",
      "Epoch 17: 100%|██████████| 25/25 [00:01<00:00, 21.88it/s, loss=0.552]\n",
      "Epoch 18: 100%|██████████| 25/25 [00:01<00:00, 19.99it/s, loss=0.524]\n",
      "Epoch 19: 100%|██████████| 25/25 [00:01<00:00, 20.63it/s, loss=0.534]\n",
      "Epoch 20: 100%|██████████| 25/25 [00:01<00:00, 21.66it/s, loss=0.582]\n",
      "Epoch 21: 100%|██████████| 25/25 [00:01<00:00, 21.12it/s, loss=0.507]\n",
      "Epoch 22: 100%|██████████| 25/25 [00:01<00:00, 20.98it/s, loss=0.443]\n",
      "Epoch 23: 100%|██████████| 25/25 [00:01<00:00, 21.15it/s, loss=0.448]\n",
      "Epoch 24: 100%|██████████| 25/25 [00:01<00:00, 21.73it/s, loss=0.531]\n",
      "Epoch 25: 100%|██████████| 25/25 [00:01<00:00, 20.72it/s, loss=0.488]\n",
      "Epoch 26: 100%|██████████| 25/25 [00:01<00:00, 21.65it/s, loss=0.577]\n",
      "Epoch 27: 100%|██████████| 25/25 [00:01<00:00, 21.97it/s, loss=0.46] \n",
      "Epoch 28: 100%|██████████| 25/25 [00:01<00:00, 22.47it/s, loss=0.555]\n",
      "Epoch 29: 100%|██████████| 25/25 [00:01<00:00, 21.22it/s, loss=0.323]\n",
      "Epoch 30: 100%|██████████| 25/25 [00:01<00:00, 21.82it/s, loss=0.643]\n",
      "Epoch 31: 100%|██████████| 25/25 [00:01<00:00, 21.35it/s, loss=0.56] \n",
      "Epoch 32: 100%|██████████| 25/25 [00:01<00:00, 20.72it/s, loss=0.549]\n",
      "Epoch 33: 100%|██████████| 25/25 [00:01<00:00, 21.13it/s, loss=0.425]\n",
      "Epoch 34: 100%|██████████| 25/25 [00:01<00:00, 21.22it/s, loss=0.545]\n",
      "Epoch 35: 100%|██████████| 25/25 [00:01<00:00, 21.50it/s, loss=0.453]\n",
      "Epoch 36: 100%|██████████| 25/25 [00:01<00:00, 21.48it/s, loss=0.561]\n",
      "Epoch 37: 100%|██████████| 25/25 [00:01<00:00, 21.56it/s, loss=0.317]\n",
      "Epoch 38: 100%|██████████| 25/25 [00:01<00:00, 21.31it/s, loss=0.331]\n",
      "Epoch 39: 100%|██████████| 25/25 [00:01<00:00, 21.59it/s, loss=0.541]\n",
      "Epoch 40: 100%|██████████| 25/25 [00:01<00:00, 21.48it/s, loss=0.503]\n",
      "Epoch 41: 100%|██████████| 25/25 [00:01<00:00, 21.47it/s, loss=0.513]\n",
      "Epoch 42: 100%|██████████| 25/25 [00:01<00:00, 21.47it/s, loss=0.5]  \n",
      "Epoch 43: 100%|██████████| 25/25 [00:01<00:00, 21.07it/s, loss=0.574]\n",
      "Epoch 44: 100%|██████████| 25/25 [00:01<00:00, 21.36it/s, loss=0.452]\n",
      "Epoch 45: 100%|██████████| 25/25 [00:01<00:00, 21.73it/s, loss=0.495]\n",
      "Epoch 46: 100%|██████████| 25/25 [00:01<00:00, 19.68it/s, loss=0.346]\n",
      "Epoch 47: 100%|██████████| 25/25 [00:01<00:00, 22.44it/s, loss=0.372]\n",
      "Epoch 48: 100%|██████████| 25/25 [00:01<00:00, 20.34it/s, loss=0.488]\n",
      "Epoch 49: 100%|██████████| 25/25 [00:01<00:00, 21.64it/s, loss=0.778]\n"
     ]
    },
    {
     "name": "stdout",
     "output_type": "stream",
     "text": [
      "Finished Training\n"
     ]
    }
   ],
   "source": [
    "criterion = nn.CrossEntropyLoss().cuda()\n",
    "optimizer = torch.optim.Adam(model.parameters(), lr=learning_rate)\n",
    "\n",
    "n_total_steps = len(train_loader)\n",
    "for epoch in range(num_epochs):\n",
    "    running_loss = 0.0\n",
    "    epoch_bar = tqdm.tqdm(train_loader)\n",
    "    epoch_bar.set_description(\"Epoch %s\" % epoch)\n",
    "    for i, (images, labels) in enumerate(epoch_bar):\n",
    "        epoch_bar.set_postfix({\"loss\": running_loss})\n",
    "\n",
    "        # origin shape: [4, 3, 32, 32] = 4, 3, 1024\n",
    "        # input_layer: 3 input channels, 6 output channels, 5 kernel size\n",
    "        images = images.type(torch.FloatTensor).to(device)\n",
    "        labels = labels.type(torch.LongTensor).to(device)\n",
    "\n",
    "        # Forward pass\n",
    "        # outputs = model(images.unsqueeze(1))\n",
    "        outputs = model(images)\n",
    "        loss = criterion(outputs, labels)\n",
    "\n",
    "        # Backward and optimize\n",
    "        optimizer.zero_grad()\n",
    "        loss.backward()\n",
    "        optimizer.step()\n",
    "\n",
    "        running_loss = loss.item()\n",
    "\n",
    "print('Finished Training')\n",
    "PATH = './cnn.pth'\n",
    "torch.save(model.state_dict(), PATH)"
   ]
  },
  {
   "cell_type": "code",
   "execution_count": 216,
   "metadata": {},
   "outputs": [
    {
     "name": "stderr",
     "output_type": "stream",
     "text": [
      "Testing Model: 100%|██████████| 7/7 [00:00<00:00, 13.96it/s]"
     ]
    },
    {
     "name": "stdout",
     "output_type": "stream",
     "text": [
      "Accuracy of the network on the test images: 72.0 %\n"
     ]
    },
    {
     "name": "stderr",
     "output_type": "stream",
     "text": [
      "\n"
     ]
    }
   ],
   "source": [
    "# Test the model\n",
    "net = ConvNet().to(device)\n",
    "net.load_state_dict(torch.load(PATH))\n",
    "\n",
    "correct = 0\n",
    "total = 0\n",
    "with torch.no_grad():\n",
    "    progressBar = tqdm.tqdm(test_loader)\n",
    "    progressBar.set_description('Testing Model')\n",
    "    for i, (images, labels) in enumerate(progressBar):\n",
    "        images = images.type(torch.FloatTensor).to(device)\n",
    "        labels = labels.type(torch.LongTensor).to(device)\n",
    "\n",
    "        outputs = net(images)\n",
    "        _, predicted = torch.max(outputs.data, 1)\n",
    "        total += labels.size(0)\n",
    "        correct += (predicted == labels).sum().item()\n",
    "\n",
    "print(f'Accuracy of the network on the test images: {100 * correct / total} %')\n",
    "        "
   ]
  }
 ],
 "metadata": {
  "kernelspec": {
   "display_name": "Python 3.8.10 64-bit",
   "language": "python",
   "name": "python3"
  },
  "language_info": {
   "codemirror_mode": {
    "name": "ipython",
    "version": 3
   },
   "file_extension": ".py",
   "mimetype": "text/x-python",
   "name": "python",
   "nbconvert_exporter": "python",
   "pygments_lexer": "ipython3",
   "version": "3.8.10"
  },
  "orig_nbformat": 4,
  "vscode": {
   "interpreter": {
    "hash": "916dbcbb3f70747c44a77c7bcd40155683ae19c65e1c03b4aa3499c5328201f1"
   }
  }
 },
 "nbformat": 4,
 "nbformat_minor": 2
}
