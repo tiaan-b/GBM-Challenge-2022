{
 "cells": [
  {
   "cell_type": "code",
   "execution_count": 1,
   "metadata": {},
   "outputs": [
    {
     "name": "stderr",
     "output_type": "stream",
     "text": [
      "2022-07-26 11:08:55.931771: I tensorflow/core/util/util.cc:169] oneDNN custom operations are on. You may see slightly different numerical results due to floating-point round-off errors from different computation orders. To turn them off, set the environment variable `TF_ENABLE_ONEDNN_OPTS=0`.\n"
     ]
    }
   ],
   "source": [
    "import polars as pl\n",
    "import os\n",
    "import librosa\n",
    "import librosa.display\n",
    "import matplotlib.pyplot as plt\n",
    "from tensorflow.keras.layers import LSTM, Dense\n",
    "import helpers.input_processor as ip\n",
    "import tqdm\n",
    "import tensorflow as tf\n",
    "from tensorflow.data import Dataset as tfds\n",
    "import tensorflow_io as tfio\n",
    "import math, random\n",
    "import numpy as np\n",
    "\n",
    "from matplotlib import pyplot as plt\n",
    "import tensorflow.python.util as util"
   ]
  },
  {
   "cell_type": "code",
   "execution_count": 2,
   "metadata": {},
   "outputs": [
    {
     "name": "stderr",
     "output_type": "stream",
     "text": [
      "/home/tiaan/.local/lib/python3.8/site-packages/tqdm/auto.py:22: TqdmWarning: IProgress not found. Please update jupyter and ipywidgets. See https://ipywidgets.readthedocs.io/en/stable/user_install.html\n",
      "  from .autonotebook import tqdm as notebook_tqdm\n"
     ]
    }
   ],
   "source": [
    "import torch\n",
    "import torchaudio\n",
    "import polars as pl\n",
    "import matplotlib.pyplot as plt\n",
    "import os\n",
    "import numpy as np\n",
    "import tqdm\n",
    "from torchaudio import transforms\n",
    "from IPython.display import Audio\n",
    "import math, random\n",
    "\n",
    "import helpers.input_processor as ip"
   ]
  },
  {
   "cell_type": "code",
   "execution_count": 3,
   "metadata": {},
   "outputs": [],
   "source": [
    "# audio_path = path to audio file\n",
    "# samp_rate = sample rate of the signal\n",
    "# duration = length of time (in seconds) to which the signal is resized\n",
    "# do_augmentation = whether to perform audio and image augmentation on the signal\n",
    "# n_freq_masks = number of frequency masks\n",
    "# n_time_masks = number of time masks\n",
    "# n_mels = number of frequency bands (ie. Mel bins)\n",
    "# **kwargs = keyword arguments passed to transforms.MelSpectrogram()\n",
    "def preprocessAudio(audio_path, samp_rate=4000, duration=25, do_augmentation=True, n_freq_masks=1, n_time_masks=1, n_mels=128, **kwargs):\n",
    "    # read and load audio file in .wav format\n",
    "    sig, sr = torchaudio.load(audio_path, normalize=True)\n",
    "    sr = samp_rate\n",
    "\n",
    "    # Check that audio is mono (has 1 audio channel)\n",
    "    num_channels = sig.shape[0]\n",
    "    if num_channels != 1:\n",
    "        raise Exception('The provided audio file \\'%s\\' has %s channels, when 1 was expected' % (x, num_channels))\n",
    "    \n",
    "    # resize sample, either by padding it with silence or truncating it\n",
    "    num_rows, sig_len = sig.shape\n",
    "    max_len = sr * duration\n",
    "    if (sig_len > max_len):\n",
    "        # Truncate the signal to the given length\n",
    "        start = random.randint(0, sig_len - max_len)\n",
    "        sig = sig[:, start : start + max_len]\n",
    "    elif (sig_len < max_len):\n",
    "        # Pad with zeroes at the beginning and end of the signal\n",
    "        pad_begin_len = random.randint(0, max_len - sig_len)\n",
    "        pad_end_len = max_len - sig_len - pad_begin_len\n",
    "        pad_begin = torch.zeros((num_rows, pad_begin_len))\n",
    "        pad_end = torch.zeros((num_rows, pad_end_len))\n",
    "        sig = torch.cat((pad_begin, sig, pad_end), 1)\n",
    "\n",
    "    # Audio Augmentation    --------\\\n",
    "    if do_augmentation == True:\n",
    "        # time shift signal to the left or right by a random percent of its original length (max 99%)\n",
    "        _, sig_len = sig.shape\n",
    "        max_shift = 0.99\n",
    "        sig = sig.roll(int(random.random() * max_shift * sig_len))\n",
    "    #-------------------------------/\n",
    "\n",
    "    # get Mel spectrogram\n",
    "    top_db = 80\n",
    "    melSpec = torchaudio.transforms.MelSpectrogram(sr, n_mels=n_mels, normalized=True, **kwargs)(sig)\n",
    "    melSpec = torchaudio.transforms.AmplitudeToDB(top_db=top_db)(melSpec)\n",
    "\n",
    "    # Image Augmentation    --------\\\n",
    "    if do_augmentation == True:\n",
    "        # Apply time and frequency mask\n",
    "        max_mask_pct=0.1\n",
    "        n_steps = melSpec.shape[2]\n",
    "        mask_value = melSpec.mean()\n",
    "        for i in range(n_freq_masks):\n",
    "            melSpec = torchaudio.transforms.FrequencyMasking(max_mask_pct * n_mels)(melSpec, mask_value)\n",
    "        for i in range(n_time_masks):\n",
    "            melSpec = torchaudio.transforms.TimeMasking(max_mask_pct * n_steps)(melSpec, mask_value)\n",
    "    #-------------------------------/\n",
    "\n",
    "    out = melSpec.numpy()\n",
    "    e3, e2, e1 = out.shape\n",
    "    out = out.reshape(e2,e1)\n",
    "    \n",
    "    return out\n",
    "\n",
    "# function that wraps preprocessAudio() so that it can be passed as the preProcessor function when creating a DataGenerator object\n",
    "def wrap_preprocessAudio(audio_path):\n",
    "    return preprocessAudio(audio_path, duration=20)"
   ]
  },
  {
   "cell_type": "code",
   "execution_count": 4,
   "metadata": {},
   "outputs": [],
   "source": [
    "def splitDataframe(df, split_ratio=0.8):\n",
    "    total_size = df.height\n",
    "    train_size = round(split_ratio * total_size)\n",
    "    test_size = total_size - train_size\n",
    "\n",
    "    df = df.sample(frac=1.0, shuffle=True)\n",
    "    trainSet = df.head(train_size)\n",
    "    testSet = df.tail(test_size)\n",
    "    return trainSet, testSet"
   ]
  },
  {
   "cell_type": "code",
   "execution_count": 5,
   "metadata": {},
   "outputs": [],
   "source": [
    "import numpy as np\n",
    "import keras, keras.utils\n",
    "\n",
    "class DataGenerator(keras.utils.Sequence):\n",
    "    # data is represented as a sequence of batches\n",
    "    # preProcessor = function that takes path to audio file as input and returns numpy array storing signal to be inputted to model\n",
    "    def __init__(self, audioPaths, labels, preProcessor, batchSize = 32, shuffle=True):\n",
    "        self.audioPaths = audioPaths\n",
    "        self.labels = labels\n",
    "        self.preProcessor = preProcessor\n",
    "        self.batchSize = batchSize\n",
    "        self.shuffle = shuffle\n",
    "        self.classes = np.unique(self.labels)\n",
    "        self.numClasses = len(self.classes)\n",
    "        self.on_epoch_end()\n",
    "\n",
    "    def __len__(self):\n",
    "        # Get total number of batches\n",
    "        return int(np.floor(len(self.audioPaths) / self.batchSize))\n",
    "\n",
    "    def __getitem__(self, index):\n",
    "        # Get the batch at position 'index'\n",
    "        batch = self.batches[index]\n",
    "        # Apply preprocessing function to audio file paths and get the labels\n",
    "        X = np.array([self.preProcessor(self.audioPaths[x]) for x in batch])\n",
    "        Y = np.array([self.labels[x] for x in batch])\n",
    "        return X, Y\n",
    "\n",
    "    def on_epoch_end(self):\n",
    "        # Get array of indices used to access data\n",
    "        dataIndices = np.arange(len(self)*self.batchSize)\n",
    "        if self.shuffle == True:\n",
    "            np.random.shuffle(dataIndices)\n",
    "        # Reshape into an array of batches, where each batch is an array of indices used to access data\n",
    "        self.batches = np.reshape(dataIndices, (len(self), self.batchSize))\n"
   ]
  },
  {
   "cell_type": "code",
   "execution_count": 6,
   "metadata": {},
   "outputs": [
    {
     "name": "stdout",
     "output_type": "stream",
     "text": [
      "loading data from save file:  cache/ingested_data.json\n"
     ]
    }
   ],
   "source": [
    "#load data from dataframe\n",
    "data_dir = \"data/raw_training/training_data/\"\n",
    "target_label = 'murmur_in_recording'\n",
    "df = (\n",
    "    ip.loadTrainingData(data_dir)\n",
    "    .filter(pl.col(target_label) != 'Unknown')\n",
    "    .pipe(ip.encodeData)\n",
    "    .select([\n",
    "        pl.col('audio_file').apply(lambda x: os.path.join(data_dir, x)),\n",
    "        pl.col(target_label)\n",
    "    ])\n",
    ")"
   ]
  },
  {
   "cell_type": "code",
   "execution_count": 7,
   "metadata": {},
   "outputs": [
    {
     "name": "stdout",
     "output_type": "stream",
     "text": [
      "Total Samples:        5328\n",
      "Positive Samples:     2664\n",
      "Negative Samples:     2664\n",
      "Percent Positive Samples:     0.5\n"
     ]
    }
   ],
   "source": [
    "#balance the data so that there is an equal number of murmur positive and murmur negative samples\n",
    "#do this by duplicating random rows of whichever group (pos or neg) is smaller\n",
    "neg_df = df.filter(pl.col(target_label)==0.0)\n",
    "pos_df = df.filter(pl.col(target_label)==1.0)\n",
    "numNeg = neg_df.height\n",
    "numPos = pos_df.height\n",
    "\n",
    "while numNeg != numPos:\n",
    "    if numNeg < numPos:\n",
    "        df.vstack(neg_df.sample(n=min(numPos-numNeg, neg_df.height), shuffle=True), in_place=True)\n",
    "    else: \n",
    "        df.vstack(pos_df.sample(n=min(numNeg-numPos, pos_df.height), shuffle=True), in_place=True)\n",
    "    numNeg = df.filter(pl.col(target_label)==0.0).height\n",
    "    numPos = df.filter(pl.col(target_label)==1.0).height\n",
    "\n",
    "#reshuffle rows\n",
    "df = df.sample(frac=1.0, shuffle=True)\n",
    "\n",
    "#check number of positive and negative samples\n",
    "numNeg = df.filter(pl.col(target_label)==0.0).height\n",
    "numPos = df.filter(pl.col(target_label)==1.0).height\n",
    "print('Total Samples:       ', df.height)\n",
    "print('Positive Samples:    ', numPos)\n",
    "print('Negative Samples:    ', numNeg)\n",
    "print('Percent Positive Samples:    ', numPos/(numPos+numNeg))\n",
    "\n",
    "\n",
    "# method 2:\n",
    "\n",
    "# #balance the data so that there is an equal number of murmur positive and murmur negative samples\n",
    "# #do this by duplicating random rows of whichever group (pos or neg) is smaller\n",
    "# neg_df = df.filter(pl.col(target_label)==0.0)\n",
    "# pos_df = df.filter(pl.col(target_label)==1.0)\n",
    "# numNeg = neg_df.height\n",
    "# numPos = pos_df.height\n",
    "\n",
    "# if numNeg < numPos:\n",
    "#     df = neg_df.vstack(pos_df.sample(n=numNeg))\n",
    "# elif numPos < numNeg:\n",
    "#     df = pos_df.vstack(neg_df.sample(n=numPos))\n",
    "# else:\n",
    "#     df = neg_df.vstack(pos_df)\n",
    "\n",
    "# #reshuffle rows\n",
    "# df = df.sample(frac=1.0, shuffle=True)\n",
    "\n",
    "# #check number of positive and negative samples\n",
    "# numNeg = df.filter(pl.col(target_label)==0.0).height\n",
    "# numPos = df.filter(pl.col(target_label)==1.0).height\n",
    "# print('Total Samples:       ', df.height)\n",
    "# print('Positive Samples:    ', numPos)\n",
    "# print('Negative Samples:    ', numNeg)\n",
    "# print('Percent Positive Samples:    ', numPos/(numPos+numNeg))"
   ]
  },
  {
   "cell_type": "code",
   "execution_count": 8,
   "metadata": {},
   "outputs": [],
   "source": [
    "train_df, test_df = splitDataframe(df, split_ratio=0.8)\n",
    "# train_df, val_df = splitDataframe(train_df, split_ratio=0.7/0.8)\n",
    "classes = df.get_column(target_label).unique().to_list()\n",
    "\n",
    "batch_size = 32\n",
    "preProcessor = wrap_preprocessAudio\n",
    "\n",
    "train_gen = DataGenerator(\n",
    "    audioPaths=train_df.get_column('audio_file').to_list(),\n",
    "    labels=train_df.get_column(target_label).to_list(),\n",
    "    preProcessor=preProcessor,\n",
    "    batchSize=batch_size\n",
    ")\n",
    "test_gen = DataGenerator(\n",
    "    audioPaths=test_df.get_column('audio_file').to_list(),\n",
    "    labels=test_df.get_column(target_label).to_list(),\n",
    "    preProcessor=preProcessor,\n",
    "    batchSize=batch_size\n",
    ")\n",
    "# val_gen = DataGenerator(\n",
    "#     audioPaths=val_df.get_column('audio_file').to_list(),\n",
    "#     labels=val_df.get_column(target_label).to_list(),\n",
    "#     preProcessor=preProcessor,\n",
    "#     batchSize=batch_size\n",
    "# )\n"
   ]
  },
  {
   "cell_type": "code",
   "execution_count": 9,
   "metadata": {},
   "outputs": [
    {
     "name": "stderr",
     "output_type": "stream",
     "text": [
      "2022-07-26 11:08:58.581852: I tensorflow/core/platform/cpu_feature_guard.cc:193] This TensorFlow binary is optimized with oneAPI Deep Neural Network Library (oneDNN) to use the following CPU instructions in performance-critical operations:  AVX2 AVX512F AVX512_VNNI FMA\n",
      "To enable them in other operations, rebuild TensorFlow with the appropriate compiler flags.\n",
      "2022-07-26 11:08:59.196388: I tensorflow/core/common_runtime/gpu/gpu_device.cc:1532] Created device /job:localhost/replica:0/task:0/device:GPU:0 with 30980 MB memory:  -> device: 0, name: Quadro GV100, pci bus id: 0000:3b:00.0, compute capability: 7.0\n"
     ]
    },
    {
     "name": "stdout",
     "output_type": "stream",
     "text": [
      "Epoch 1/25\n"
     ]
    },
    {
     "name": "stderr",
     "output_type": "stream",
     "text": [
      "2022-07-26 11:09:03.013239: I tensorflow/stream_executor/cuda/cuda_dnn.cc:384] Loaded cuDNN version 8401\n",
      "2022-07-26 11:09:03.639514: I tensorflow/core/platform/default/subprocess.cc:304] Start cannot spawn child process: No such file or directory\n"
     ]
    },
    {
     "name": "stdout",
     "output_type": "stream",
     "text": [
      "133/133 [==============================] - 27s 177ms/step - loss: 30.6635 - accuracy: 0.5472 - val_loss: 0.6616 - val_accuracy: 0.5975\n",
      "Epoch 2/25\n",
      "133/133 [==============================] - 24s 175ms/step - loss: 0.6612 - accuracy: 0.5829 - val_loss: 0.6467 - val_accuracy: 0.5975\n",
      "Epoch 3/25\n",
      "133/133 [==============================] - 24s 174ms/step - loss: 0.6491 - accuracy: 0.6093 - val_loss: 0.6421 - val_accuracy: 0.6259\n",
      "Epoch 4/25\n",
      "133/133 [==============================] - 24s 176ms/step - loss: 0.6460 - accuracy: 0.6182 - val_loss: 0.6429 - val_accuracy: 0.6259\n",
      "Epoch 5/25\n",
      "133/133 [==============================] - 24s 176ms/step - loss: 0.6406 - accuracy: 0.6224 - val_loss: 0.6133 - val_accuracy: 0.6591\n",
      "Epoch 6/25\n",
      "133/133 [==============================] - 24s 175ms/step - loss: 0.6154 - accuracy: 0.6586 - val_loss: 0.5816 - val_accuracy: 0.6780\n",
      "Epoch 7/25\n",
      "133/133 [==============================] - 24s 174ms/step - loss: 0.6062 - accuracy: 0.6579 - val_loss: 0.5763 - val_accuracy: 0.6884\n",
      "Epoch 8/25\n",
      "133/133 [==============================] - 24s 174ms/step - loss: 0.6007 - accuracy: 0.6614 - val_loss: 0.5594 - val_accuracy: 0.6828\n",
      "Epoch 9/25\n",
      "133/133 [==============================] - 24s 175ms/step - loss: 0.5843 - accuracy: 0.6835 - val_loss: 0.5420 - val_accuracy: 0.7150\n",
      "Epoch 10/25\n",
      "133/133 [==============================] - 24s 176ms/step - loss: 0.5732 - accuracy: 0.6859 - val_loss: 0.5330 - val_accuracy: 0.7150\n",
      "Epoch 11/25\n",
      "133/133 [==============================] - 24s 175ms/step - loss: 0.5766 - accuracy: 0.6880 - val_loss: 0.5971 - val_accuracy: 0.6733\n",
      "Epoch 12/25\n",
      "133/133 [==============================] - 24s 176ms/step - loss: 0.5488 - accuracy: 0.7122 - val_loss: 0.5036 - val_accuracy: 0.7348\n",
      "Epoch 13/25\n",
      "133/133 [==============================] - 24s 174ms/step - loss: 0.5376 - accuracy: 0.7220 - val_loss: 0.5012 - val_accuracy: 0.7462\n",
      "Epoch 14/25\n",
      "133/133 [==============================] - 24s 175ms/step - loss: 0.5311 - accuracy: 0.7206 - val_loss: 0.4800 - val_accuracy: 0.7566\n",
      "Epoch 15/25\n",
      "133/133 [==============================] - 24s 173ms/step - loss: 0.5202 - accuracy: 0.7263 - val_loss: 0.5018 - val_accuracy: 0.7339\n",
      "Epoch 16/25\n",
      "133/133 [==============================] - 28s 206ms/step - loss: 0.5038 - accuracy: 0.7460 - val_loss: 0.4818 - val_accuracy: 0.7481\n",
      "Epoch 17/25\n",
      "133/133 [==============================] - 24s 176ms/step - loss: 0.5055 - accuracy: 0.7533 - val_loss: 0.4921 - val_accuracy: 0.7424\n",
      "Epoch 18/25\n",
      "133/133 [==============================] - 24s 175ms/step - loss: 0.5114 - accuracy: 0.7375 - val_loss: 0.4871 - val_accuracy: 0.7434\n",
      "Epoch 19/25\n",
      "133/133 [==============================] - 24s 175ms/step - loss: 0.4972 - accuracy: 0.7458 - val_loss: 0.4715 - val_accuracy: 0.7680\n",
      "Epoch 20/25\n",
      "133/133 [==============================] - 24s 175ms/step - loss: 0.5009 - accuracy: 0.7495 - val_loss: 0.4781 - val_accuracy: 0.7680\n",
      "Epoch 21/25\n",
      "133/133 [==============================] - 24s 175ms/step - loss: 0.4964 - accuracy: 0.7601 - val_loss: 0.4821 - val_accuracy: 0.7528\n",
      "Epoch 22/25\n",
      "133/133 [==============================] - 24s 176ms/step - loss: 0.4881 - accuracy: 0.7505 - val_loss: 0.4660 - val_accuracy: 0.7746\n",
      "Epoch 23/25\n",
      "133/133 [==============================] - 24s 176ms/step - loss: 0.4713 - accuracy: 0.7683 - val_loss: 0.4504 - val_accuracy: 0.7775\n",
      "Epoch 24/25\n",
      "133/133 [==============================] - 24s 176ms/step - loss: 0.4782 - accuracy: 0.7639 - val_loss: 0.4693 - val_accuracy: 0.7708\n",
      "Epoch 25/25\n",
      "133/133 [==============================] - 24s 176ms/step - loss: 0.4764 - accuracy: 0.7648 - val_loss: 0.4724 - val_accuracy: 0.7661\n"
     ]
    }
   ],
   "source": [
    "#keras script\n",
    "\n",
    "import numpy as np\n",
    "\n",
    "from keras.models import Sequential\n",
    "from tensorflow.keras import datasets, layers, models\n",
    "\n",
    "\n",
    "examplePath = os.path.join(data_dir, '85349_TV.wav')\n",
    "example = preProcessor(examplePath)\n",
    "h, w = example.shape\n",
    "\n",
    "# Design model\n",
    "model = Sequential()\n",
    "\n",
    "# Arcitecture\n",
    "model.add(layers.Conv2D(32, (3, 3), activation='relu', input_shape=(h, w, 1)))\n",
    "model.add(layers.Conv2D(32, (3, 3), activation='relu'))\n",
    "model.add(layers.Flatten())\n",
    "model.add(layers.Dense(256, activation='relu'))\n",
    "model.add(layers.Dense(128, activation='relu'))\n",
    "model.add(layers.Dense(64, activation='relu'))\n",
    "model.add(layers.Dense(32, activation='relu'))\n",
    "model.add(layers.Dense(1, activation='sigmoid'))\n",
    "\n",
    "model.compile(optimizer='adam', loss='bce', metrics=['accuracy'])\n",
    "\n",
    "# Train model on dataset\n",
    "history = model.fit(x=train_gen, validation_data=test_gen, workers=8, epochs=25)"
   ]
  },
  {
   "cell_type": "code",
   "execution_count": 12,
   "metadata": {},
   "outputs": [
    {
     "data": {
      "image/png": "[encoded data removed]",
      "text/plain": [
       "<Figure size 432x288 with 1 Axes>"
      ]
     },
     "metadata": {
      "needs_background": "light"
     },
     "output_type": "display_data"
    }
   ],
   "source": [
    "plt.title('Loss')\n",
    "plt.plot(history.history['loss'], label='train', color='red')\n",
    "plt.plot(history.history['val_loss'], label='test', color='blue')\n",
    "plt.legend()\n",
    "plt.show()"
   ]
  },
  {
   "cell_type": "code",
   "execution_count": 13,
   "metadata": {},
   "outputs": [
    {
     "data": {
      "image/png": "[encoded data removed]",
      "text/plain": [
       "<Figure size 432x288 with 1 Axes>"
      ]
     },
     "metadata": {
      "needs_background": "light"
     },
     "output_type": "display_data"
    }
   ],
   "source": [
    "plt.title('Accuracy')\n",
    "plt.plot(history.history['accuracy'], label='train', color='red')\n",
    "plt.plot(history.history['val_accuracy'], label='test', color='blue')\n",
    "plt.legend()\n",
    "plt.show()"
   ]
  }
 ],
 "metadata": {
  "kernelspec": {
   "display_name": "Python 3.8.10 64-bit",
   "language": "python",
   "name": "python3"
  },
  "language_info": {
   "codemirror_mode": {
    "name": "ipython",
    "version": 3
   },
   "file_extension": ".py",
   "mimetype": "text/x-python",
   "name": "python",
   "nbconvert_exporter": "python",
   "pygments_lexer": "ipython3",
   "version": "3.8.10"
  },
  "orig_nbformat": 4,
  "vscode": {
   "interpreter": {
    "hash": "916dbcbb3f70747c44a77c7bcd40155683ae19c65e1c03b4aa3499c5328201f1"
   }
  }
 },
 "nbformat": 4,
 "nbformat_minor": 2
}
