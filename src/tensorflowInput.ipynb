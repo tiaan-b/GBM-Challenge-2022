{
 "cells": [
  {
   "cell_type": "code",
   "execution_count": 2,
   "metadata": {},
   "outputs": [],
   "source": [
    "import os\n",
    "os.environ['TF_GPU_THREAD_MODE'] = 'gpu_private'\n",
    "\n",
    "import polars as pl\n",
    "import librosa\n",
    "import librosa.display\n",
    "import matplotlib.pyplot as plt\n",
    "import helpers.input_processor as ip\n",
    "import tqdm\n",
    "import tensorflow as tf\n",
    "from tensorflow.data import Dataset as tfds\n",
    "import tensorflow_io as tfio\n",
    "import math, random\n",
    "import numpy as np\n",
    "\n",
    "from matplotlib import pyplot as plt\n",
    "import tensorflow.python.util as util"
   ]
  },
  {
   "cell_type": "code",
   "execution_count": 3,
   "metadata": {},
   "outputs": [
    {
     "name": "stderr",
     "output_type": "stream",
     "text": [
      "/home/tiaan/.local/lib/python3.8/site-packages/tqdm/auto.py:22: TqdmWarning: IProgress not found. Please update jupyter and ipywidgets. See https://ipywidgets.readthedocs.io/en/stable/user_install.html\n",
      "  from .autonotebook import tqdm as notebook_tqdm\n"
     ]
    }
   ],
   "source": [
    "import torch\n",
    "import torchaudio\n",
    "import polars as pl\n",
    "import matplotlib.pyplot as plt\n",
    "import os\n",
    "import numpy as np\n",
    "import tqdm\n",
    "from torchaudio import transforms\n",
    "from IPython.display import Audio\n",
    "import math, random\n",
    "\n",
    "import helpers.input_processor as ip"
   ]
  },
  {
   "cell_type": "code",
   "execution_count": 4,
   "metadata": {},
   "outputs": [],
   "source": [
    "from datetime import datetime\n",
    "from packaging import version\n",
    "# pip install -U tensorboard_plugin_profile"
   ]
  },
  {
   "cell_type": "code",
   "execution_count": 5,
   "metadata": {},
   "outputs": [
    {
     "name": "stdout",
     "output_type": "stream",
     "text": [
      "1 Physical GPUs, 1 Logical GPUs\n"
     ]
    },
    {
     "name": "stderr",
     "output_type": "stream",
     "text": [
      "2022-08-22 20:14:04.483539: I tensorflow/core/platform/cpu_feature_guard.cc:193] This TensorFlow binary is optimized with oneAPI Deep Neural Network Library (oneDNN) to use the following CPU instructions in performance-critical operations:  AVX2 AVX512F AVX512_VNNI FMA\n",
      "To enable them in other operations, rebuild TensorFlow with the appropriate compiler flags.\n",
      "2022-08-22 20:14:05.106411: I tensorflow/core/common_runtime/gpu/gpu_device.cc:1532] Created device /job:localhost/replica:0/task:0/device:GPU:0 with 30980 MB memory:  -> device: 0, name: Quadro GV100, pci bus id: 0000:3b:00.0, compute capability: 7.0\n"
     ]
    }
   ],
   "source": [
    "gpus = tf.config.list_physical_devices('GPU')\n",
    "if gpus:\n",
    "  try:\n",
    "    # Currently, memory growth needs to be the same across GPUs\n",
    "    for gpu in gpus:\n",
    "      tf.config.experimental.set_memory_growth(gpu, True)\n",
    "    logical_gpus = tf.config.list_logical_devices('GPU')\n",
    "    print(len(gpus), \"Physical GPUs,\", len(logical_gpus), \"Logical GPUs\")\n",
    "  except RuntimeError as e:\n",
    "    # Memory growth must be set before GPUs have been initialized\n",
    "    print(e)"
   ]
  },
  {
   "cell_type": "code",
   "execution_count": 6,
   "metadata": {},
   "outputs": [],
   "source": [
    "def balanceData(df, method):\n",
    "    if method==1:\n",
    "        #balance the data so that there is an equal number of murmur positive and murmur negative samples\n",
    "        #do this by duplicating random rows of whichever group (pos or neg) is smaller\n",
    "        neg_df = df.filter(pl.col('label')==0.0)\n",
    "        pos_df = df.filter(pl.col('label')==1.0)\n",
    "        numNeg = neg_df.height\n",
    "        numPos = pos_df.height\n",
    "\n",
    "        while numNeg != numPos:\n",
    "            if numNeg < numPos:\n",
    "                df.vstack(neg_df.sample(n=min(numPos-numNeg, neg_df.height), shuffle=True), in_place=True)\n",
    "            else: \n",
    "                df.vstack(pos_df.sample(n=min(numNeg-numPos, pos_df.height), shuffle=True), in_place=True)\n",
    "            numNeg = df.filter(pl.col('label')==0.0).height\n",
    "            numPos = df.filter(pl.col('label')==1.0).height\n",
    "\n",
    "        #reshuffle rows\n",
    "        df = df.sample(frac=1.0, shuffle=True)\n",
    "\n",
    "        #check number of positive and negative samples\n",
    "        numNeg = df.filter(pl.col('label')==0.0).height\n",
    "        numPos = df.filter(pl.col('label')==1.0).height\n",
    "        print('Total Samples:       ', df.height)\n",
    "        print('Positive Samples:    ', numPos)\n",
    "        print('Negative Samples:    ', numNeg)\n",
    "        print('Percent Positive Samples:    ', numPos/(numPos+numNeg))\n",
    "    elif method==2:\n",
    "        #balance the data so that there is an equal number of murmur positive and murmur negative samples\n",
    "        #do this by filtering out rows of whichever group (pos or neg) is larger\n",
    "        neg_df = df.filter(pl.col('label')==0.0)\n",
    "        pos_df = df.filter(pl.col('label')==1.0)\n",
    "        numNeg = neg_df.height\n",
    "        numPos = pos_df.height\n",
    "\n",
    "        if numNeg < numPos:\n",
    "            df = neg_df.vstack(pos_df.sample(n=numNeg))\n",
    "        elif numPos < numNeg:\n",
    "            df = pos_df.vstack(neg_df.sample(n=numPos))\n",
    "        else:\n",
    "            df = neg_df.vstack(pos_df)\n",
    "\n",
    "        #reshuffle rows\n",
    "        df = df.sample(frac=1.0, shuffle=True)\n",
    "\n",
    "        #check number of positive and negative samples\n",
    "        numNeg = df.filter(pl.col('label')==0.0).height\n",
    "        numPos = df.filter(pl.col('label')==1.0).height\n",
    "        print('Total Samples:       ', df.height)\n",
    "        print('Positive Samples:    ', numPos)\n",
    "        print('Negative Samples:    ', numNeg)\n",
    "        print('Percent Positive Samples:    ', numPos/(numPos+numNeg))\n",
    "    else:\n",
    "        raise Exception(f'Received unexpected input to \\'method\\' parameter: {method}')\n",
    "\n",
    "    return df"
   ]
  },
  {
   "cell_type": "code",
   "execution_count": 7,
   "metadata": {},
   "outputs": [
    {
     "name": "stdout",
     "output_type": "stream",
     "text": [
      "loading data from save file:  cache/ingested_data.json\n",
      "Training Set Original Size, Batches:      2278, 36\n",
      "Validation Set Original Size, Batches:    569, 9\n",
      "Testing Set Original Size, Batches:       316, 5\n",
      "Total Samples:        3836\n",
      "Positive Samples:     1918\n",
      "Negative Samples:     1918\n",
      "Percent Positive Samples:     0.5\n",
      "Total Samples:        958\n",
      "Positive Samples:     479\n",
      "Negative Samples:     479\n",
      "Percent Positive Samples:     0.5\n",
      "Total Samples:        534\n",
      "Positive Samples:     267\n",
      "Negative Samples:     267\n",
      "Percent Positive Samples:     0.5\n",
      "Training Set Final Size, Batches:      3836, 60\n",
      "Validation Set Final Size, Batches:    958, 15\n",
      "Testing Set Final Size, Batches:       534, 9\n",
      "Datasets are unique\n",
      "Datasets are unique\n",
      "Datasets are unique\n"
     ]
    }
   ],
   "source": [
    "BATCH_SIZE = 64\n",
    "NUM_EPOCHS = 20\n",
    "H = 128\n",
    "W = 313\n",
    "DEVICE = 'gpu'\n",
    "\n",
    "#load data from dataframe\n",
    "data_dir = \"data/raw_training/training_data/\"\n",
    "df = (\n",
    "    ip.loadTrainingData(data_dir)\n",
    "    .filter(pl.col('murmur_in_recording') != 'Unknown')\n",
    "    .pipe(ip.encodeData)\n",
    "    .select([\n",
    "        pl.col('audio_file').apply(lambda x: os.path.join(data_dir, x)).alias('sample'),\n",
    "        pl.col('murmur_in_recording').alias('label')\n",
    "    ])\n",
    ")\n",
    "\n",
    "# Shuffle data\n",
    "df = df.sample(frac=1.0, shuffle=True)\n",
    "\n",
    "# Split data into training, validation, and testing sets\n",
    "train_df, test_df = ip.splitDataframe(df, split_ratio=0.9)\n",
    "train_df, val_df = ip.splitDataframe(train_df, split_ratio=0.8)\n",
    "\n",
    "numTrainBatches = math.ceil(train_df.height / BATCH_SIZE)\n",
    "numValBatches = math.ceil(val_df.height / BATCH_SIZE)\n",
    "numTestBatches = math.ceil(test_df.height / BATCH_SIZE)\n",
    "print(f'Training Set Original Size, Batches:      {train_df.height}, {numTrainBatches}')\n",
    "print(f'Validation Set Original Size, Batches:    {val_df.height}, {numValBatches}')\n",
    "print(f'Testing Set Original Size, Batches:       {test_df.height}, {numTestBatches}')\n",
    "\n",
    "# Balance data so there is an equal number of murmur present and murmur absent samples\n",
    "train_df = balanceData(train_df, 1)\n",
    "val_df = balanceData(val_df, 1)\n",
    "test_df = balanceData(test_df, 1)\n",
    "\n",
    "numTrainBatches = math.ceil(train_df.height / BATCH_SIZE)\n",
    "numValBatches = math.ceil(val_df.height / BATCH_SIZE)\n",
    "numTestBatches = math.ceil(test_df.height / BATCH_SIZE)\n",
    "print(f'Training Set Final Size, Batches:      {train_df.height}, {numTrainBatches}')\n",
    "print(f'Validation Set Final Size, Batches:    {val_df.height}, {numValBatches}')\n",
    "print(f'Testing Set Final Size, Batches:       {test_df.height}, {numTestBatches}')\n",
    "\n",
    "# check that sets are unique\n",
    "for set1, set2 in [[train_df, val_df], [train_df, test_df], [val_df, test_df]]:\n",
    "    col1 = set1.get_column('sample')\n",
    "    col2 = set2.get_column('sample')\n",
    "    overlap = col1.is_in(col2)\n",
    "    if overlap.any():\n",
    "        print(col1.len(), col2.len())\n",
    "        print(overlap.value_counts())\n",
    "        raise Exception(\n",
    "            'Training, validation, and/or testing sets are not unique.' +\n",
    "            f' Number of overlaps: {col1.filter(overlap).len()}'\n",
    "        )\n",
    "    else:\n",
    "        print('Datasets are unique')"
   ]
  },
  {
   "cell_type": "code",
   "execution_count": 8,
   "metadata": {},
   "outputs": [],
   "source": [
    "from ctypes.wintypes import FLOAT\n",
    "from nvidia.dali import pipeline_def\n",
    "import nvidia.dali.fn as fn\n",
    "import nvidia.dali.types as types\n",
    "import nvidia.dali.plugin.tf as dali_tf\n",
    "\n",
    "#prefetch_queue_depth=2*BATCH_SIZE, num_threads=4\n",
    "@pipeline_def(device_id=0, batch_size=BATCH_SIZE)\n",
    "def pipe(audioPaths, labels, device, sr=4000, duration=20, augmentData=True):\n",
    "    # Load audio files\n",
    "    encoded, labelsOut = fn.readers.file(files=audioPaths, labels=labels, shuffle_after_epoch=True)\n",
    "    audio, _ = fn.decoders.audio(encoded, sample_rate=sr)\n",
    "    if device=='gpu':\n",
    "        labelsOut = labelsOut.gpu()\n",
    "\n",
    "    # Resize samples to uniform length, either by padding it with silence or truncating it\n",
    "    trimmedSize = duration*sr\n",
    "    originalSize = fn.shapes(audio)[0]\n",
    "    anchorBounds = fn.cat(fn.reshape(fn.cast(originalSize-trimmedSize, dtype=types.FLOAT), shape=[1]), fn.constant(fdata=0.1, dtype=types.FLOAT))\n",
    "    anchorRange = fn.cat(fn.reductions.min(anchorBounds, axes=0, keep_dims=True), fn.reductions.max(anchorBounds, axes=0, keep_dims=True))\n",
    "    anchor = fn.random.uniform(range=anchorRange, dtype=types.INT32)\n",
    "    if device=='gpu':\n",
    "        audio = audio.gpu()\n",
    "    trimmedAudio = fn.slice(audio, anchor, trimmedSize, axes=0, out_of_bounds_policy='pad')\n",
    "\n",
    "    # Time shift signal to the left or right by a random percent of its original length (max 99%)\n",
    "    #   NOT IMPLEMENTED \n",
    "    # breakpoint = fn.random.uniform(range=(0.,1.))\n",
    "    # head = fn.slice\n",
    "\n",
    "    # Get mel spectrogram\n",
    "    spec = fn.spectrogram(trimmedAudio, device=device)\n",
    "    melSpec = fn.mel_filter_bank(spec, sample_rate=sr, nfilter=128)\n",
    "    melSpec = fn.to_decibels(melSpec, multiplier=10.0, cutoff_db=-80)\n",
    "\n",
    "    if augmentData==True:\n",
    "        # Apply time and frequency masking\n",
    "        # Normalize mel Spectrograms to have 0 mean value\n",
    "        # Thus setting maskValue=0 is equivalent to setting it to the mean value\n",
    "        melSpec = fn.normalize(melSpec)\n",
    "        maskValue = 0.\n",
    "        melSpec = fn.erase(melSpec, axes=0, fill_value=maskValue, anchor=fn.random.uniform(range=(0.,1.)), shape=fn.random.uniform(range=(0.,0.1)), normalized=True, device=device)\n",
    "        melSpec = fn.erase(melSpec, axes=1, fill_value=maskValue, anchor=fn.random.uniform(range=(0.,1.)), shape=fn.random.uniform(range=(0.,0.1)), normalized=True, device=device)\n",
    "        # normalized = fn.normalize(melSpec)\n",
    "        samplesOut = melSpec\n",
    "    else:\n",
    "        samplesOut = melSpec\n",
    "\n",
    "    return samplesOut, labelsOut\n"
   ]
  },
  {
   "cell_type": "code",
   "execution_count": 9,
   "metadata": {},
   "outputs": [],
   "source": [
    "# p = pipe(audioPaths=df.head(10).get_column('sample').to_list(),\n",
    "#             labels=df.head(10).get_column('label').to_list(),\n",
    "#             device='cpu',\n",
    "#             num_threads=1,\n",
    "#             augmentData=True)\n",
    "# p.build()\n",
    "# cpu_output = p.run()\n",
    "\n",
    "# print(cpu_output[0])\n",
    "\n",
    "# import librosa\n",
    "# spectrogram_dali = cpu_output[0].at(4)\n",
    "# # print(spectrogram_dali)\n",
    "# librosa.display.specshow(spectrogram_dali, sr=4000, x_axis='time', y_axis='linear')\n",
    "# plt.colorbar(format='%+2.0f dB')\n",
    "# plt.tight_layout()\n",
    "# plt.show()\n",
    "\n",
    "# # out1 = cpu_output[0].at(3)\n",
    "# # out2 = cpu_output[1].at(3)\n",
    "# # out1 = out1.flatten()\n",
    "# # out2 = out2.flatten()\n",
    "# # print(out1, out2)\n",
    "# # fig = plt.figure(figsize=(10,10))\n",
    "# # ax1 = fig.add_subplot(2, 1, 1)\n",
    "# # ax2 = fig.add_subplot(2, 1, 2, sharex=ax1)\n",
    "# # ax1.plot(out1)\n",
    "# # ax2.plot(out2)\n",
    "# # plt.show()\n",
    "\n",
    "# print((cpu_output[0].at(4)))"
   ]
  },
  {
   "cell_type": "code",
   "execution_count": 10,
   "metadata": {},
   "outputs": [],
   "source": [
    "import keras\n",
    "# Creates DALIDataset objects from training, validation, and testing dataframes\n",
    "# train_df, val_df, test_df: training, validation, and testing sets stored as polars dataframes\n",
    "def getPipelines(train_df, val_df, test_df, device) -> 'tuple[keras.callbacks.History]':\n",
    "    # Define shapes and types of the outputs\n",
    "    shapes = ((BATCH_SIZE, H, W), (BATCH_SIZE))\n",
    "    dtypes = (tf.float32, tf.int32)\n",
    "\n",
    "    # Create pipelines\n",
    "    train_pipe = pipe(audioPaths=train_df.get_column('sample').to_list(),\n",
    "                      labels=train_df.get_column('label').to_list(),\n",
    "                      device=device)\n",
    "    val_pipe = pipe(audioPaths=val_df.get_column('sample').to_list(),\n",
    "                    labels=val_df.get_column('label').to_list(),\n",
    "                    device=device)            \n",
    "    test_pipe = pipe(audioPaths=test_df.get_column('sample').to_list(),\n",
    "                     labels=test_df.get_column('label').to_list(),\n",
    "                     device=device)\n",
    "\n",
    "    # Create datasets\n",
    "    kwargs = dict(batch_size=BATCH_SIZE,\n",
    "                  output_shapes=shapes,\n",
    "                  output_dtypes=dtypes,\n",
    "                  device_id=0,\n",
    "                  prefetch_queue_depth=4,\n",
    "                  num_threads=4,\n",
    "                  exec_separated=True)\n",
    "    train_set = dali_tf.DALIDataset(pipeline=train_pipe, **kwargs)\n",
    "    val_set = dali_tf.DALIDataset(pipeline=val_pipe, **kwargs)\n",
    "    test_set = dali_tf.DALIDataset(pipeline=test_pipe, **kwargs)\n",
    "\n",
    "    return train_set, val_set, test_set"
   ]
  },
  {
   "cell_type": "code",
   "execution_count": 11,
   "metadata": {},
   "outputs": [],
   "source": [
    "from keras.models import Sequential\n",
    "from keras import datasets, layers, models\n",
    "\n",
    "from keras.optimizers import Adam\n",
    "\n",
    "# Trains a Keras model on the specified data\n",
    "# model: uncompiled keras model\n",
    "# train_set, val_set: training and validation sets as DALI Datasets\n",
    "def trainModel(model, train_set, val_set):\n",
    "    # Compile Model\n",
    "    optimizer = Adam(learning_rate=0.0005)\n",
    "    model.compile(optimizer=optimizer, loss='bce', metrics=['accuracy'])\n",
    "    # model.summary()\n",
    "\n",
    "    # # Create a TensorBoard callback\n",
    "    # logs = \"logs/\" + datetime.now().strftime(\"%Y%m%d-%H%M%S\")\n",
    "    # tboard_callback = tf.keras.callbacks.TensorBoard(log_dir = logs, histogram_freq = 1, profile_batch = '10,15')\n",
    "\n",
    "    # Train model on dataset\n",
    "    history = model.fit(\n",
    "        x=train_set,\n",
    "        validation_data=val_set,\n",
    "        epochs=NUM_EPOCHS,\n",
    "        steps_per_epoch=int(numTrainBatches*0.9),\n",
    "        validation_steps=int(numValBatches*0.9),\n",
    "        # callbacks=tboard_callback\n",
    "    )\n",
    "\n",
    "    return history"
   ]
  },
  {
   "cell_type": "code",
   "execution_count": 12,
   "metadata": {},
   "outputs": [],
   "source": [
    "def printMetrics(history):\n",
    "    #Adapted from Deep Learning with Python by Francois Chollet, 2018\n",
    "    history_dict=history.history\n",
    "    loss_values=history_dict['loss']\n",
    "    acc_values=history_dict['accuracy']\n",
    "    val_loss_values = history_dict['val_loss']\n",
    "    val_acc_values=history_dict['val_accuracy']\n",
    "    epochs=range(1,NUM_EPOCHS+1)\n",
    "    fig,(ax1,ax2)=plt.subplots(1,2,figsize=(15,5))\n",
    "    ax1.plot(epochs,loss_values,'bo',label='Training Loss')\n",
    "    ax1.plot(epochs,val_loss_values,'orange', label='Validation Loss')\n",
    "    ax1.set_title('Training and validation loss')\n",
    "    ax1.set_xlabel('Epochs')\n",
    "    ax1.set_ylabel('Loss')\n",
    "    ax1.legend()\n",
    "    ax2.plot(epochs,acc_values,'bo', label='Training accuracy')\n",
    "    ax2.plot(epochs,val_acc_values,'orange',label='Validation accuracy')\n",
    "    ax2.set_title('Training and validation accuracy')\n",
    "    ax2.set_xlabel('Epochs')\n",
    "    ax2.set_ylabel('Accuracy')\n",
    "    ax2.legend()\n",
    "    plt.show()"
   ]
  },
  {
   "cell_type": "code",
   "execution_count": 13,
   "metadata": {},
   "outputs": [],
   "source": [
    "\n",
    "# train_pipe.build()\n",
    "# train_pipe.save_graph_to_dot_file('DALIgraph2.dot', use_colors=True, show_ids=False, show_tensors=True)"
   ]
  },
  {
   "cell_type": "code",
   "execution_count": 27,
   "metadata": {},
   "outputs": [
    {
     "name": "stdout",
     "output_type": "stream",
     "text": [
      "Epoch 1/20\n",
      "54/54 [==============================] - 5s 71ms/step - loss: 0.6940 - accuracy: 0.4994 - val_loss: 0.6920 - val_accuracy: 0.5048\n",
      "Epoch 2/20\n",
      "54/54 [==============================] - 4s 69ms/step - loss: 0.6861 - accuracy: 0.5269 - val_loss: 0.6749 - val_accuracy: 0.6130\n",
      "Epoch 3/20\n",
      "54/54 [==============================] - 4s 71ms/step - loss: 0.6437 - accuracy: 0.6247 - val_loss: 0.5984 - val_accuracy: 0.6707\n",
      "Epoch 4/20\n",
      "54/54 [==============================] - 4s 71ms/step - loss: 0.5767 - accuracy: 0.6950 - val_loss: 0.4910 - val_accuracy: 0.7873\n",
      "Epoch 5/20\n",
      "54/54 [==============================] - 4s 70ms/step - loss: 0.4731 - accuracy: 0.7731 - val_loss: 0.5058 - val_accuracy: 0.7452\n",
      "Epoch 6/20\n",
      "54/54 [==============================] - 4s 71ms/step - loss: 0.4410 - accuracy: 0.8084 - val_loss: 0.4019 - val_accuracy: 0.8149\n",
      "Epoch 7/20\n",
      "54/54 [==============================] - 4s 71ms/step - loss: 0.4169 - accuracy: 0.8119 - val_loss: 0.3944 - val_accuracy: 0.8209\n",
      "Epoch 8/20\n",
      "54/54 [==============================] - 4s 71ms/step - loss: 0.4043 - accuracy: 0.8261 - val_loss: 0.3594 - val_accuracy: 0.8353\n",
      "Epoch 9/20\n",
      "54/54 [==============================] - 4s 70ms/step - loss: 0.3765 - accuracy: 0.8351 - val_loss: 0.3866 - val_accuracy: 0.8209\n",
      "Epoch 10/20\n",
      "54/54 [==============================] - 4s 71ms/step - loss: 0.3893 - accuracy: 0.8293 - val_loss: 0.3482 - val_accuracy: 0.8474\n",
      "Epoch 11/20\n",
      "54/54 [==============================] - 4s 71ms/step - loss: 0.3629 - accuracy: 0.8458 - val_loss: 0.3157 - val_accuracy: 0.8594\n",
      "Epoch 12/20\n",
      "54/54 [==============================] - 4s 70ms/step - loss: 0.3431 - accuracy: 0.8568 - val_loss: 0.3258 - val_accuracy: 0.8582\n",
      "Epoch 13/20\n",
      "54/54 [==============================] - 4s 71ms/step - loss: 0.3031 - accuracy: 0.8753 - val_loss: 0.3052 - val_accuracy: 0.8630\n",
      "Epoch 14/20\n",
      "54/54 [==============================] - 4s 71ms/step - loss: 0.3226 - accuracy: 0.8655 - val_loss: 0.3413 - val_accuracy: 0.8365\n",
      "Epoch 15/20\n",
      "54/54 [==============================] - 4s 71ms/step - loss: 0.3032 - accuracy: 0.8756 - val_loss: 0.3123 - val_accuracy: 0.8678\n",
      "Epoch 16/20\n",
      "54/54 [==============================] - 4s 71ms/step - loss: 0.2822 - accuracy: 0.8802 - val_loss: 0.3422 - val_accuracy: 0.8522\n",
      "Epoch 17/20\n",
      "54/54 [==============================] - 4s 71ms/step - loss: 0.3014 - accuracy: 0.8808 - val_loss: 0.2965 - val_accuracy: 0.8810\n",
      "Epoch 18/20\n",
      "54/54 [==============================] - 4s 71ms/step - loss: 0.2752 - accuracy: 0.8817 - val_loss: 0.2914 - val_accuracy: 0.8798\n",
      "Epoch 19/20\n",
      "54/54 [==============================] - 4s 71ms/step - loss: 0.2757 - accuracy: 0.8831 - val_loss: 0.2862 - val_accuracy: 0.8798\n",
      "Epoch 20/20\n",
      "54/54 [==============================] - 4s 71ms/step - loss: 0.2521 - accuracy: 0.8984 - val_loss: 0.2846 - val_accuracy: 0.8774\n"
     ]
    },
    {
     "data": {
      "image/png": "[encoded data removed]",
      "text/plain": [
       "<Figure size 1080x360 with 2 Axes>"
      ]
     },
     "metadata": {
      "needs_background": "light"
     },
     "output_type": "display_data"
    }
   ],
   "source": [
    "#keras script\n",
    "\n",
    "import numpy as np\n",
    "from keras.models import Sequential\n",
    "from keras import datasets, layers, models\n",
    "\n",
    "with tf.device('/gpu:0' if DEVICE=='gpu' else '/cpu:0'):\n",
    "    train_set, val_set, test_set = getPipelines(train_df, val_df, test_df, device=DEVICE)\n",
    "\n",
    "    # Design model\n",
    "    input_shape = (H, W, 1) # 128,313,1\n",
    "    model = Sequential()\n",
    "\n",
    "    #example sequence: conv, batchNorm, pool\n",
    "\n",
    "    # Arcitecture\n",
    "    # model.add(layers.Conv2D(8, (3,3), activation='relu', input_shape=input_shape, padding='same'))\n",
    "    # model.add(layers.MaxPool2D(pool_size=(2,2), strides=2))\n",
    "    # model.add(layers.Conv2D(16, (5,5), activation='relu'))\n",
    "    # model.add(layers.MaxPool2D(pool_size=(2,2), strides=2))\n",
    "    # model.add(layers.Conv2D(32, (5,5), activation='relu'))\n",
    "    # model.add(layers.MaxPool2D(pool_size=(2,2), strides=2))\n",
    "    # model.add(layers.Conv2D(64, (5,5), activation='relu'))\n",
    "    # model.add(layers.MaxPool2D(pool_size=(2,2), strides=2))\n",
    "    # model.add(layers.Flatten())\n",
    "    # model.add(layers.Dense(128, activation='relu'))\n",
    "    # model.add(layers.Dense(64, activation='relu'))\n",
    "    # model.add(layers.Dense(32, activation='relu'))\n",
    "    # model.add(layers.Dense(1, activation='sigmoid'))\n",
    "\n",
    "\n",
    "\n",
    "    # model.add(layers.Conv2D(32, (3,3), activation='relu', input_shape=input_shape))\n",
    "    # model.add(layers.MaxPool2D((2,2)))\n",
    "    # # model.add(layers.Dropout(0.2))\n",
    "    # # model.add(layers.Conv2D(32, (3,3), activation='relu'))\n",
    "    # # model.add(layers.MaxPool2D((2,2)))\n",
    "    # # model.add(layers.Dropout(0.2))\n",
    "    # model.add(layers.Conv2D(64, (3,3), activation='relu'))\n",
    "    # model.add(layers.MaxPool2D((2,2)))\n",
    "    # # model.add(layers.Dropout(0.2))\n",
    "    # model.add(layers.Flatten())\n",
    "    # # model.add(layers.Dense(64, activation='relu'))\n",
    "    # # model.add(layers.Dropout(0.5))\n",
    "    # model.add(layers.Dense(128, activation='relu'))\n",
    "    # model.add(layers.Dropout(0.1))\n",
    "    # model.add(layers.Dense(1, activation='sigmoid'))\n",
    "\n",
    "\n",
    "\n",
    "    model.add(layers.Conv2D(32, (3,3), activation='relu', input_shape=input_shape))\n",
    "    model.add(layers.Conv2D(32, (3,3), activation='relu'))\n",
    "    model.add(layers.MaxPool2D((2,2)))\n",
    "    # model.add(layers.Dropout(0.2))\n",
    "    model.add(layers.Conv2D(64, (3,3), activation='relu'))\n",
    "    model.add(layers.Conv2D(64, (3,3), activation='relu'))\n",
    "    # model.add(layers.BatchNormalization())\n",
    "    model.add(layers.MaxPool2D((2,2)))\n",
    "    model.add(layers.Conv2D(128, (3,3), activation='relu', input_shape=input_shape))\n",
    "    model.add(layers.Conv2D(128, (3,3), activation='relu'))\n",
    "    model.add(layers.MaxPool2D((2,2)))\n",
    "    # model.add(layers.Dropout(0.5))\n",
    "    model.add(layers.Flatten())\n",
    "    model.add(layers.Dense(128, activation='relu'))\n",
    "    model.add(layers.Dropout(0.4))\n",
    "    model.add(layers.Dense(64, activation='relu'))\n",
    "    model.add(layers.Dropout(0.1))\n",
    "    model.add(layers.Dense(32, activation='relu'))\n",
    "    model.add(layers.Dense(1, activation='sigmoid'))\n",
    "\n",
    "    # model.add(layers.Conv2D(120, (11,11), strides=(4,4), activation='relu', input_shape=input_shape))\n",
    "    # model.add(layers.MaxPool2D((3,3), strides=2))\n",
    "    # model.add(layers.Conv2D(256, (5,5), activation='relu'))\n",
    "    # model.add(layers.Conv2D(384, (3,3), activation='relu'))\n",
    "    # model.add(layers.Flatten())\n",
    "    # model.add(layers.Dense(128, activation='relu'))\n",
    "    # # model.add(layers.Dropout(0.5))\n",
    "    # # model.add(layers.Dense(2048, activation='relu'))\n",
    "    # # model.add(layers.Dropout(0.5))\n",
    "    # model.add(layers.Dense(1, activation='sigmoid'))\n",
    "    \n",
    "    # Compile Model\n",
    "    optimizer = Adam(learning_rate=0.0001)\n",
    "    model.compile(optimizer=optimizer, loss='bce', metrics=['accuracy'])\n",
    "    # model.summary()\n",
    "\n",
    "    # # Create a TensorBoard callback\n",
    "    # logs = \"logs/\" + datetime.now().strftime(\"%Y%m%d-%H%M%S\")\n",
    "    # tboard_callback = tf.keras.callbacks.TensorBoard(log_dir = logs, histogram_freq = 1, profile_batch = '10,15')\n",
    "\n",
    "    # Train model on dataset\n",
    "    history = model.fit(\n",
    "        x=train_set,\n",
    "        validation_data=val_set,\n",
    "        epochs=NUM_EPOCHS,\n",
    "        steps_per_epoch=int(numTrainBatches*0.9),\n",
    "        validation_steps=int(numValBatches*0.9),\n",
    "        # callbacks=tboard_callback\n",
    "    )\n",
    "\n",
    "    printMetrics(history)"
   ]
  },
  {
   "cell_type": "code",
   "execution_count": 15,
   "metadata": {},
   "outputs": [
    {
     "name": "stdout",
     "output_type": "stream",
     "text": [
      "Model: \"sequential\"\n",
      "_________________________________________________________________\n",
      " Layer (type)                Output Shape              Param #   \n",
      "=================================================================\n",
      " conv2d (Conv2D)             (None, 126, 311, 32)      320       \n",
      "                                                                 \n",
      " conv2d_1 (Conv2D)           (None, 124, 309, 32)      9248      \n",
      "                                                                 \n",
      " max_pooling2d (MaxPooling2D  (None, 62, 154, 32)      0         \n",
      " )                                                               \n",
      "                                                                 \n",
      " conv2d_2 (Conv2D)           (None, 60, 152, 64)       18496     \n",
      "                                                                 \n",
      " conv2d_3 (Conv2D)           (None, 58, 150, 64)       36928     \n",
      "                                                                 \n",
      " batch_normalization (BatchN  (None, 58, 150, 64)      256       \n",
      " ormalization)                                                   \n",
      "                                                                 \n",
      " max_pooling2d_1 (MaxPooling  (None, 29, 75, 64)       0         \n",
      " 2D)                                                             \n",
      "                                                                 \n",
      " flatten (Flatten)           (None, 139200)            0         \n",
      "                                                                 \n",
      " dense (Dense)               (None, 128)               17817728  \n",
      "                                                                 \n",
      " dropout (Dropout)           (None, 128)               0         \n",
      "                                                                 \n",
      " dense_1 (Dense)             (None, 64)                8256      \n",
      "                                                                 \n",
      " dropout_1 (Dropout)         (None, 64)                0         \n",
      "                                                                 \n",
      " dense_2 (Dense)             (None, 32)                2080      \n",
      "                                                                 \n",
      " dense_3 (Dense)             (None, 1)                 33        \n",
      "                                                                 \n",
      "=================================================================\n",
      "Total params: 17,893,345\n",
      "Trainable params: 17,893,217\n",
      "Non-trainable params: 128\n",
      "_________________________________________________________________\n"
     ]
    }
   ],
   "source": [
    "model.summary()"
   ]
  },
  {
   "cell_type": "code",
   "execution_count": 26,
   "metadata": {},
   "outputs": [
    {
     "name": "stdout",
     "output_type": "stream",
     "text": [
      "9/9 [==============================] - 0s 17ms/step - loss: 0.4495 - accuracy: 0.8194\n"
     ]
    },
    {
     "data": {
      "text/plain": [
       "[0.44952064752578735, 0.8194444179534912]"
      ]
     },
     "execution_count": 26,
     "metadata": {},
     "output_type": "execute_result"
    }
   ],
   "source": [
    "model.evaluate(test_set, steps=numTestBatches)"
   ]
  },
  {
   "cell_type": "code",
   "execution_count": 17,
   "metadata": {},
   "outputs": [
    {
     "data": {
      "image/png": "[encoded data removed]",
      "text/plain": [
       "<Figure size 432x288 with 1 Axes>"
      ]
     },
     "metadata": {
      "needs_background": "light"
     },
     "output_type": "display_data"
    }
   ],
   "source": [
    "plt.title('Loss')\n",
    "plt.plot(history.history['loss'], label='train', color='red')\n",
    "plt.plot(history.history['val_loss'], label='test', color='blue')\n",
    "plt.legend()\n",
    "plt.show()"
   ]
  },
  {
   "cell_type": "code",
   "execution_count": 18,
   "metadata": {},
   "outputs": [
    {
     "data": {
      "image/png": "[encoded data removed]",
      "text/plain": [
       "<Figure size 432x288 with 1 Axes>"
      ]
     },
     "metadata": {
      "needs_background": "light"
     },
     "output_type": "display_data"
    }
   ],
   "source": [
    "plt.title('Accuracy')\n",
    "plt.plot(history.history['accuracy'], label='train', color='red')\n",
    "plt.plot(history.history['val_accuracy'], label='test', color='blue')\n",
    "plt.legend()\n",
    "plt.show()"
   ]
  },
  {
   "cell_type": "code",
   "execution_count": 19,
   "metadata": {},
   "outputs": [],
   "source": [
    "# Load the TensorBoard notebook extension.\n",
    "%load_ext tensorboard\n"
   ]
  },
  {
   "cell_type": "code",
   "execution_count": 20,
   "metadata": {},
   "outputs": [
    {
     "data": {
      "text/plain": [
       "Reusing TensorBoard on port 6006 (pid 4137063), started 6 days, 6:25:35 ago. (Use '!kill 4137063' to kill it.)"
      ]
     },
     "metadata": {},
     "output_type": "display_data"
    },
    {
     "data": {
      "text/html": [
       "\n",
       "      <iframe id=\"tensorboard-frame-ecda554f73f49ded\" width=\"100%\" height=\"800\" frameborder=\"0\">\n",
       "      </iframe>\n",
       "      <script>\n",
       "        (function() {\n",
       "          const frame = document.getElementById(\"tensorboard-frame-ecda554f73f49ded\");\n",
       "          const url = new URL(\"http://localhost\");\n",
       "          const port = 6006;\n",
       "          if (port) {\n",
       "            url.port = port;\n",
       "          }\n",
       "          frame.src = url;\n",
       "        })();\n",
       "      </script>\n",
       "    "
      ],
      "text/plain": [
       "<IPython.core.display.HTML object>"
      ]
     },
     "metadata": {},
     "output_type": "display_data"
    }
   ],
   "source": [
    "# Launch TensorBoard and navigate to the Profile tab to view performance profile\n",
    "%tensorboard --logdir=logs"
   ]
  }
 ],
 "metadata": {
  "kernelspec": {
   "display_name": "Python 3.8.10 64-bit",
   "language": "python",
   "name": "python3"
  },
  "language_info": {
   "codemirror_mode": {
    "name": "ipython",
    "version": 3
   },
   "file_extension": ".py",
   "mimetype": "text/x-python",
   "name": "python",
   "nbconvert_exporter": "python",
   "pygments_lexer": "ipython3",
   "version": "3.8.10"
  },
  "orig_nbformat": 4,
  "vscode": {
   "interpreter": {
    "hash": "31f2aee4e71d21fbe5cf8b01ff0e069b9275f58929596ceb00d14d90e3e16cd6"
   }
  }
 },
 "nbformat": 4,
 "nbformat_minor": 2
}
