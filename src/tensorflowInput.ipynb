{
 "cells": [
  {
   "cell_type": "code",
   "execution_count": 1,
   "metadata": {},
   "outputs": [
    {
     "name": "stderr",
     "output_type": "stream",
     "text": [
      "2022-08-04 19:49:02.790031: I tensorflow/core/util/util.cc:169] oneDNN custom operations are on. You may see slightly different numerical results due to floating-point round-off errors from different computation orders. To turn them off, set the environment variable `TF_ENABLE_ONEDNN_OPTS=0`.\n"
     ]
    }
   ],
   "source": [
    "import os\n",
    "os.environ['TF_GPU_THREAD_MODE'] = 'gpu_private'\n",
    "\n",
    "import polars as pl\n",
    "import librosa\n",
    "import librosa.display\n",
    "import matplotlib.pyplot as plt\n",
    "from tensorflow.keras.layers import LSTM, Dense\n",
    "import helpers.input_processor as ip\n",
    "import tqdm\n",
    "import tensorflow as tf\n",
    "from tensorflow.data import Dataset as tfds\n",
    "import tensorflow_io as tfio\n",
    "import math, random\n",
    "import numpy as np\n",
    "\n",
    "from matplotlib import pyplot as plt\n",
    "import tensorflow.python.util as util"
   ]
  },
  {
   "cell_type": "code",
   "execution_count": 2,
   "metadata": {},
   "outputs": [
    {
     "name": "stderr",
     "output_type": "stream",
     "text": [
      "/home/tiaan/.local/lib/python3.8/site-packages/tqdm/auto.py:22: TqdmWarning: IProgress not found. Please update jupyter and ipywidgets. See https://ipywidgets.readthedocs.io/en/stable/user_install.html\n",
      "  from .autonotebook import tqdm as notebook_tqdm\n"
     ]
    }
   ],
   "source": [
    "import torch\n",
    "import torchaudio\n",
    "import polars as pl\n",
    "import matplotlib.pyplot as plt\n",
    "import os\n",
    "import numpy as np\n",
    "import tqdm\n",
    "from torchaudio import transforms\n",
    "from IPython.display import Audio\n",
    "import math, random\n",
    "\n",
    "import helpers.input_processor as ip"
   ]
  },
  {
   "cell_type": "code",
   "execution_count": 3,
   "metadata": {},
   "outputs": [],
   "source": [
    "from datetime import datetime\n",
    "from packaging import version\n",
    "# pip install -U tensorboard_plugin_profile"
   ]
  },
  {
   "cell_type": "code",
   "execution_count": 4,
   "metadata": {},
   "outputs": [],
   "source": [
    "# audio_path = path to audio file\n",
    "# samp_rate = sample rate of the signal\n",
    "# duration = length of time (in seconds) to which the signal is resized\n",
    "# do_augmentation = whether to perform audio and image augmentation on the signal\n",
    "# n_freq_masks = number of frequency masks\n",
    "# n_time_masks = number of time masks\n",
    "# n_mels = number of frequency bands (ie. Mel bins)\n",
    "# **kwargs = keyword arguments passed to transforms.MelSpectrogram()\n",
    "def preprocessAudio(audio_path, samp_rate=4000, duration=25, do_augmentation=True, n_freq_masks=1, n_time_masks=1, n_mels=128, **kwargs):\n",
    "    # read and load audio file in .wav format\n",
    "    sig, sr = torchaudio.load(audio_path, normalize=True)\n",
    "    sr = samp_rate\n",
    "\n",
    "    # Check that audio is mono (has 1 audio channel)\n",
    "    num_channels = sig.shape[0]\n",
    "    if num_channels != 1:\n",
    "        raise Exception('The provided audio file \\'%s\\' has %s channels, when 1 was expected' % (audio_path, num_channels))\n",
    "    \n",
    "    # resize sample, either by padding it with silence or truncating it\n",
    "    num_rows, sig_len = sig.shape\n",
    "    max_len = sr * duration\n",
    "    if (sig_len > max_len):\n",
    "        # Truncate the signal to the given length\n",
    "        start = random.randint(0, sig_len - max_len)\n",
    "        sig = sig[:, start : start + max_len]\n",
    "    elif (sig_len < max_len):\n",
    "        # Pad with zeroes at the beginning and end of the signal\n",
    "        pad_begin_len = random.randint(0, max_len - sig_len)\n",
    "        pad_end_len = max_len - sig_len - pad_begin_len\n",
    "        pad_begin = torch.zeros((num_rows, pad_begin_len))\n",
    "        pad_end = torch.zeros((num_rows, pad_end_len))\n",
    "        sig = torch.cat((pad_begin, sig, pad_end), 1)\n",
    "\n",
    "    # Audio Augmentation    --------\\\n",
    "    if do_augmentation == True:\n",
    "        # time shift signal to the left or right by a random percent of its original length (max 99%)\n",
    "        _, sig_len = sig.shape\n",
    "        max_shift = 0.99\n",
    "        sig = sig.roll(int(random.random() * max_shift * sig_len))\n",
    "    #-------------------------------/\n",
    "\n",
    "    # get Mel spectrogram\n",
    "    top_db = 80\n",
    "    melSpec = torchaudio.transforms.MelSpectrogram(sr, n_mels=n_mels, normalized=True, **kwargs)(sig)\n",
    "    melSpec = torchaudio.transforms.AmplitudeToDB(top_db=top_db)(melSpec)\n",
    "\n",
    "    # Image Augmentation    --------\\\n",
    "    if do_augmentation == True:\n",
    "        # Apply time and frequency mask\n",
    "        max_mask_pct=0.1\n",
    "        n_steps = melSpec.shape[2]\n",
    "        mask_value = melSpec.mean()\n",
    "        for i in range(n_freq_masks):\n",
    "            melSpec = torchaudio.transforms.FrequencyMasking(max_mask_pct * n_mels)(melSpec, mask_value)\n",
    "        for i in range(n_time_masks):\n",
    "            melSpec = torchaudio.transforms.TimeMasking(max_mask_pct * n_steps)(melSpec, mask_value)\n",
    "    #-------------------------------/\n",
    "\n",
    "    out = melSpec.numpy()\n",
    "    e3, e2, e1 = out.shape\n",
    "    out = out.reshape(e2,e1)\n",
    "    \n",
    "    return out"
   ]
  },
  {
   "cell_type": "code",
   "execution_count": 5,
   "metadata": {},
   "outputs": [],
   "source": [
    "def splitDataframe(df, split_ratio=0.8):\n",
    "    total_size = df.height\n",
    "    train_size = round(split_ratio * total_size)\n",
    "    test_size = total_size - train_size\n",
    "\n",
    "    df = df.sample(frac=1.0, shuffle=True)\n",
    "    trainSet = df.head(train_size)\n",
    "    testSet = df.tail(test_size)\n",
    "    return trainSet, testSet"
   ]
  },
  {
   "cell_type": "code",
   "execution_count": 6,
   "metadata": {},
   "outputs": [],
   "source": [
    "class DataGenerator():\n",
    "    # audioPaths    ordered list of paths to audio files\n",
    "    # labels        ordered list of labels\n",
    "    # preProcessor  method that accepts the path to an audio file as its only parameter and returns a 2 dimensional numpy array representing the audio (ie. spectrogram)\n",
    "    def __init__(self, audioPaths, labels, preProcessor):\n",
    "        self.audioPaths = audioPaths\n",
    "        self.labels = labels\n",
    "        self.preProcessor = preProcessor\n",
    "        \n",
    "        self.xType = tf.float32 # The type of the value returned by preProcessor (TODO: implement function to set this automatically)\n",
    "        self.yType = tf.float32 # The type of an element in labels\n",
    "        self.xShape = self.preProcessor(self.audioPaths[0]).shape   # The shape of the value returned by preProcessor\n",
    "        self.yShape = []    # The shape of an element in labels\n",
    "\n",
    "    def __len__(self):\n",
    "        return len(self.audioPaths)\n",
    "\n",
    "    def generator(self):\n",
    "        indices = np.arange(len(self.audioPaths))\n",
    "        np.random.shuffle(indices)\n",
    "        for x in indices:\n",
    "            yield x\n",
    "\n",
    "    # Wraps preProcessor function to enable mapping to tf.data.Dataset object\n",
    "    def wrappedPreProcessor(self, index):\n",
    "        # index = tf.cast(index, tf.int32)\n",
    "        x = tf.py_function(lambda i: self.preProcessor(self.audioPaths[i]), inp=[index], Tout=self.xType)\n",
    "        x.set_shape(self.xShape)\n",
    "        y = tf.py_function(lambda i: self.labels[i], inp=[index], Tout=self.yType)\n",
    "        y.set_shape(self.yShape)\n",
    "        return x, y"
   ]
  },
  {
   "cell_type": "code",
   "execution_count": 7,
   "metadata": {},
   "outputs": [
    {
     "name": "stdout",
     "output_type": "stream",
     "text": [
      "loading data from save file:  cache/ingested_data.json\n"
     ]
    }
   ],
   "source": [
    "#load data from dataframe\n",
    "data_dir = \"data/raw_training/training_data/\"\n",
    "target_label = 'murmur_in_recording'\n",
    "df = (\n",
    "    ip.loadTrainingData(data_dir)\n",
    "    .filter(pl.col(target_label) != 'Unknown')\n",
    "    .pipe(ip.encodeData)\n",
    "    .select([\n",
    "        pl.col('audio_file').apply(lambda x: os.path.join(data_dir, x)),\n",
    "        pl.col(target_label)\n",
    "    ])\n",
    ")"
   ]
  },
  {
   "cell_type": "code",
   "execution_count": 8,
   "metadata": {},
   "outputs": [
    {
     "name": "stdout",
     "output_type": "stream",
     "text": [
      "Total Samples:        5328\n",
      "Positive Samples:     2664\n",
      "Negative Samples:     2664\n",
      "Percent Positive Samples:     0.5\n"
     ]
    }
   ],
   "source": [
    "#balance the data so that there is an equal number of murmur positive and murmur negative samples\n",
    "#do this by duplicating random rows of whichever group (pos or neg) is smaller\n",
    "neg_df = df.filter(pl.col(target_label)==0.0)\n",
    "pos_df = df.filter(pl.col(target_label)==1.0)\n",
    "numNeg = neg_df.height\n",
    "numPos = pos_df.height\n",
    "\n",
    "while numNeg != numPos:\n",
    "    if numNeg < numPos:\n",
    "        df.vstack(neg_df.sample(n=min(numPos-numNeg, neg_df.height), shuffle=True), in_place=True)\n",
    "    else: \n",
    "        df.vstack(pos_df.sample(n=min(numNeg-numPos, pos_df.height), shuffle=True), in_place=True)\n",
    "    numNeg = df.filter(pl.col(target_label)==0.0).height\n",
    "    numPos = df.filter(pl.col(target_label)==1.0).height\n",
    "\n",
    "#reshuffle rows\n",
    "df = df.sample(frac=1.0, shuffle=True)\n",
    "\n",
    "#check number of positive and negative samples\n",
    "numNeg = df.filter(pl.col(target_label)==0.0).height\n",
    "numPos = df.filter(pl.col(target_label)==1.0).height\n",
    "print('Total Samples:       ', df.height)\n",
    "print('Positive Samples:    ', numPos)\n",
    "print('Negative Samples:    ', numNeg)\n",
    "print('Percent Positive Samples:    ', numPos/(numPos+numNeg))\n",
    "\n",
    "\n",
    "# method 2:\n",
    "\n",
    "# #balance the data so that there is an equal number of murmur positive and murmur negative samples\n",
    "# #do this by duplicating random rows of whichever group (pos or neg) is smaller\n",
    "# neg_df = df.filter(pl.col(target_label)==0.0)\n",
    "# pos_df = df.filter(pl.col(target_label)==1.0)\n",
    "# numNeg = neg_df.height\n",
    "# numPos = pos_df.height\n",
    "\n",
    "# if numNeg < numPos:\n",
    "#     df = neg_df.vstack(pos_df.sample(n=numNeg))\n",
    "# elif numPos < numNeg:\n",
    "#     df = pos_df.vstack(neg_df.sample(n=numPos))\n",
    "# else:\n",
    "#     df = neg_df.vstack(pos_df)\n",
    "\n",
    "# #reshuffle rows\n",
    "# df = df.sample(frac=1.0, shuffle=True)\n",
    "\n",
    "# #check number of positive and negative samples\n",
    "# numNeg = df.filter(pl.col(target_label)==0.0).height\n",
    "# numPos = df.filter(pl.col(target_label)==1.0).height\n",
    "# print('Total Samples:       ', df.height)\n",
    "# print('Positive Samples:    ', numPos)\n",
    "# print('Negative Samples:    ', numNeg)\n",
    "# print('Percent Positive Samples:    ', numPos/(numPos+numNeg))"
   ]
  },
  {
   "cell_type": "code",
   "execution_count": 9,
   "metadata": {},
   "outputs": [
    {
     "name": "stdout",
     "output_type": "stream",
     "text": [
      "Training Set Size:  4262\n",
      "Testing Set Size:   1066\n"
     ]
    },
    {
     "name": "stderr",
     "output_type": "stream",
     "text": [
      "2022-08-04 19:49:05.630240: I tensorflow/core/platform/cpu_feature_guard.cc:193] This TensorFlow binary is optimized with oneAPI Deep Neural Network Library (oneDNN) to use the following CPU instructions in performance-critical operations:  AVX2 AVX512F AVX512_VNNI FMA\n",
      "To enable them in other operations, rebuild TensorFlow with the appropriate compiler flags.\n",
      "2022-08-04 19:49:06.245297: I tensorflow/core/common_runtime/gpu/gpu_device.cc:1532] Created device /job:localhost/replica:0/task:0/device:GPU:0 with 354 MB memory:  -> device: 0, name: Quadro GV100, pci bus id: 0000:3b:00.0, compute capability: 7.0\n"
     ]
    }
   ],
   "source": [
    "# function that wraps preprocessAudio() so that it can be passed as the preProcessor function when creating a DataGenerator object\n",
    "def wrap_preprocessAudio(audio_path):\n",
    "    return preprocessAudio(audio_path, duration=20)\n",
    "\n",
    "batch_size = 20\n",
    "num_epochs = 3\n",
    "preProcessor = wrap_preprocessAudio\n",
    "\n",
    "# #duplicate dataframe to get more data\n",
    "# df = df.vstack(df.select(pl.all()))\n",
    "train_df, test_df = splitDataframe(df, split_ratio=0.8)\n",
    "classes = df.get_column(target_label).unique().to_list()\n",
    "print(f'Training Set Size:  {train_df.height}')\n",
    "print(f'Testing Set Size:   {test_df.height}')\n",
    "\n",
    "# Data preperation pipeline\n",
    "def pipeline(df, batch_size, preProcessor, target_label):\n",
    "    gen = DataGenerator(audioPaths=df.get_column('audio_file').to_list(),\n",
    "                        labels=df.get_column(target_label).to_list(),\n",
    "                        preProcessor=preProcessor)\n",
    "    ds = tf.data.Dataset.from_generator(gen.generator, output_signature=tf.TensorSpec(shape=(), dtype=tf.int32))\n",
    "    ds = ds.map(gen.wrappedPreProcessor, num_parallel_calls=tf.data.AUTOTUNE)\n",
    "    ds = ds.batch(batch_size)\n",
    "    # ds = ds.cache()\n",
    "    # ds = ds.shuffle(buffer_size=math.ceil(len(gen)/batch_size), reshuffle_each_iteration=True)\n",
    "    ds = ds.prefetch(tf.data.AUTOTUNE)\n",
    "    return ds\n",
    "\n",
    "# Prepare training and testing data\n",
    "train_ds = pipeline(train_df, batch_size=batch_size, preProcessor=preProcessor, target_label=target_label)\n",
    "test_ds = pipeline(test_df, batch_size=batch_size, preProcessor=preProcessor, target_label=target_label)\n"
   ]
  },
  {
   "cell_type": "code",
   "execution_count": 10,
   "metadata": {},
   "outputs": [],
   "source": [
    "# from nvidia.dali import pipeline_def\n",
    "# import nvidia.dali.fn as fn\n",
    "# import nvidia.dali.types as types\n",
    "\n",
    "# BATCH_SIZE = 16\n",
    "# NUM_EPOCHS = 5\n",
    "\n",
    "# @pipeline_def(batch_size=BATCH_SIZE)\n",
    "# def pipe(audioPaths, labels, device):\n",
    "#     DURATION = 20\n",
    "#     # Load audio files\n",
    "#     encoded, labelsOut = fn.readers.file(files=audioPaths, labels=labels)\n",
    "#     audio, sr = fn.decoders.audio(encoded, dtype=types.INT16)\n",
    "#     # Resize samples to uniform length, either by padding it with silence or truncating it\n",
    "#     trimmedSize = DURATION*sr\n",
    "#     audio = fn.crop(audio, crop=(1, trimmedSize), crop_pos_x=fn.random.uniform(range=(0.,1.)), out_of_bounds_policy='pad')\n",
    "#     # Time shift signal to the left or right by a random percent of its original length (max 99%)\n",
    "#     #   NOT IMPLEMENTED \n",
    "#     # Get mel spectrogram\n",
    "#     spec = fn.spectrogram(audio)\n",
    "#     melSpec = fn.mel_filter_bank(spec, sample_rate=sr, nfilter=128)\n",
    "#     melSpec = fn.to_decibels(melSpec, multiplier=10.0)\n",
    "#     # Apply time and frequency masking\n",
    "#     maskValue = fn.reductions.mean(melSpec)\n",
    "#     timeAxis, freqAxis = 'W', 'H'\n",
    "#     melSpec = fn.erase(melSpec, axes_names=timeAxis, fill_value=maskValue, anchor=fn.random.uniform(range=(0.,1.)), shape=fn.random.uniform(range=(0.,0.1)), normalized=True)\n",
    "#     melSpec = fn.erase(melSpec, axes_names=freqAxis, fill_value=maskValue, anchor=fn.random.uniform(range=(0.,1.)), shape=fn.random.uniform(range=(0.,0.1)), normalized=True)\n",
    "\n",
    "#     return melSpec, labelsOut\n"
   ]
  },
  {
   "cell_type": "code",
   "execution_count": 12,
   "metadata": {},
   "outputs": [
    {
     "name": "stderr",
     "output_type": "stream",
     "text": [
      "2022-08-04 19:54:44.890355: W tensorflow/core/common_runtime/bfc_allocator.cc:479] Allocator (GPU_0_bfc) ran out of memory trying to allocate 769.19MiB (rounded to 806551552)requested by op RandomUniform\n",
      "If the cause is memory fragmentation maybe the environment variable 'TF_GPU_ALLOCATOR=cuda_malloc_async' will improve the situation. \n",
      "Current allocation summary follows.\n",
      "Current allocation summary follows.\n",
      "2022-08-04 19:54:44.890435: I tensorflow/core/common_runtime/bfc_allocator.cc:1027] BFCAllocator dump for GPU_0_bfc\n",
      "2022-08-04 19:54:44.890469: I tensorflow/core/common_runtime/bfc_allocator.cc:1034] Bin (256): \tTotal Chunks: 17, Chunks in use: 17. 4.2KiB allocated for chunks. 4.2KiB in use in bin. 573B client-requested in use in bin.\n",
      "2022-08-04 19:54:44.890492: I tensorflow/core/common_runtime/bfc_allocator.cc:1034] Bin (512): \tTotal Chunks: 0, Chunks in use: 0. 0B allocated for chunks. 0B in use in bin. 0B client-requested in use in bin.\n",
      "2022-08-04 19:54:44.890515: I tensorflow/core/common_runtime/bfc_allocator.cc:1034] Bin (1024): \tTotal Chunks: 3, Chunks in use: 3. 3.8KiB allocated for chunks. 3.8KiB in use in bin. 3.3KiB client-requested in use in bin.\n",
      "2022-08-04 19:54:44.890534: I tensorflow/core/common_runtime/bfc_allocator.cc:1034] Bin (2048): \tTotal Chunks: 1, Chunks in use: 0. 2.5KiB allocated for chunks. 0B in use in bin. 0B client-requested in use in bin.\n",
      "2022-08-04 19:54:44.890552: I tensorflow/core/common_runtime/bfc_allocator.cc:1034] Bin (4096): \tTotal Chunks: 0, Chunks in use: 0. 0B allocated for chunks. 0B in use in bin. 0B client-requested in use in bin.\n",
      "2022-08-04 19:54:44.890571: I tensorflow/core/common_runtime/bfc_allocator.cc:1034] Bin (8192): \tTotal Chunks: 0, Chunks in use: 0. 0B allocated for chunks. 0B in use in bin. 0B client-requested in use in bin.\n",
      "2022-08-04 19:54:44.890589: I tensorflow/core/common_runtime/bfc_allocator.cc:1034] Bin (16384): \tTotal Chunks: 0, Chunks in use: 0. 0B allocated for chunks. 0B in use in bin. 0B client-requested in use in bin.\n",
      "2022-08-04 19:54:44.890612: I tensorflow/core/common_runtime/bfc_allocator.cc:1034] Bin (32768): \tTotal Chunks: 3, Chunks in use: 2. 108.0KiB allocated for chunks. 72.0KiB in use in bin. 72.0KiB client-requested in use in bin.\n",
      "2022-08-04 19:54:44.890633: I tensorflow/core/common_runtime/bfc_allocator.cc:1034] Bin (65536): \tTotal Chunks: 1, Chunks in use: 0. 68.2KiB allocated for chunks. 0B in use in bin. 0B client-requested in use in bin.\n",
      "2022-08-04 19:54:44.890652: I tensorflow/core/common_runtime/bfc_allocator.cc:1034] Bin (131072): \tTotal Chunks: 0, Chunks in use: 0. 0B allocated for chunks. 0B in use in bin. 0B client-requested in use in bin.\n",
      "2022-08-04 19:54:44.890670: I tensorflow/core/common_runtime/bfc_allocator.cc:1034] Bin (262144): \tTotal Chunks: 0, Chunks in use: 0. 0B allocated for chunks. 0B in use in bin. 0B client-requested in use in bin.\n",
      "2022-08-04 19:54:44.890687: I tensorflow/core/common_runtime/bfc_allocator.cc:1034] Bin (524288): \tTotal Chunks: 0, Chunks in use: 0. 0B allocated for chunks. 0B in use in bin. 0B client-requested in use in bin.\n",
      "2022-08-04 19:54:44.890704: I tensorflow/core/common_runtime/bfc_allocator.cc:1034] Bin (1048576): \tTotal Chunks: 0, Chunks in use: 0. 0B allocated for chunks. 0B in use in bin. 0B client-requested in use in bin.\n",
      "2022-08-04 19:54:44.890723: I tensorflow/core/common_runtime/bfc_allocator.cc:1034] Bin (2097152): \tTotal Chunks: 0, Chunks in use: 0. 0B allocated for chunks. 0B in use in bin. 0B client-requested in use in bin.\n",
      "2022-08-04 19:54:44.890742: I tensorflow/core/common_runtime/bfc_allocator.cc:1034] Bin (4194304): \tTotal Chunks: 0, Chunks in use: 0. 0B allocated for chunks. 0B in use in bin. 0B client-requested in use in bin.\n",
      "2022-08-04 19:54:44.890760: I tensorflow/core/common_runtime/bfc_allocator.cc:1034] Bin (8388608): \tTotal Chunks: 0, Chunks in use: 0. 0B allocated for chunks. 0B in use in bin. 0B client-requested in use in bin.\n",
      "2022-08-04 19:54:44.890778: I tensorflow/core/common_runtime/bfc_allocator.cc:1034] Bin (16777216): \tTotal Chunks: 0, Chunks in use: 0. 0B allocated for chunks. 0B in use in bin. 0B client-requested in use in bin.\n",
      "2022-08-04 19:54:44.890797: I tensorflow/core/common_runtime/bfc_allocator.cc:1034] Bin (33554432): \tTotal Chunks: 0, Chunks in use: 0. 0B allocated for chunks. 0B in use in bin. 0B client-requested in use in bin.\n",
      "2022-08-04 19:54:44.890815: I tensorflow/core/common_runtime/bfc_allocator.cc:1034] Bin (67108864): \tTotal Chunks: 0, Chunks in use: 0. 0B allocated for chunks. 0B in use in bin. 0B client-requested in use in bin.\n",
      "2022-08-04 19:54:44.890833: I tensorflow/core/common_runtime/bfc_allocator.cc:1034] Bin (134217728): \tTotal Chunks: 0, Chunks in use: 0. 0B allocated for chunks. 0B in use in bin. 0B client-requested in use in bin.\n",
      "2022-08-04 19:54:44.890854: I tensorflow/core/common_runtime/bfc_allocator.cc:1034] Bin (268435456): \tTotal Chunks: 1, Chunks in use: 0. 354.50MiB allocated for chunks. 0B in use in bin. 0B client-requested in use in bin.\n",
      "2022-08-04 19:54:44.890878: I tensorflow/core/common_runtime/bfc_allocator.cc:1050] Bin for 769.19MiB was 256.00MiB, Chunk State: \n",
      "2022-08-04 19:54:44.890911: I tensorflow/core/common_runtime/bfc_allocator.cc:1056]   Size: 354.50MiB | Requested Size: 0B | in_use: 0 | bin_num: 20, prev:   Size: 36.0KiB | Requested Size: 36.0KiB | in_use: 1 | bin_num: -1\n",
      "2022-08-04 19:54:44.890927: I tensorflow/core/common_runtime/bfc_allocator.cc:1063] Next region of size 371916800\n",
      "2022-08-04 19:54:44.890949: I tensorflow/core/common_runtime/bfc_allocator.cc:1083] InUse at 7f976c000000 of size 1280 next 1\n",
      "2022-08-04 19:54:44.890969: I tensorflow/core/common_runtime/bfc_allocator.cc:1083] InUse at 7f976c000500 of size 256 next 2\n",
      "2022-08-04 19:54:44.890985: I tensorflow/core/common_runtime/bfc_allocator.cc:1083] InUse at 7f976c000600 of size 256 next 3\n",
      "2022-08-04 19:54:44.891001: I tensorflow/core/common_runtime/bfc_allocator.cc:1083] InUse at 7f976c000700 of size 256 next 4\n",
      "2022-08-04 19:54:44.891016: I tensorflow/core/common_runtime/bfc_allocator.cc:1083] InUse at 7f976c000800 of size 256 next 5\n",
      "2022-08-04 19:54:44.891032: I tensorflow/core/common_runtime/bfc_allocator.cc:1083] InUse at 7f976c000900 of size 256 next 6\n",
      "2022-08-04 19:54:44.891048: I tensorflow/core/common_runtime/bfc_allocator.cc:1083] InUse at 7f976c000a00 of size 256 next 7\n",
      "2022-08-04 19:54:44.891063: I tensorflow/core/common_runtime/bfc_allocator.cc:1083] InUse at 7f976c000b00 of size 256 next 8\n",
      "2022-08-04 19:54:44.891078: I tensorflow/core/common_runtime/bfc_allocator.cc:1083] InUse at 7f976c000c00 of size 256 next 9\n",
      "2022-08-04 19:54:44.891094: I tensorflow/core/common_runtime/bfc_allocator.cc:1083] InUse at 7f976c000d00 of size 256 next 12\n",
      "2022-08-04 19:54:44.891109: I tensorflow/core/common_runtime/bfc_allocator.cc:1083] InUse at 7f976c000e00 of size 256 next 13\n",
      "2022-08-04 19:54:44.891125: I tensorflow/core/common_runtime/bfc_allocator.cc:1083] InUse at 7f976c000f00 of size 256 next 14\n",
      "2022-08-04 19:54:44.891139: I tensorflow/core/common_runtime/bfc_allocator.cc:1083] InUse at 7f976c001000 of size 256 next 17\n",
      "2022-08-04 19:54:44.891155: I tensorflow/core/common_runtime/bfc_allocator.cc:1083] InUse at 7f976c001100 of size 256 next 18\n",
      "2022-08-04 19:54:44.891171: I tensorflow/core/common_runtime/bfc_allocator.cc:1083] InUse at 7f976c001200 of size 256 next 19\n",
      "2022-08-04 19:54:44.891185: I tensorflow/core/common_runtime/bfc_allocator.cc:1083] InUse at 7f976c001300 of size 256 next 24\n",
      "2022-08-04 19:54:44.891200: I tensorflow/core/common_runtime/bfc_allocator.cc:1083] InUse at 7f976c001400 of size 256 next 25\n",
      "2022-08-04 19:54:44.891216: I tensorflow/core/common_runtime/bfc_allocator.cc:1083] InUse at 7f976c001500 of size 256 next 10\n",
      "2022-08-04 19:54:44.891231: I tensorflow/core/common_runtime/bfc_allocator.cc:1083] InUse at 7f976c001600 of size 1280 next 11\n",
      "2022-08-04 19:54:44.891247: I tensorflow/core/common_runtime/bfc_allocator.cc:1083] Free  at 7f976c001b00 of size 2560 next 21\n",
      "2022-08-04 19:54:44.891261: I tensorflow/core/common_runtime/bfc_allocator.cc:1083] InUse at 7f976c002500 of size 1280 next 20\n",
      "2022-08-04 19:54:44.891277: I tensorflow/core/common_runtime/bfc_allocator.cc:1083] Free  at 7f976c002a00 of size 69888 next 16\n",
      "2022-08-04 19:54:44.891293: I tensorflow/core/common_runtime/bfc_allocator.cc:1083] InUse at 7f976c013b00 of size 36864 next 15\n",
      "2022-08-04 19:54:44.891308: I tensorflow/core/common_runtime/bfc_allocator.cc:1083] Free  at 7f976c01cb00 of size 36864 next 23\n",
      "2022-08-04 19:54:44.891328: I tensorflow/core/common_runtime/bfc_allocator.cc:1083] InUse at 7f976c025b00 of size 36864 next 22\n",
      "2022-08-04 19:54:44.891346: I tensorflow/core/common_runtime/bfc_allocator.cc:1083] Free  at 7f976c02eb00 of size 371725568 next 18446744073709551615\n",
      "2022-08-04 19:54:44.891362: I tensorflow/core/common_runtime/bfc_allocator.cc:1088]      Summary of in-use Chunks by size: \n",
      "2022-08-04 19:54:44.891383: I tensorflow/core/common_runtime/bfc_allocator.cc:1091] 17 Chunks of size 256 totalling 4.2KiB\n",
      "2022-08-04 19:54:44.891401: I tensorflow/core/common_runtime/bfc_allocator.cc:1091] 3 Chunks of size 1280 totalling 3.8KiB\n",
      "2022-08-04 19:54:44.891420: I tensorflow/core/common_runtime/bfc_allocator.cc:1091] 2 Chunks of size 36864 totalling 72.0KiB\n",
      "2022-08-04 19:54:44.891438: I tensorflow/core/common_runtime/bfc_allocator.cc:1095] Sum Total of in-use chunks: 80.0KiB\n",
      "2022-08-04 19:54:44.891454: I tensorflow/core/common_runtime/bfc_allocator.cc:1097] total_region_allocated_bytes_: 371916800 memory_limit_: 371916800 available bytes: 0 curr_region_allocation_bytes_: 743833600\n",
      "2022-08-04 19:54:44.891481: I tensorflow/core/common_runtime/bfc_allocator.cc:1103] Stats: \n",
      "Limit:                       371916800\n",
      "InUse:                           81920\n",
      "MaxInUse:                       187904\n",
      "NumAllocs:                          34\n",
      "MaxAllocSize:                    69888\n",
      "Reserved:                            0\n",
      "PeakReserved:                        0\n",
      "LargestFreeBlock:                    0\n",
      "\n",
      "2022-08-04 19:54:44.891509: W tensorflow/core/common_runtime/bfc_allocator.cc:491] *___________________________________________________________________________________________________\n",
      "2022-08-04 19:54:44.891580: W tensorflow/core/framework/op_kernel.cc:1745] OP_REQUIRES failed at random_op.cc:74 : RESOURCE_EXHAUSTED: OOM when allocating tensor with shape[1575296,128] and type float on /job:localhost/replica:0/task:0/device:GPU:0 by allocator GPU_0_bfc\n"
     ]
    },
    {
     "ename": "ResourceExhaustedError",
     "evalue": "OOM when allocating tensor with shape[1575296,128] and type float on /job:localhost/replica:0/task:0/device:GPU:0 by allocator GPU_0_bfc [Op:RandomUniform]",
     "output_type": "error",
     "traceback": [
      "\u001b[0;31m---------------------------------------------------------------------------\u001b[0m",
      "\u001b[0;31mResourceExhaustedError\u001b[0m                    Traceback (most recent call last)",
      "\u001b[1;32m/home/tiaan/GBM-Challenge-2022/src/tensorflowInput.ipynb Cell 11\u001b[0m in \u001b[0;36m<cell line: 21>\u001b[0;34m()\u001b[0m\n\u001b[1;32m     <a href='vscode-notebook-cell://ssh-remote%2B7b22686f73744e616d65223a2252632d677075312e6f6b2e5562632e6361227d/home/tiaan/GBM-Challenge-2022/src/tensorflowInput.ipynb#ch0000010vscode-remote?line=18'>19</a>\u001b[0m model\u001b[39m.\u001b[39madd(layers\u001b[39m.\u001b[39mFlatten())\n\u001b[1;32m     <a href='vscode-notebook-cell://ssh-remote%2B7b22686f73744e616d65223a2252632d677075312e6f6b2e5562632e6361227d/home/tiaan/GBM-Challenge-2022/src/tensorflowInput.ipynb#ch0000010vscode-remote?line=19'>20</a>\u001b[0m \u001b[39m# model.add(layers.Dense(256, activation='relu'))\u001b[39;00m\n\u001b[0;32m---> <a href='vscode-notebook-cell://ssh-remote%2B7b22686f73744e616d65223a2252632d677075312e6f6b2e5562632e6361227d/home/tiaan/GBM-Challenge-2022/src/tensorflowInput.ipynb#ch0000010vscode-remote?line=20'>21</a>\u001b[0m model\u001b[39m.\u001b[39;49madd(layers\u001b[39m.\u001b[39;49mDense(\u001b[39m128\u001b[39;49m, activation\u001b[39m=\u001b[39;49m\u001b[39m'\u001b[39;49m\u001b[39mrelu\u001b[39;49m\u001b[39m'\u001b[39;49m))\n\u001b[1;32m     <a href='vscode-notebook-cell://ssh-remote%2B7b22686f73744e616d65223a2252632d677075312e6f6b2e5562632e6361227d/home/tiaan/GBM-Challenge-2022/src/tensorflowInput.ipynb#ch0000010vscode-remote?line=21'>22</a>\u001b[0m model\u001b[39m.\u001b[39madd(layers\u001b[39m.\u001b[39mDense(\u001b[39m64\u001b[39m, activation\u001b[39m=\u001b[39m\u001b[39m'\u001b[39m\u001b[39mrelu\u001b[39m\u001b[39m'\u001b[39m))\n\u001b[1;32m     <a href='vscode-notebook-cell://ssh-remote%2B7b22686f73744e616d65223a2252632d677075312e6f6b2e5562632e6361227d/home/tiaan/GBM-Challenge-2022/src/tensorflowInput.ipynb#ch0000010vscode-remote?line=22'>23</a>\u001b[0m model\u001b[39m.\u001b[39madd(layers\u001b[39m.\u001b[39mDense(\u001b[39m32\u001b[39m, activation\u001b[39m=\u001b[39m\u001b[39m'\u001b[39m\u001b[39mrelu\u001b[39m\u001b[39m'\u001b[39m))\n",
      "File \u001b[0;32m~/.local/lib/python3.8/site-packages/tensorflow/python/training/tracking/base.py:587\u001b[0m, in \u001b[0;36mno_automatic_dependency_tracking.<locals>._method_wrapper\u001b[0;34m(self, *args, **kwargs)\u001b[0m\n\u001b[1;32m    585\u001b[0m \u001b[39mself\u001b[39m\u001b[39m.\u001b[39m_self_setattr_tracking \u001b[39m=\u001b[39m \u001b[39mFalse\u001b[39;00m  \u001b[39m# pylint: disable=protected-access\u001b[39;00m\n\u001b[1;32m    586\u001b[0m \u001b[39mtry\u001b[39;00m:\n\u001b[0;32m--> 587\u001b[0m   result \u001b[39m=\u001b[39m method(\u001b[39mself\u001b[39;49m, \u001b[39m*\u001b[39;49margs, \u001b[39m*\u001b[39;49m\u001b[39m*\u001b[39;49mkwargs)\n\u001b[1;32m    588\u001b[0m \u001b[39mfinally\u001b[39;00m:\n\u001b[1;32m    589\u001b[0m   \u001b[39mself\u001b[39m\u001b[39m.\u001b[39m_self_setattr_tracking \u001b[39m=\u001b[39m previous_value  \u001b[39m# pylint: disable=protected-access\u001b[39;00m\n",
      "File \u001b[0;32m~/.local/lib/python3.8/site-packages/keras/utils/traceback_utils.py:67\u001b[0m, in \u001b[0;36mfilter_traceback.<locals>.error_handler\u001b[0;34m(*args, **kwargs)\u001b[0m\n\u001b[1;32m     65\u001b[0m \u001b[39mexcept\u001b[39;00m \u001b[39mException\u001b[39;00m \u001b[39mas\u001b[39;00m e:  \u001b[39m# pylint: disable=broad-except\u001b[39;00m\n\u001b[1;32m     66\u001b[0m   filtered_tb \u001b[39m=\u001b[39m _process_traceback_frames(e\u001b[39m.\u001b[39m__traceback__)\n\u001b[0;32m---> 67\u001b[0m   \u001b[39mraise\u001b[39;00m e\u001b[39m.\u001b[39mwith_traceback(filtered_tb) \u001b[39mfrom\u001b[39;00m \u001b[39mNone\u001b[39m\n\u001b[1;32m     68\u001b[0m \u001b[39mfinally\u001b[39;00m:\n\u001b[1;32m     69\u001b[0m   \u001b[39mdel\u001b[39;00m filtered_tb\n",
      "File \u001b[0;32m~/.local/lib/python3.8/site-packages/keras/backend.py:1920\u001b[0m, in \u001b[0;36mRandomGenerator.random_uniform\u001b[0;34m(self, shape, minval, maxval, dtype)\u001b[0m\n\u001b[1;32m   1917\u001b[0m \u001b[39mif\u001b[39;00m \u001b[39mself\u001b[39m\u001b[39m.\u001b[39m_generator:\n\u001b[1;32m   1918\u001b[0m   \u001b[39mreturn\u001b[39;00m \u001b[39mself\u001b[39m\u001b[39m.\u001b[39m_generator\u001b[39m.\u001b[39muniform(\n\u001b[1;32m   1919\u001b[0m       shape\u001b[39m=\u001b[39mshape, minval\u001b[39m=\u001b[39mminval, maxval\u001b[39m=\u001b[39mmaxval, dtype\u001b[39m=\u001b[39mdtype)\n\u001b[0;32m-> 1920\u001b[0m \u001b[39mreturn\u001b[39;00m tf\u001b[39m.\u001b[39;49mrandom\u001b[39m.\u001b[39;49muniform(\n\u001b[1;32m   1921\u001b[0m     shape\u001b[39m=\u001b[39;49mshape, minval\u001b[39m=\u001b[39;49mminval, maxval\u001b[39m=\u001b[39;49mmaxval, dtype\u001b[39m=\u001b[39;49mdtype,\n\u001b[1;32m   1922\u001b[0m     seed\u001b[39m=\u001b[39;49m\u001b[39mself\u001b[39;49m\u001b[39m.\u001b[39;49mmake_legacy_seed())\n",
      "\u001b[0;31mResourceExhaustedError\u001b[0m: OOM when allocating tensor with shape[1575296,128] and type float on /job:localhost/replica:0/task:0/device:GPU:0 by allocator GPU_0_bfc [Op:RandomUniform]"
     ]
    }
   ],
   "source": [
    "#keras script\n",
    "\n",
    "import numpy as np\n",
    "\n",
    "from keras.models import Sequential\n",
    "from tensorflow.keras import datasets, layers, models\n",
    "\n",
    "\n",
    "examplePath = os.path.join(data_dir, '85349_TV.wav')\n",
    "example = preProcessor(examplePath)\n",
    "h, w = example.shape\n",
    "\n",
    "# Design model\n",
    "model = Sequential()\n",
    "\n",
    "# Arcitecture\n",
    "model.add(layers.Conv2D(32, (3, 3), activation='relu', input_shape=(h, w, 1)))\n",
    "model.add(layers.Conv2D(32, (3, 3), activation='relu'))\n",
    "model.add(layers.Flatten())\n",
    "model.add(layers.Dense(256, activation='relu'))\n",
    "model.add(layers.Dense(128, activation='relu'))\n",
    "model.add(layers.Dense(64, activation='relu'))\n",
    "model.add(layers.Dense(32, activation='relu'))\n",
    "model.add(layers.Dense(1, activation='sigmoid'))\n",
    "\n",
    "model.compile(optimizer='adam', loss='bce', metrics=['accuracy'])\n",
    "\n",
    "# # Create a TensorBoard callback\n",
    "# logs = \"logs/\" + datetime.now().strftime(\"%Y%m%d-%H%M%S\")\n",
    "# tboard_callback = tf.keras.callbacks.TensorBoard(log_dir = logs, histogram_freq = 1, profile_batch = '10,15')\n",
    "\n",
    "# Train model on dataset\n",
    "history = model.fit(x=train_ds, validation_data=test_ds, epochs=num_epochs, workers=tf.data.AUTOTUNE)\n"
   ]
  },
  {
   "cell_type": "code",
   "execution_count": null,
   "metadata": {},
   "outputs": [
    {
     "data": {
      "image/png": "[encoded data removed]",
      "text/plain": [
       "<Figure size 432x288 with 1 Axes>"
      ]
     },
     "metadata": {
      "needs_background": "light"
     },
     "output_type": "display_data"
    }
   ],
   "source": [
    "plt.title('Loss')\n",
    "plt.plot(history.history['loss'], label='train', color='red')\n",
    "plt.plot(history.history['val_loss'], label='test', color='blue')\n",
    "plt.legend()\n",
    "plt.show()"
   ]
  },
  {
   "cell_type": "code",
   "execution_count": null,
   "metadata": {},
   "outputs": [
    {
     "data": {
      "image/png": "[encoded data removed]",
      "text/plain": [
       "<Figure size 432x288 with 1 Axes>"
      ]
     },
     "metadata": {
      "needs_background": "light"
     },
     "output_type": "display_data"
    }
   ],
   "source": [
    "plt.title('Accuracy')\n",
    "plt.plot(history.history['accuracy'], label='train', color='red')\n",
    "plt.plot(history.history['val_accuracy'], label='test', color='blue')\n",
    "plt.legend()\n",
    "plt.show()"
   ]
  },
  {
   "cell_type": "code",
   "execution_count": null,
   "metadata": {},
   "outputs": [],
   "source": [
    "# Load the TensorBoard notebook extension.\n",
    "%load_ext tensorboard\n"
   ]
  },
  {
   "cell_type": "code",
   "execution_count": null,
   "metadata": {},
   "outputs": [
    {
     "data": {
      "text/plain": [
       "Reusing TensorBoard on port 6006 (pid 378425), started 8 days, 20:38:15 ago. (Use '!kill 378425' to kill it.)"
      ]
     },
     "metadata": {},
     "output_type": "display_data"
    },
    {
     "data": {
      "text/html": [
       "\n",
       "      <iframe id=\"tensorboard-frame-44527a832a10d630\" width=\"100%\" height=\"800\" frameborder=\"0\">\n",
       "      </iframe>\n",
       "      <script>\n",
       "        (function() {\n",
       "          const frame = document.getElementById(\"tensorboard-frame-44527a832a10d630\");\n",
       "          const url = new URL(\"http://localhost\");\n",
       "          const port = 6006;\n",
       "          if (port) {\n",
       "            url.port = port;\n",
       "          }\n",
       "          frame.src = url;\n",
       "        })();\n",
       "      </script>\n",
       "    "
      ],
      "text/plain": [
       "<IPython.core.display.HTML object>"
      ]
     },
     "metadata": {},
     "output_type": "display_data"
    }
   ],
   "source": [
    "# Launch TensorBoard and navigate to the Profile tab to view performance profile\n",
    "%tensorboard --logdir=logs"
   ]
  }
 ],
 "metadata": {
  "kernelspec": {
   "display_name": "Python 3.8.10 64-bit",
   "language": "python",
   "name": "python3"
  },
  "language_info": {
   "codemirror_mode": {
    "name": "ipython",
    "version": 3
   },
   "file_extension": ".py",
   "mimetype": "text/x-python",
   "name": "python",
   "nbconvert_exporter": "python",
   "pygments_lexer": "ipython3",
   "version": "3.8.10"
  },
  "orig_nbformat": 4,
  "vscode": {
   "interpreter": {
    "hash": "916dbcbb3f70747c44a77c7bcd40155683ae19c65e1c03b4aa3499c5328201f1"
   }
  }
 },
 "nbformat": 4,
 "nbformat_minor": 2
}
