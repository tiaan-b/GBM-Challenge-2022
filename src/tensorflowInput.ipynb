{
 "cells": [
  {
   "cell_type": "code",
   "execution_count": 1,
   "metadata": {},
   "outputs": [
    {
     "name": "stderr",
     "output_type": "stream",
     "text": [
      "2022-07-25 20:23:59.867713: I tensorflow/core/util/util.cc:169] oneDNN custom operations are on. You may see slightly different numerical results due to floating-point round-off errors from different computation orders. To turn them off, set the environment variable `TF_ENABLE_ONEDNN_OPTS=0`.\n"
     ]
    }
   ],
   "source": [
    "import polars as pl\n",
    "import os\n",
    "import librosa\n",
    "import librosa.display\n",
    "import matplotlib.pyplot as plt\n",
    "from tensorflow.keras.layers import LSTM, Dense\n",
    "import helpers.input_processor as ip\n",
    "import tqdm\n",
    "import tensorflow as tf\n",
    "from tensorflow.data import Dataset as tfds\n",
    "import tensorflow_io as tfio\n",
    "import math, random\n",
    "import numpy as np\n",
    "\n",
    "from matplotlib import pyplot as plt\n",
    "import tensorflow.python.util as util"
   ]
  },
  {
   "cell_type": "code",
   "execution_count": 2,
   "metadata": {},
   "outputs": [
    {
     "name": "stderr",
     "output_type": "stream",
     "text": [
      "/home/tiaan/.local/lib/python3.8/site-packages/tqdm/auto.py:22: TqdmWarning: IProgress not found. Please update jupyter and ipywidgets. See https://ipywidgets.readthedocs.io/en/stable/user_install.html\n",
      "  from .autonotebook import tqdm as notebook_tqdm\n"
     ]
    }
   ],
   "source": [
    "import torch\n",
    "import torchaudio\n",
    "import polars as pl\n",
    "import matplotlib.pyplot as plt\n",
    "import os\n",
    "import numpy as np\n",
    "import tqdm\n",
    "from torchaudio import transforms\n",
    "from IPython.display import Audio\n",
    "import math, random\n",
    "\n",
    "import helpers.input_processor as ip"
   ]
  },
  {
   "cell_type": "code",
   "execution_count": 3,
   "metadata": {},
   "outputs": [],
   "source": [
    "# audio_path = path to audio file\n",
    "# samp_rate = sample rate of the signal\n",
    "# duration = length of time (in seconds) to which the signal is resized\n",
    "# do_augmentation = whether to perform audio and image augmentation on the signal\n",
    "# n_freq_masks = number of frequency masks\n",
    "# n_time_masks = number of time masks\n",
    "# n_mels = number of frequency bands (ie. Mel bins)\n",
    "# **kwargs = keyword arguments passed to transforms.MelSpectrogram()\n",
    "def preprocessAudio(audio_path, samp_rate=4000, duration=25, do_augmentation=True, n_freq_masks=1, n_time_masks=1, n_mels=128, **kwargs):\n",
    "    # read and load audio file in .wav format\n",
    "    sig, sr = torchaudio.load(audio_path)\n",
    "    sr = samp_rate\n",
    "\n",
    "    # Check that audio is mono (has 1 audio channel)\n",
    "    num_channels = sig.shape[0]\n",
    "    if num_channels != 1:\n",
    "        raise Exception('The provided audio file \\'%s\\' has %s channels, when 1 was expected' % (x, num_channels))\n",
    "    \n",
    "    # resize sample, either by padding it with silence or truncating it\n",
    "    num_rows, sig_len = sig.shape\n",
    "    max_len = sr * duration\n",
    "    if (sig_len > max_len):\n",
    "        # Truncate the signal to the given length\n",
    "        sig = sig[:,:max_len]\n",
    "    elif (sig_len < max_len):\n",
    "        # Pad with zeroes at the beginning and end of the signal\n",
    "        pad_begin_len = random.randint(0, max_len - sig_len)\n",
    "        pad_end_len = max_len - sig_len - pad_begin_len\n",
    "        pad_begin = torch.zeros((num_rows, pad_begin_len))\n",
    "        pad_end = torch.zeros((num_rows, pad_end_len))\n",
    "        sig = torch.cat((pad_begin, sig, pad_end), 1)\n",
    "\n",
    "    # Audio Augmentation    --------\\\n",
    "    if do_augmentation == True:\n",
    "        # time shift signal to the left or right by a random percent of its original length (max 99%)\n",
    "        _, sig_len = sig.shape\n",
    "        max_shift = 0.99\n",
    "        sig = sig.roll(int(random.random() * max_shift * sig_len))\n",
    "    #-------------------------------/\n",
    "\n",
    "    # get Mel spectrogram\n",
    "    top_db = 80\n",
    "    melSpec = torchaudio.transforms.MelSpectrogram(sr, n_mels=n_mels, **kwargs)(sig)\n",
    "    melSpec = torchaudio.transforms.AmplitudeToDB(top_db=top_db)(melSpec)\n",
    "\n",
    "    # Image Augmentation    --------\\\n",
    "    if do_augmentation == True:\n",
    "        # Apply time and frequency mask\n",
    "        max_mask_pct=0.1\n",
    "        n_steps = melSpec.shape[2]\n",
    "        mask_value = melSpec.mean()\n",
    "        for i in range(n_freq_masks):\n",
    "            melSpec = torchaudio.transforms.FrequencyMasking(max_mask_pct * n_mels)(melSpec, mask_value)\n",
    "        for i in range(n_time_masks):\n",
    "            melSpec = torchaudio.transforms.TimeMasking(max_mask_pct * n_steps)(melSpec, mask_value)\n",
    "    #-------------------------------/\n",
    "\n",
    "    out = melSpec.numpy()\n",
    "    e3, e2, e1 = out.shape\n",
    "    out = out.reshape(e2,e1)\n",
    "    \n",
    "    return out\n",
    "\n",
    "# function that wraps preprocessAudio() so that it can be passed as the preProcessor function when creating a DataGenerator object\n",
    "def wrap_preprocessAudio(audio_path):\n",
    "    return preprocessAudio(audio_path)"
   ]
  },
  {
   "cell_type": "code",
   "execution_count": 4,
   "metadata": {},
   "outputs": [],
   "source": [
    "def splitDataframe(df, split_ratio=0.8):\n",
    "    total_size = df.height\n",
    "    train_size = round(split_ratio * total_size)\n",
    "    test_size = total_size - train_size\n",
    "\n",
    "    df = df.sample(frac=1.0, shuffle=True)\n",
    "    trainSet = df.head(train_size)\n",
    "    testSet = df.tail(test_size)\n",
    "    return trainSet, testSet"
   ]
  },
  {
   "cell_type": "code",
   "execution_count": 5,
   "metadata": {},
   "outputs": [],
   "source": [
    "import numpy as np\n",
    "import keras, keras.utils\n",
    "\n",
    "class DataGenerator(keras.utils.Sequence):\n",
    "    # data is represented as a sequence of batches\n",
    "    # preProcessor = function that takes path to audio file as input and returns numpy array storing signal to be inputted to model\n",
    "    def __init__(self, audioPaths, labels, preProcessor, batchSize = 32, shuffle=True):\n",
    "        self.audioPaths = audioPaths\n",
    "        self.labels = labels\n",
    "        self.preProcessor = preProcessor\n",
    "        self.batchSize = batchSize\n",
    "        self.shuffle = shuffle\n",
    "        self.classes = np.unique(self.labels)\n",
    "        self.numClasses = len(self.classes)\n",
    "        self.on_epoch_end()\n",
    "\n",
    "    def __len__(self):\n",
    "        # Get total number of batches\n",
    "        return int(np.floor(len(self.audioPaths) / self.batchSize))\n",
    "\n",
    "    def __getitem__(self, index):\n",
    "        # Get the batch at position 'index'\n",
    "        batch = self.batches[index]\n",
    "        # Apply preprocessing function to audio file paths and get the labels\n",
    "        X = np.array([self.preProcessor(self.audioPaths[x]) for x in batch])\n",
    "        # Y = keras.utils.to_categorical([self.labels[x] for x in batch], num_classes=self.numClasses)\n",
    "        Y = np.array([self.labels[x] for x in batch])\n",
    "        return X, Y\n",
    "\n",
    "    def on_epoch_end(self):\n",
    "        # Get array of indices used to access data\n",
    "        dataIndices = np.arange(len(self)*self.batchSize)\n",
    "        if self.shuffle == True:\n",
    "            np.random.shuffle(dataIndices)\n",
    "        # Reshape into an array of batches, where each batch is an array of indices used to access data\n",
    "        self.batches = np.reshape(dataIndices, (len(self), self.batchSize))\n"
   ]
  },
  {
   "cell_type": "code",
   "execution_count": 6,
   "metadata": {},
   "outputs": [
    {
     "name": "stdout",
     "output_type": "stream",
     "text": [
      "loading data from save file:  cache/ingested_data.json\n"
     ]
    }
   ],
   "source": [
    "#load data from dataframe\n",
    "data_dir = \"data/raw_training/training_data/\"\n",
    "target_label = 'murmur_in_recording'\n",
    "df = (\n",
    "    ip.loadTrainingData(data_dir)\n",
    "    .filter(pl.col(target_label) != 'Unknown')\n",
    "    .pipe(ip.encodeData)\n",
    "    .select([\n",
    "        pl.col('audio_file').apply(lambda x: os.path.join(data_dir, x)),\n",
    "        pl.col(target_label)\n",
    "    ])\n",
    ")"
   ]
  },
  {
   "cell_type": "code",
   "execution_count": 7,
   "metadata": {},
   "outputs": [
    {
     "name": "stdout",
     "output_type": "stream",
     "text": [
      "Total Samples:        998\n",
      "Positive Samples:     499\n",
      "Negative Samples:     499\n",
      "Percent Positive Samples:     0.5\n"
     ]
    }
   ],
   "source": [
    "# #balance the data so that there is an equal number of murmur positive and murmur negative samples\n",
    "# #do this by duplicating random rows of whichever group (pos or neg) is smaller\n",
    "# neg_df = df.filter(pl.col(target_label)==0.0)\n",
    "# pos_df = df.filter(pl.col(target_label)==1.0)\n",
    "# numNeg = neg_df.height\n",
    "# numPos = pos_df.height\n",
    "\n",
    "# while numNeg != numPos:\n",
    "#     if numNeg < numPos:\n",
    "#         df.vstack(neg_df.sample(n=min(numPos-numNeg, neg_df.height), shuffle=True), in_place=True)\n",
    "#     else: \n",
    "#         df.vstack(pos_df.sample(n=min(numNeg-numPos, pos_df.height), shuffle=True), in_place=True)\n",
    "#     numNeg = df.filter(pl.col(target_label)==0.0).height\n",
    "#     numPos = df.filter(pl.col(target_label)==1.0).height\n",
    "\n",
    "# #reshuffle rows\n",
    "# df = df.sample(frac=1.0, shuffle=True)\n",
    "\n",
    "# #check number of positive and negative samples\n",
    "# numNeg = df.filter(pl.col(target_label)==0.0).height\n",
    "# numPos = df.filter(pl.col(target_label)==1.0).height\n",
    "# print('Total Samples:       ', df.height)\n",
    "# print('Positive Samples:    ', numPos)\n",
    "# print('Negative Samples:    ', numNeg)\n",
    "# print('Percent Positive Samples:    ', numPos/(numPos+numNeg))\n",
    "\n",
    "\n",
    "# method 2:\n",
    "\n",
    "#balance the data so that there is an equal number of murmur positive and murmur negative samples\n",
    "#do this by duplicating random rows of whichever group (pos or neg) is smaller\n",
    "neg_df = df.filter(pl.col(target_label)==0.0)\n",
    "pos_df = df.filter(pl.col(target_label)==1.0)\n",
    "numNeg = neg_df.height\n",
    "numPos = pos_df.height\n",
    "\n",
    "if numNeg < numPos:\n",
    "    df = neg_df.vstack(pos_df.sample(n=numNeg))\n",
    "elif numPos < numNeg:\n",
    "    df = pos_df.vstack(neg_df.sample(n=numPos))\n",
    "else:\n",
    "    df = neg_df.vstack(pos_df)\n",
    "\n",
    "#reshuffle rows\n",
    "df = df.sample(frac=1.0, shuffle=True)\n",
    "\n",
    "#check number of positive and negative samples\n",
    "numNeg = df.filter(pl.col(target_label)==0.0).height\n",
    "numPos = df.filter(pl.col(target_label)==1.0).height\n",
    "print('Total Samples:       ', df.height)\n",
    "print('Positive Samples:    ', numPos)\n",
    "print('Negative Samples:    ', numNeg)\n",
    "print('Percent Positive Samples:    ', numPos/(numPos+numNeg))"
   ]
  },
  {
   "cell_type": "code",
   "execution_count": 8,
   "metadata": {},
   "outputs": [],
   "source": [
    "train_df, test_df = splitDataframe(df, split_ratio=0.8)\n",
    "# train_df, val_df = splitDataframe(train_df, split_ratio=0.7/0.8)\n",
    "classes = df.get_column(target_label).unique().to_list()\n",
    "\n",
    "batch_size = 32\n",
    "\n",
    "train_gen = DataGenerator(\n",
    "    audioPaths=train_df.get_column('audio_file').to_list(),\n",
    "    labels=train_df.get_column(target_label).to_list(),\n",
    "    preProcessor=wrap_preprocessAudio,\n",
    "    batchSize=batch_size\n",
    ")\n",
    "test_gen = DataGenerator(\n",
    "    audioPaths=test_df.get_column('audio_file').to_list(),\n",
    "    labels=test_df.get_column(target_label).to_list(),\n",
    "    preProcessor=wrap_preprocessAudio,\n",
    "    batchSize=batch_size\n",
    ")\n",
    "# val_gen = DataGenerator(\n",
    "#     audioPaths=val_df.get_column('audio_file').to_list(),\n",
    "#     labels=val_df.get_column(target_label).to_list(),\n",
    "#     preProcessor=wrap_preprocessAudio,\n",
    "#     batchSize=batch_size\n",
    "# )\n"
   ]
  },
  {
   "cell_type": "code",
   "execution_count": 15,
   "metadata": {},
   "outputs": [
    {
     "name": "stdout",
     "output_type": "stream",
     "text": [
      "Epoch 1/25\n",
      "24/24 [==============================] - 7s 231ms/step - loss: 389.1843 - accuracy: 0.5247 - val_loss: 0.6401 - val_accuracy: 0.6042\n",
      "Epoch 2/25\n",
      "24/24 [==============================] - 5s 194ms/step - loss: 0.6498 - accuracy: 0.5951 - val_loss: 0.6146 - val_accuracy: 0.5885\n",
      "Epoch 3/25\n",
      "24/24 [==============================] - 6s 198ms/step - loss: 0.6290 - accuracy: 0.6211 - val_loss: 0.6141 - val_accuracy: 0.6198\n",
      "Epoch 4/25\n",
      "24/24 [==============================] - 6s 200ms/step - loss: 0.6181 - accuracy: 0.6380 - val_loss: 0.5812 - val_accuracy: 0.6667\n",
      "Epoch 5/25\n",
      "24/24 [==============================] - 6s 199ms/step - loss: 0.5906 - accuracy: 0.6875 - val_loss: 0.5961 - val_accuracy: 0.5990\n",
      "Epoch 6/25\n",
      "24/24 [==============================] - 6s 193ms/step - loss: 0.6108 - accuracy: 0.6693 - val_loss: 0.6068 - val_accuracy: 0.6615\n",
      "Epoch 7/25\n",
      "24/24 [==============================] - 6s 199ms/step - loss: 0.5948 - accuracy: 0.6667 - val_loss: 0.5926 - val_accuracy: 0.6771\n",
      "Epoch 8/25\n",
      "24/24 [==============================] - 6s 194ms/step - loss: 0.5797 - accuracy: 0.6940 - val_loss: 0.5824 - val_accuracy: 0.6615\n",
      "Epoch 9/25\n",
      "24/24 [==============================] - 6s 195ms/step - loss: 0.5781 - accuracy: 0.6914 - val_loss: 0.5451 - val_accuracy: 0.7083\n",
      "Epoch 10/25\n",
      "24/24 [==============================] - 6s 194ms/step - loss: 0.5775 - accuracy: 0.6927 - val_loss: 0.5872 - val_accuracy: 0.6667\n",
      "Epoch 11/25\n",
      "24/24 [==============================] - 6s 195ms/step - loss: 0.5542 - accuracy: 0.6927 - val_loss: 0.5481 - val_accuracy: 0.6979\n",
      "Epoch 12/25\n",
      "24/24 [==============================] - 6s 193ms/step - loss: 0.5667 - accuracy: 0.6862 - val_loss: 0.5524 - val_accuracy: 0.6979\n",
      "Epoch 13/25\n",
      "24/24 [==============================] - 6s 195ms/step - loss: 0.5473 - accuracy: 0.7096 - val_loss: 0.5564 - val_accuracy: 0.6875\n",
      "Epoch 14/25\n",
      "24/24 [==============================] - 6s 198ms/step - loss: 0.5326 - accuracy: 0.7292 - val_loss: 0.5613 - val_accuracy: 0.6875\n",
      "Epoch 15/25\n",
      "24/24 [==============================] - 6s 196ms/step - loss: 0.5360 - accuracy: 0.7214 - val_loss: 0.6087 - val_accuracy: 0.6771\n",
      "Epoch 16/25\n",
      "24/24 [==============================] - 6s 199ms/step - loss: 0.5337 - accuracy: 0.7305 - val_loss: 0.5390 - val_accuracy: 0.7292\n",
      "Epoch 17/25\n",
      "24/24 [==============================] - 6s 190ms/step - loss: 0.5412 - accuracy: 0.7135 - val_loss: 0.5347 - val_accuracy: 0.6979\n",
      "Epoch 18/25\n",
      "24/24 [==============================] - 6s 194ms/step - loss: 0.5315 - accuracy: 0.7383 - val_loss: 0.5642 - val_accuracy: 0.6823\n",
      "Epoch 19/25\n",
      "24/24 [==============================] - 6s 194ms/step - loss: 0.5188 - accuracy: 0.7331 - val_loss: 0.5181 - val_accuracy: 0.7396\n",
      "Epoch 20/25\n",
      "24/24 [==============================] - 6s 193ms/step - loss: 0.4982 - accuracy: 0.7617 - val_loss: 0.6497 - val_accuracy: 0.6823\n",
      "Epoch 21/25\n",
      "24/24 [==============================] - 6s 192ms/step - loss: 0.5113 - accuracy: 0.7539 - val_loss: 0.5436 - val_accuracy: 0.7396\n",
      "Epoch 22/25\n",
      "24/24 [==============================] - 6s 189ms/step - loss: 0.4960 - accuracy: 0.7578 - val_loss: 0.5592 - val_accuracy: 0.6667\n",
      "Epoch 23/25\n",
      "24/24 [==============================] - 6s 196ms/step - loss: 0.5333 - accuracy: 0.7161 - val_loss: 0.5684 - val_accuracy: 0.7083\n",
      "Epoch 24/25\n",
      "24/24 [==============================] - 6s 193ms/step - loss: 0.5060 - accuracy: 0.7604 - val_loss: 0.5421 - val_accuracy: 0.7135\n",
      "Epoch 25/25\n",
      "24/24 [==============================] - 6s 193ms/step - loss: 0.4982 - accuracy: 0.7552 - val_loss: 0.5731 - val_accuracy: 0.6667\n"
     ]
    }
   ],
   "source": [
    "#keras script\n",
    "\n",
    "import numpy as np\n",
    "\n",
    "from keras.models import Sequential\n",
    "from tensorflow.keras import datasets, layers, models\n",
    "\n",
    "\n",
    "examplePath = os.path.join(data_dir, '85349_TV.wav')\n",
    "example = wrap_preprocessAudio(examplePath)\n",
    "h, w = example.shape\n",
    "\n",
    "# Design model\n",
    "model = Sequential()\n",
    "\n",
    "# Arcitecture\n",
    "model.add(layers.Conv2D(32, (3, 3), activation='relu', input_shape=(h, w, 1)))\n",
    "model.add(layers.Conv2D(32, (3, 3), activation='relu'))\n",
    "model.add(layers.Flatten())\n",
    "model.add(layers.Dense(256, activation='relu'))\n",
    "model.add(layers.Dense(128, activation='relu'))\n",
    "model.add(layers.Dense(64, activation='relu'))\n",
    "model.add(layers.Dense(32, activation='relu'))\n",
    "model.add(layers.Dense(1, activation='sigmoid'))\n",
    "\n",
    "model.compile(optimizer='adam', loss='bce', metrics=['accuracy'])\n",
    "\n",
    "# Train model on dataset\n",
    "history = model.fit(x=train_gen, validation_data=test_gen, workers=6, epochs=25)"
   ]
  },
  {
   "cell_type": "code",
   "execution_count": 19,
   "metadata": {},
   "outputs": [
    {
     "data": {
      "image/png": "[encoded data removed]",
      "text/plain": [
       "<Figure size 432x288 with 1 Axes>"
      ]
     },
     "metadata": {
      "needs_background": "light"
     },
     "output_type": "display_data"
    }
   ],
   "source": [
    "plt.title('Loss')\n",
    "plt.plot(history.history['loss'], label='train', color='red')\n",
    "plt.plot(history.history['val_loss'], label='test', color='blue')\n",
    "plt.show()"
   ]
  },
  {
   "cell_type": "code",
   "execution_count": 20,
   "metadata": {},
   "outputs": [
    {
     "data": {
      "image/png": "[encoded data removed]",
      "text/plain": [
       "<Figure size 432x288 with 1 Axes>"
      ]
     },
     "metadata": {
      "needs_background": "light"
     },
     "output_type": "display_data"
    }
   ],
   "source": [
    "plt.title('Accuracy')\n",
    "plt.plot(history.history['accuracy'], label='train', color='red')\n",
    "plt.plot(history.history['val_accuracy'], label='test', color='blue')\n",
    "plt.show()"
   ]
  }
 ],
 "metadata": {
  "kernelspec": {
   "display_name": "Python 3.8.10 64-bit",
   "language": "python",
   "name": "python3"
  },
  "language_info": {
   "codemirror_mode": {
    "name": "ipython",
    "version": 3
   },
   "file_extension": ".py",
   "mimetype": "text/x-python",
   "name": "python",
   "nbconvert_exporter": "python",
   "pygments_lexer": "ipython3",
   "version": "3.8.10"
  },
  "orig_nbformat": 4,
  "vscode": {
   "interpreter": {
    "hash": "916dbcbb3f70747c44a77c7bcd40155683ae19c65e1c03b4aa3499c5328201f1"
   }
  }
 },
 "nbformat": 4,
 "nbformat_minor": 2
}
