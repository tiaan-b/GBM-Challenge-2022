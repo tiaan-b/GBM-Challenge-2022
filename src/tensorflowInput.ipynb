{
 "cells": [
  {
   "cell_type": "code",
   "execution_count": 1,
   "metadata": {},
   "outputs": [
    {
     "name": "stderr",
     "output_type": "stream",
     "text": [
      "2022-08-03 14:26:49.933979: I tensorflow/core/util/util.cc:169] oneDNN custom operations are on. You may see slightly different numerical results due to floating-point round-off errors from different computation orders. To turn them off, set the environment variable `TF_ENABLE_ONEDNN_OPTS=0`.\n"
     ]
    }
   ],
   "source": [
    "import os\n",
    "os.environ['TF_GPU_THREAD_MODE'] = 'gpu_private'\n",
    "\n",
    "import polars as pl\n",
    "import librosa\n",
    "import librosa.display\n",
    "import matplotlib.pyplot as plt\n",
    "from tensorflow.keras.layers import LSTM, Dense\n",
    "import helpers.input_processor as ip\n",
    "import tqdm\n",
    "import tensorflow as tf\n",
    "from tensorflow.data import Dataset as tfds\n",
    "import tensorflow_io as tfio\n",
    "import math, random\n",
    "import numpy as np\n",
    "\n",
    "from matplotlib import pyplot as plt\n",
    "import tensorflow.python.util as util"
   ]
  },
  {
   "cell_type": "code",
   "execution_count": 2,
   "metadata": {},
   "outputs": [
    {
     "name": "stderr",
     "output_type": "stream",
     "text": [
      "/home/tiaan/.local/lib/python3.8/site-packages/tqdm/auto.py:22: TqdmWarning: IProgress not found. Please update jupyter and ipywidgets. See https://ipywidgets.readthedocs.io/en/stable/user_install.html\n",
      "  from .autonotebook import tqdm as notebook_tqdm\n"
     ]
    }
   ],
   "source": [
    "import torch\n",
    "import torchaudio\n",
    "import polars as pl\n",
    "import matplotlib.pyplot as plt\n",
    "import os\n",
    "import numpy as np\n",
    "import tqdm\n",
    "from torchaudio import transforms\n",
    "from IPython.display import Audio\n",
    "import math, random\n",
    "\n",
    "import helpers.input_processor as ip"
   ]
  },
  {
   "cell_type": "code",
   "execution_count": 3,
   "metadata": {},
   "outputs": [],
   "source": [
    "from datetime import datetime\n",
    "from packaging import version\n",
    "# pip install -U tensorboard_plugin_profile"
   ]
  },
  {
   "cell_type": "code",
   "execution_count": 4,
   "metadata": {},
   "outputs": [],
   "source": [
    "# audio_path = path to audio file\n",
    "# samp_rate = sample rate of the signal\n",
    "# duration = length of time (in seconds) to which the signal is resized\n",
    "# do_augmentation = whether to perform audio and image augmentation on the signal\n",
    "# n_freq_masks = number of frequency masks\n",
    "# n_time_masks = number of time masks\n",
    "# n_mels = number of frequency bands (ie. Mel bins)\n",
    "# **kwargs = keyword arguments passed to transforms.MelSpectrogram()\n",
    "def preprocessAudio(audio_path, samp_rate=4000, duration=25, do_augmentation=True, n_freq_masks=1, n_time_masks=1, n_mels=128, **kwargs):\n",
    "    # read and load audio file in .wav format\n",
    "    sig, sr = torchaudio.load(audio_path, normalize=True)\n",
    "    sr = samp_rate\n",
    "\n",
    "    # Check that audio is mono (has 1 audio channel)\n",
    "    num_channels = sig.shape[0]\n",
    "    if num_channels != 1:\n",
    "        raise Exception('The provided audio file \\'%s\\' has %s channels, when 1 was expected' % (audio_path, num_channels))\n",
    "    \n",
    "    # resize sample, either by padding it with silence or truncating it\n",
    "    num_rows, sig_len = sig.shape\n",
    "    max_len = sr * duration\n",
    "    if (sig_len > max_len):\n",
    "        # Truncate the signal to the given length\n",
    "        start = random.randint(0, sig_len - max_len)\n",
    "        sig = sig[:, start : start + max_len]\n",
    "    elif (sig_len < max_len):\n",
    "        # Pad with zeroes at the beginning and end of the signal\n",
    "        pad_begin_len = random.randint(0, max_len - sig_len)\n",
    "        pad_end_len = max_len - sig_len - pad_begin_len\n",
    "        pad_begin = torch.zeros((num_rows, pad_begin_len))\n",
    "        pad_end = torch.zeros((num_rows, pad_end_len))\n",
    "        sig = torch.cat((pad_begin, sig, pad_end), 1)\n",
    "\n",
    "    # Audio Augmentation    --------\\\n",
    "    if do_augmentation == True:\n",
    "        # time shift signal to the left or right by a random percent of its original length (max 99%)\n",
    "        _, sig_len = sig.shape\n",
    "        max_shift = 0.99\n",
    "        sig = sig.roll(int(random.random() * max_shift * sig_len))\n",
    "    #-------------------------------/\n",
    "\n",
    "    # get Mel spectrogram\n",
    "    top_db = 80\n",
    "    melSpec = torchaudio.transforms.MelSpectrogram(sr, n_mels=n_mels, normalized=True, **kwargs)(sig)\n",
    "    melSpec = torchaudio.transforms.AmplitudeToDB(top_db=top_db)(melSpec)\n",
    "\n",
    "    # Image Augmentation    --------\\\n",
    "    if do_augmentation == True:\n",
    "        # Apply time and frequency mask\n",
    "        max_mask_pct=0.1\n",
    "        n_steps = melSpec.shape[2]\n",
    "        mask_value = melSpec.mean()\n",
    "        for i in range(n_freq_masks):\n",
    "            melSpec = torchaudio.transforms.FrequencyMasking(max_mask_pct * n_mels)(melSpec, mask_value)\n",
    "        for i in range(n_time_masks):\n",
    "            melSpec = torchaudio.transforms.TimeMasking(max_mask_pct * n_steps)(melSpec, mask_value)\n",
    "    #-------------------------------/\n",
    "\n",
    "    out = melSpec.numpy()\n",
    "    e3, e2, e1 = out.shape\n",
    "    out = out.reshape(e2,e1)\n",
    "    \n",
    "    return out"
   ]
  },
  {
   "cell_type": "code",
   "execution_count": 5,
   "metadata": {},
   "outputs": [],
   "source": [
    "def splitDataframe(df, split_ratio=0.8):\n",
    "    total_size = df.height\n",
    "    train_size = round(split_ratio * total_size)\n",
    "    test_size = total_size - train_size\n",
    "\n",
    "    df = df.sample(frac=1.0, shuffle=True)\n",
    "    trainSet = df.head(train_size)\n",
    "    testSet = df.tail(test_size)\n",
    "    return trainSet, testSet"
   ]
  },
  {
   "cell_type": "code",
   "execution_count": 6,
   "metadata": {},
   "outputs": [],
   "source": [
    "class DataGenerator():\n",
    "    # audioPaths    ordered list of paths to audio files\n",
    "    # labels        ordered list of labels\n",
    "    # preProcessor  method that accepts the path to an audio file as its only parameter and returns a 2 dimensional numpy array representing the audio (ie. spectrogram)\n",
    "    def __init__(self, audioPaths, labels, preProcessor):\n",
    "        self.audioPaths = audioPaths\n",
    "        self.labels = labels\n",
    "        self.preProcessor = preProcessor\n",
    "        \n",
    "        self.xType = tf.float32 # The type of the value returned by preProcessor (TODO: implement function to set this automatically)\n",
    "        self.yType = tf.float32 # The type of an element in labels\n",
    "        self.xShape = self.preProcessor(self.audioPaths[0]).shape   # The shape of the value returned by preProcessor\n",
    "        self.yShape = []    # The shape of an element in labels\n",
    "\n",
    "    def __len__(self):\n",
    "        return len(self.audioPaths)\n",
    "\n",
    "    def generator(self):\n",
    "        for x in range(len(self.audioPaths)):\n",
    "            yield x\n",
    "\n",
    "    # Wraps preProcessor function to enable mapping to tf.data.Dataset object\n",
    "    def wrappedPreProcessor(self, index):\n",
    "        # index = tf.cast(index, tf.int32)\n",
    "        x = tf.py_function(lambda i: self.preProcessor(self.audioPaths[i]), inp=[index], Tout=self.xType)\n",
    "        x.set_shape(self.xShape)\n",
    "        y = tf.py_function(lambda i: self.labels[i], inp=[index], Tout=self.yType)\n",
    "        y.set_shape(self.yShape)\n",
    "        return x, y"
   ]
  },
  {
   "cell_type": "code",
   "execution_count": 7,
   "metadata": {},
   "outputs": [
    {
     "name": "stdout",
     "output_type": "stream",
     "text": [
      "loading data from save file:  cache/ingested_data.json\n"
     ]
    }
   ],
   "source": [
    "#load data from dataframe\n",
    "data_dir = \"data/raw_training/training_data/\"\n",
    "target_label = 'murmur_in_recording'\n",
    "df = (\n",
    "    ip.loadTrainingData(data_dir)\n",
    "    .filter(pl.col(target_label) != 'Unknown')\n",
    "    .pipe(ip.encodeData)\n",
    "    .select([\n",
    "        pl.col('audio_file').apply(lambda x: os.path.join(data_dir, x)),\n",
    "        pl.col(target_label)\n",
    "    ])\n",
    ")"
   ]
  },
  {
   "cell_type": "code",
   "execution_count": 8,
   "metadata": {},
   "outputs": [
    {
     "name": "stdout",
     "output_type": "stream",
     "text": [
      "Total Samples:        998\n",
      "Positive Samples:     499\n",
      "Negative Samples:     499\n",
      "Percent Positive Samples:     0.5\n"
     ]
    }
   ],
   "source": [
    "# #balance the data so that there is an equal number of murmur positive and murmur negative samples\n",
    "# #do this by duplicating random rows of whichever group (pos or neg) is smaller\n",
    "# neg_df = df.filter(pl.col(target_label)==0.0)\n",
    "# pos_df = df.filter(pl.col(target_label)==1.0)\n",
    "# numNeg = neg_df.height\n",
    "# numPos = pos_df.height\n",
    "\n",
    "# while numNeg != numPos:\n",
    "#     if numNeg < numPos:\n",
    "#         df.vstack(neg_df.sample(n=min(numPos-numNeg, neg_df.height), shuffle=True), in_place=True)\n",
    "#     else: \n",
    "#         df.vstack(pos_df.sample(n=min(numNeg-numPos, pos_df.height), shuffle=True), in_place=True)\n",
    "#     numNeg = df.filter(pl.col(target_label)==0.0).height\n",
    "#     numPos = df.filter(pl.col(target_label)==1.0).height\n",
    "\n",
    "# #reshuffle rows\n",
    "# df = df.sample(frac=1.0, shuffle=True)\n",
    "\n",
    "# #check number of positive and negative samples\n",
    "# numNeg = df.filter(pl.col(target_label)==0.0).height\n",
    "# numPos = df.filter(pl.col(target_label)==1.0).height\n",
    "# print('Total Samples:       ', df.height)\n",
    "# print('Positive Samples:    ', numPos)\n",
    "# print('Negative Samples:    ', numNeg)\n",
    "# print('Percent Positive Samples:    ', numPos/(numPos+numNeg))\n",
    "\n",
    "\n",
    "# method 2:\n",
    "\n",
    "#balance the data so that there is an equal number of murmur positive and murmur negative samples\n",
    "#do this by duplicating random rows of whichever group (pos or neg) is smaller\n",
    "neg_df = df.filter(pl.col(target_label)==0.0)\n",
    "pos_df = df.filter(pl.col(target_label)==1.0)\n",
    "numNeg = neg_df.height\n",
    "numPos = pos_df.height\n",
    "\n",
    "if numNeg < numPos:\n",
    "    df = neg_df.vstack(pos_df.sample(n=numNeg))\n",
    "elif numPos < numNeg:\n",
    "    df = pos_df.vstack(neg_df.sample(n=numPos))\n",
    "else:\n",
    "    df = neg_df.vstack(pos_df)\n",
    "\n",
    "#reshuffle rows\n",
    "df = df.sample(frac=1.0, shuffle=True)\n",
    "\n",
    "#check number of positive and negative samples\n",
    "numNeg = df.filter(pl.col(target_label)==0.0).height\n",
    "numPos = df.filter(pl.col(target_label)==1.0).height\n",
    "print('Total Samples:       ', df.height)\n",
    "print('Positive Samples:    ', numPos)\n",
    "print('Negative Samples:    ', numNeg)\n",
    "print('Percent Positive Samples:    ', numPos/(numPos+numNeg))"
   ]
  },
  {
   "cell_type": "code",
   "execution_count": 9,
   "metadata": {},
   "outputs": [],
   "source": [
    "# # function that wraps preprocessAudio() so that it can be passed as the preProcessor function when creating a DataGenerator object\n",
    "# def wrap_preprocessAudio(audio_path):\n",
    "#     return preprocessAudio(audio_path, duration=20)\n",
    "\n",
    "# batch_size = 16\n",
    "# num_epochs = 15\n",
    "# preProcessor = wrap_preprocessAudio\n",
    "\n",
    "# #duplicate dataframe to get more data\n",
    "# # df = df.vstack(df.select(pl.all()))\n",
    "# train_df, test_df = splitDataframe(df, split_ratio=0.8)\n",
    "# classes = df.get_column(target_label).unique().to_list()\n",
    "\n",
    "# num_train_batch = math.ceil(train_df.height / batch_size)\n",
    "# num_test_batch = math.ceil(test_df.height / batch_size)\n",
    "\n",
    "# # Prepare training data\n",
    "# train_gen = DataGenerator(audioPaths=train_df.get_column('audio_file').to_list(),\n",
    "#                           labels=train_df.get_column(target_label).to_list(),\n",
    "#                           preProcessor=preProcessor)\n",
    "# train_ds = tf.data.Dataset.from_generator(train_gen.generator, output_signature=tf.TensorSpec(shape=(), dtype=tf.int32))\n",
    "# train_ds = train_ds.map(train_gen.wrappedPreProcessor, num_parallel_calls=tf.data.AUTOTUNE)\n",
    "# train_ds = train_ds.cache()\n",
    "# train_ds = train_ds.batch(batch_size)\n",
    "# # train_ds = train_ds.shuffle(buffer_size=num_train_batch, reshuffle_each_iteration=True)\n",
    "# train_ds = train_ds.prefetch(tf.data.AUTOTUNE)\n",
    "\n",
    "# # Prepare testing data\n",
    "# test_gen = DataGenerator(audioPaths=test_df.get_column('audio_file').to_list(),\n",
    "#                          labels=test_df.get_column(target_label).to_list(),\n",
    "#                          preProcessor=preProcessor)\n",
    "# test_ds = tf.data.Dataset.from_generator(test_gen.generator, output_signature=tf.TensorSpec(shape=(), dtype=tf.int32))\n",
    "# test_ds = test_ds.map(test_gen.wrappedPreProcessor, num_parallel_calls=tf.data.AUTOTUNE)\n",
    "# test_ds = test_ds.cache()\n",
    "# test_ds = test_ds.batch(batch_size)\n",
    "# # test_ds = test_ds.shuffle(buffer_size=num_test_batch, reshuffle_each_iteration=True)\n",
    "# test_ds = test_ds.prefetch(tf.data.AUTOTUNE)\n"
   ]
  },
  {
   "cell_type": "code",
   "execution_count": 10,
   "metadata": {},
   "outputs": [
    {
     "name": "stderr",
     "output_type": "stream",
     "text": [
      "2022-08-03 14:26:52.653369: I tensorflow/core/platform/cpu_feature_guard.cc:193] This TensorFlow binary is optimized with oneAPI Deep Neural Network Library (oneDNN) to use the following CPU instructions in performance-critical operations:  AVX2 AVX512F AVX512_VNNI FMA\n",
      "To enable them in other operations, rebuild TensorFlow with the appropriate compiler flags.\n",
      "2022-08-03 14:26:53.243759: I tensorflow/core/common_runtime/gpu/gpu_device.cc:1532] Created device /job:localhost/replica:0/task:0/device:GPU:0 with 30980 MB memory:  -> device: 0, name: Quadro GV100, pci bus id: 0000:3b:00.0, compute capability: 7.0\n"
     ]
    }
   ],
   "source": [
    "from nvidia.dali import pipeline_def\n",
    "import nvidia.dali.fn as fn\n",
    "import nvidia.dali.types as types\n",
    "import matplotlib.pyplot as plt\n",
    "import numpy as np\n",
    "\n",
    "\n",
    "batch_size = 16\n",
    "num_epochs = 15\n",
    "\n",
    "train_df, test_df = splitDataframe(df, split_ratio=0.8)\n",
    "classes = df.get_column(target_label).unique().to_list()\n",
    "\n",
    "num_train_batch = math.floor(train_df.height / batch_size)\n",
    "num_test_batch = math.floor(test_df.height / batch_size)\n",
    "\n",
    "train_paths = train_df.get_column('audio_file').to_list()\n",
    "train_labels = train_df.get_column(target_label).to_list()\n",
    "\n",
    "# Implement the pipeline\n",
    "@pipeline_def\n",
    "def audio_decoder_pipe(X_paths, labels):\n",
    "    encoded, _ = fn.readers.file(files=X_paths, labels=labels)\n",
    "    audio, sr = fn.decoders.audio(encoded, dtype=types.INT16)\n",
    "    spec = fn.spectrogram(audio, nfft=2048)\n",
    "    padded = fn.pad(spec, axes=0)\n",
    "    cropped = fn.crop(padded, crop=(50,50))\n",
    "    return spec\n",
    "\n",
    "\n",
    "import nvidia.dali.plugin.tf as dali_tf\n",
    "import tensorflow as tf\n",
    "import tensorflow.compat.v1 as tf_v1\n",
    "\n",
    "# create pipeline\n",
    "pipe = audio_decoder_pipe(X_paths=train_paths, labels=train_labels, batch_size=batch_size)\n",
    "\n",
    "#create dataset\n",
    "with tf.device('/cpu:0'):\n",
    "    train_set = dali_tf.DALIDataset(\n",
    "        pipeline=pipe,\n",
    "        batch_size=batch_size,\n",
    "        device_id=0,\n",
    "        output_dtypes=(tf.float32, tf.float32)\n",
    "    )\n",
    "\n",
    "\n",
    "\n"
   ]
  },
  {
   "cell_type": "code",
   "execution_count": 11,
   "metadata": {},
   "outputs": [],
   "source": [
    "# import math\n",
    "\n",
    "# def externalInputIterator(X_paths, labels, batch_size):\n",
    "#     X = np.array(X_paths)\n",
    "#     Y = np.array(labels)\n",
    "#     data_size = len(X)\n",
    "#     num_batches = math.floor(data_size/batch_size)\n",
    "\n",
    "#     # get an array of batches, where each batch is an array of indices used to access data\n",
    "#     data_indices = np.arange(data_size, dtype=int)\n",
    "#     np.random.shuffle(data_indices)\n",
    "#     data_indices = data_indices[:int(num_batches*batch_size)]\n",
    "#     batches = np.reshape(data_indices, (num_batches, batch_size))\n",
    "\n",
    "#     for i in range(num_batches):\n",
    "#         batch = batches[i,:]\n",
    "#         yield X[batch], Y[batch]\n",
    "\n"
   ]
  },
  {
   "cell_type": "code",
   "execution_count": 12,
   "metadata": {},
   "outputs": [
    {
     "ename": "",
     "evalue": "",
     "output_type": "error",
     "traceback": [
      "\u001b[1;31mCanceled future for execute_request message before replies were done"
     ]
    },
    {
     "ename": "",
     "evalue": "",
     "output_type": "error",
     "traceback": [
      "\u001b[1;31mThe Kernel crashed while executing code in the the current cell or a previous cell. Please review the code in the cell(s) to identify a possible cause of the failure. Click <a href='https://aka.ms/vscodeJupyterKernelCrash'>here</a> for more info. View Jupyter <a href='command:jupyter.viewOutput'>log</a> for further details."
     ]
    }
   ],
   "source": [
    "#keras script\n",
    "\n",
    "import numpy as np\n",
    "\n",
    "from keras.models import Sequential\n",
    "from tensorflow.keras import datasets, layers, models\n",
    "\n",
    "\n",
    "# examplePath = os.path.join(data_dir, '85349_TV.wav')\n",
    "# example = preProcessor(examplePath)\n",
    "# h, w = example.shape\n",
    "\n",
    "h, w = 50, 50\n",
    "\n",
    "# Design model\n",
    "model = Sequential()\n",
    "\n",
    "# Arcitecture\n",
    "model.add(layers.Conv2D(32, (3, 3), activation='relu', input_shape=(h, w, 1)))\n",
    "model.add(layers.Conv2D(32, (3, 3), activation='relu'))\n",
    "model.add(layers.Flatten())\n",
    "model.add(layers.Dense(256, activation='relu'))\n",
    "model.add(layers.Dense(128, activation='relu'))\n",
    "model.add(layers.Dense(64, activation='relu'))\n",
    "model.add(layers.Dense(32, activation='relu'))\n",
    "model.add(layers.Dense(1, activation='sigmoid'))\n",
    "\n",
    "model.compile(optimizer='adam', loss='bce', metrics=['accuracy'])\n",
    "\n",
    "# # Create a TensorBoard callback\n",
    "# logs = \"logs/\" + datetime.now().strftime(\"%Y%m%d-%H%M%S\")\n",
    "# tboard_callback = tf.keras.callbacks.TensorBoard(log_dir = logs, histogram_freq = 1, profile_batch = '10,15')\n",
    "\n",
    "# Train model on dataset\n",
    "history = model.fit(x=train_set, epochs=num_epochs, steps_per_epoch=num_train_batch)\n"
   ]
  },
  {
   "cell_type": "code",
   "execution_count": null,
   "metadata": {},
   "outputs": [
    {
     "data": {
      "image/png": "[encoded data removed]",
      "text/plain": [
       "<Figure size 432x288 with 1 Axes>"
      ]
     },
     "metadata": {
      "needs_background": "light"
     },
     "output_type": "display_data"
    }
   ],
   "source": [
    "plt.title('Loss')\n",
    "plt.plot(history.history['loss'], label='train', color='red')\n",
    "plt.plot(history.history['val_loss'], label='test', color='blue')\n",
    "plt.legend()\n",
    "plt.show()"
   ]
  },
  {
   "cell_type": "code",
   "execution_count": null,
   "metadata": {},
   "outputs": [
    {
     "data": {
      "image/png": "[encoded data removed]",
      "text/plain": [
       "<Figure size 432x288 with 1 Axes>"
      ]
     },
     "metadata": {
      "needs_background": "light"
     },
     "output_type": "display_data"
    }
   ],
   "source": [
    "plt.title('Accuracy')\n",
    "plt.plot(history.history['accuracy'], label='train', color='red')\n",
    "plt.plot(history.history['val_accuracy'], label='test', color='blue')\n",
    "plt.legend()\n",
    "plt.show()"
   ]
  },
  {
   "cell_type": "code",
   "execution_count": null,
   "metadata": {},
   "outputs": [],
   "source": [
    "# Load the TensorBoard notebook extension.\n",
    "%load_ext tensorboard\n"
   ]
  },
  {
   "cell_type": "code",
   "execution_count": null,
   "metadata": {},
   "outputs": [
    {
     "data": {
      "text/plain": [
       "Reusing TensorBoard on port 6006 (pid 378425), started 5 days, 23:39:29 ago. (Use '!kill 378425' to kill it.)"
      ]
     },
     "metadata": {},
     "output_type": "display_data"
    },
    {
     "data": {
      "text/html": [
       "\n",
       "      <iframe id=\"tensorboard-frame-395b2bdffd10da3\" width=\"100%\" height=\"800\" frameborder=\"0\">\n",
       "      </iframe>\n",
       "      <script>\n",
       "        (function() {\n",
       "          const frame = document.getElementById(\"tensorboard-frame-395b2bdffd10da3\");\n",
       "          const url = new URL(\"http://localhost\");\n",
       "          const port = 6006;\n",
       "          if (port) {\n",
       "            url.port = port;\n",
       "          }\n",
       "          frame.src = url;\n",
       "        })();\n",
       "      </script>\n",
       "    "
      ],
      "text/plain": [
       "<IPython.core.display.HTML object>"
      ]
     },
     "metadata": {},
     "output_type": "display_data"
    }
   ],
   "source": [
    "# Launch TensorBoard and navigate to the Profile tab to view performance profile\n",
    "%tensorboard --logdir=logs"
   ]
  }
 ],
 "metadata": {
  "kernelspec": {
   "display_name": "Python 3.8.10 64-bit",
   "language": "python",
   "name": "python3"
  },
  "language_info": {
   "codemirror_mode": {
    "name": "ipython",
    "version": 3
   },
   "file_extension": ".py",
   "mimetype": "text/x-python",
   "name": "python",
   "nbconvert_exporter": "python",
   "pygments_lexer": "ipython3",
   "version": "3.8.10"
  },
  "orig_nbformat": 4,
  "vscode": {
   "interpreter": {
    "hash": "916dbcbb3f70747c44a77c7bcd40155683ae19c65e1c03b4aa3499c5328201f1"
   }
  }
 },
 "nbformat": 4,
 "nbformat_minor": 2
}
