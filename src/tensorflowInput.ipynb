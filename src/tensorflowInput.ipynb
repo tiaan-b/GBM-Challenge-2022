{
 "cells": [
  {
   "cell_type": "code",
   "execution_count": 1,
   "metadata": {},
   "outputs": [
    {
     "name": "stderr",
     "output_type": "stream",
     "text": [
      "2022-08-16 08:07:39.983811: I tensorflow/core/util/util.cc:169] oneDNN custom operations are on. You may see slightly different numerical results due to floating-point round-off errors from different computation orders. To turn them off, set the environment variable `TF_ENABLE_ONEDNN_OPTS=0`.\n"
     ]
    }
   ],
   "source": [
    "import os\n",
    "os.environ['TF_GPU_THREAD_MODE'] = 'gpu_private'\n",
    "\n",
    "import polars as pl\n",
    "import librosa\n",
    "import librosa.display\n",
    "import matplotlib.pyplot as plt\n",
    "import helpers.input_processor as ip\n",
    "import tqdm\n",
    "import tensorflow as tf\n",
    "from tensorflow.data import Dataset as tfds\n",
    "import tensorflow_io as tfio\n",
    "import math, random\n",
    "import numpy as np\n",
    "\n",
    "from matplotlib import pyplot as plt\n",
    "import tensorflow.python.util as util"
   ]
  },
  {
   "cell_type": "code",
   "execution_count": 2,
   "metadata": {},
   "outputs": [
    {
     "name": "stderr",
     "output_type": "stream",
     "text": [
      "/home/tiaan/.local/lib/python3.8/site-packages/tqdm/auto.py:22: TqdmWarning: IProgress not found. Please update jupyter and ipywidgets. See https://ipywidgets.readthedocs.io/en/stable/user_install.html\n",
      "  from .autonotebook import tqdm as notebook_tqdm\n"
     ]
    }
   ],
   "source": [
    "import torch\n",
    "import torchaudio\n",
    "import polars as pl\n",
    "import matplotlib.pyplot as plt\n",
    "import os\n",
    "import numpy as np\n",
    "import tqdm\n",
    "from torchaudio import transforms\n",
    "from IPython.display import Audio\n",
    "import math, random\n",
    "\n",
    "import helpers.input_processor as ip"
   ]
  },
  {
   "cell_type": "code",
   "execution_count": 3,
   "metadata": {},
   "outputs": [],
   "source": [
    "from datetime import datetime\n",
    "from packaging import version\n",
    "# pip install -U tensorboard_plugin_profile"
   ]
  },
  {
   "cell_type": "code",
   "execution_count": 4,
   "metadata": {},
   "outputs": [
    {
     "name": "stdout",
     "output_type": "stream",
     "text": [
      "1 Physical GPUs, 1 Logical GPUs\n"
     ]
    },
    {
     "name": "stderr",
     "output_type": "stream",
     "text": [
      "2022-08-16 08:07:42.275586: I tensorflow/core/platform/cpu_feature_guard.cc:193] This TensorFlow binary is optimized with oneAPI Deep Neural Network Library (oneDNN) to use the following CPU instructions in performance-critical operations:  AVX2 AVX512F AVX512_VNNI FMA\n",
      "To enable them in other operations, rebuild TensorFlow with the appropriate compiler flags.\n",
      "2022-08-16 08:07:42.862386: I tensorflow/core/common_runtime/gpu/gpu_device.cc:1532] Created device /job:localhost/replica:0/task:0/device:GPU:0 with 30980 MB memory:  -> device: 0, name: Quadro GV100, pci bus id: 0000:3b:00.0, compute capability: 7.0\n"
     ]
    }
   ],
   "source": [
    "gpus = tf.config.list_physical_devices('GPU')\n",
    "if gpus:\n",
    "  try:\n",
    "    # Currently, memory growth needs to be the same across GPUs\n",
    "    for gpu in gpus:\n",
    "      tf.config.experimental.set_memory_growth(gpu, True)\n",
    "    logical_gpus = tf.config.list_logical_devices('GPU')\n",
    "    print(len(gpus), \"Physical GPUs,\", len(logical_gpus), \"Logical GPUs\")\n",
    "  except RuntimeError as e:\n",
    "    # Memory growth must be set before GPUs have been initialized\n",
    "    print(e)"
   ]
  },
  {
   "cell_type": "code",
   "execution_count": 5,
   "metadata": {},
   "outputs": [
    {
     "name": "stdout",
     "output_type": "stream",
     "text": [
      "loading data from save file:  cache/ingested_data.json\n"
     ]
    }
   ],
   "source": [
    "#load data from dataframe\n",
    "data_dir = \"data/raw_training/training_data/\"\n",
    "target_label = 'murmur_in_recording'\n",
    "df = (\n",
    "    ip.loadTrainingData(data_dir)\n",
    "    .filter(pl.col(target_label) != 'Unknown')\n",
    "    .pipe(ip.encodeData)\n",
    "    .select([\n",
    "        pl.col('audio_file').apply(lambda x: os.path.join(data_dir, x)),\n",
    "        pl.col(target_label)\n",
    "    ])\n",
    ")"
   ]
  },
  {
   "cell_type": "code",
   "execution_count": 6,
   "metadata": {},
   "outputs": [
    {
     "name": "stdout",
     "output_type": "stream",
     "text": [
      "Total Samples:        5328\n",
      "Positive Samples:     2664\n",
      "Negative Samples:     2664\n",
      "Percent Positive Samples:     0.5\n"
     ]
    }
   ],
   "source": [
    "#balance the data so that there is an equal number of murmur positive and murmur negative samples\n",
    "#do this by duplicating random rows of whichever group (pos or neg) is smaller\n",
    "neg_df = df.filter(pl.col(target_label)==0.0)\n",
    "pos_df = df.filter(pl.col(target_label)==1.0)\n",
    "numNeg = neg_df.height\n",
    "numPos = pos_df.height\n",
    "\n",
    "while numNeg != numPos:\n",
    "    if numNeg < numPos:\n",
    "        df.vstack(neg_df.sample(n=min(numPos-numNeg, neg_df.height), shuffle=True), in_place=True)\n",
    "    else: \n",
    "        df.vstack(pos_df.sample(n=min(numNeg-numPos, pos_df.height), shuffle=True), in_place=True)\n",
    "    numNeg = df.filter(pl.col(target_label)==0.0).height\n",
    "    numPos = df.filter(pl.col(target_label)==1.0).height\n",
    "\n",
    "#reshuffle rows\n",
    "df = df.sample(frac=1.0, shuffle=True)\n",
    "\n",
    "#check number of positive and negative samples\n",
    "numNeg = df.filter(pl.col(target_label)==0.0).height\n",
    "numPos = df.filter(pl.col(target_label)==1.0).height\n",
    "print('Total Samples:       ', df.height)\n",
    "print('Positive Samples:    ', numPos)\n",
    "print('Negative Samples:    ', numNeg)\n",
    "print('Percent Positive Samples:    ', numPos/(numPos+numNeg))\n",
    "\n",
    "\n",
    "# method 2:\n",
    "\n",
    "# #balance the data so that there is an equal number of murmur positive and murmur negative samples\n",
    "# #do this by duplicating random rows of whichever group (pos or neg) is smaller\n",
    "# neg_df = df.filter(pl.col(target_label)==0.0)\n",
    "# pos_df = df.filter(pl.col(target_label)==1.0)\n",
    "# numNeg = neg_df.height\n",
    "# numPos = pos_df.height\n",
    "\n",
    "# if numNeg < numPos:\n",
    "#     df = neg_df.vstack(pos_df.sample(n=numNeg))\n",
    "# elif numPos < numNeg:\n",
    "#     df = pos_df.vstack(neg_df.sample(n=numPos))\n",
    "# else:\n",
    "#     df = neg_df.vstack(pos_df)\n",
    "\n",
    "# #reshuffle rows\n",
    "# df = df.sample(frac=1.0, shuffle=True)\n",
    "\n",
    "# #check number of positive and negative samples\n",
    "# numNeg = df.filter(pl.col(target_label)==0.0).height\n",
    "# numPos = df.filter(pl.col(target_label)==1.0).height\n",
    "# print('Total Samples:       ', df.height)\n",
    "# print('Positive Samples:    ', numPos)\n",
    "# print('Negative Samples:    ', numNeg)\n",
    "# print('Percent Positive Samples:    ', numPos/(numPos+numNeg))"
   ]
  },
  {
   "cell_type": "code",
   "execution_count": 7,
   "metadata": {},
   "outputs": [],
   "source": [
    "from nvidia.dali import pipeline_def\n",
    "import nvidia.dali.fn as fn\n",
    "import nvidia.dali.types as types\n",
    "import nvidia.dali.plugin.tf as dali_tf\n",
    "\n",
    "BATCH_SIZE = 64\n",
    "NUM_EPOCHS = 50\n",
    "H = 128\n",
    "W = 313\n",
    "DEVICE = 'gpu'\n",
    "\n",
    "#prefetch_queue_depth=2*BATCH_SIZE, num_threads=4\n",
    "@pipeline_def(device_id=0, batch_size=BATCH_SIZE)\n",
    "def pipe(audioPaths, labels, device, sr=4000, duration=20, augmentData=True):\n",
    "    # Load audio files\n",
    "    encoded, labelsOut = fn.readers.file(files=audioPaths, labels=labels)\n",
    "    audio, _ = fn.decoders.audio(encoded, sample_rate=sr)\n",
    "    if device=='gpu':\n",
    "        audio = audio.gpu()\n",
    "        labelsOut = labelsOut.gpu()\n",
    "\n",
    "    # Resize samples to uniform length, either by padding it with silence or truncating it\n",
    "    trimmedSize = duration*sr\n",
    "    audio = fn.slice(audio, 0, trimmedSize, axes=0, out_of_bounds_policy='pad')\n",
    "\n",
    "    # Time shift signal to the left or right by a random percent of its original length (max 99%)\n",
    "    #   NOT IMPLEMENTED \n",
    "\n",
    "    # Get mel spectrogram\n",
    "    spec = fn.spectrogram(audio, device=device)\n",
    "    melSpec = fn.mel_filter_bank(spec, sample_rate=sr, nfilter=128)\n",
    "    melSpec = fn.to_decibels(melSpec, multiplier=10.0)\n",
    "\n",
    "    if augmentData==True:\n",
    "        # Apply time and frequency masking\n",
    "        # maskValue = fn.reductions.mean(melSpec, device='cpu')\n",
    "        maskValue = 0.\n",
    "        melSpec = fn.erase(melSpec, axes=0, fill_value=maskValue, anchor=fn.random.uniform(range=(0.,1.)), shape=fn.random.uniform(range=(0.,0.1)), normalized=True, device=device)\n",
    "        melSpec = fn.erase(melSpec, axes=1, fill_value=maskValue, anchor=fn.random.uniform(range=(0.,1.)), shape=fn.random.uniform(range=(0.,0.1)), normalized=True, device=device)\n",
    "        normalized = fn.normalize(melSpec)\n",
    "        samplesOut = normalized\n",
    "    else:\n",
    "        samplesOut = melSpec\n",
    "\n",
    "    return samplesOut, labelsOut\n"
   ]
  },
  {
   "cell_type": "code",
   "execution_count": 8,
   "metadata": {},
   "outputs": [
    {
     "name": "stdout",
     "output_type": "stream",
     "text": [
      "Training Set Size, Batches:      3836, 60\n",
      "Validation Set Size, Batches:    959, 15\n",
      "Testing Set Size, Batches:       533, 9\n"
     ]
    }
   ],
   "source": [
    "# Split data into training, validation, and testing sets\n",
    "train_df, test_df = ip.splitDataframe(df, split_ratio=0.9)\n",
    "train_df, val_df = ip.splitDataframe(train_df, split_ratio=0.8)\n",
    "numTrainBatches = math.ceil(train_df.height / BATCH_SIZE)\n",
    "numValBatches = math.ceil(val_df.height / BATCH_SIZE)\n",
    "numTestBatches = math.ceil(test_df.height / BATCH_SIZE)\n",
    "print(f'Training Set Size, Batches:      {train_df.height}, {numTrainBatches}')\n",
    "print(f'Validation Set Size, Batches:    {val_df.height}, {numValBatches}')\n",
    "print(f'Testing Set Size, Batches:       {test_df.height}, {numTestBatches}')\n",
    "\n",
    "\n",
    "with tf.device('/gpu:0' if DEVICE=='gpu' else '/cpu:0'):\n",
    "    # Define shapes and types of the outputs\n",
    "    shapes = ((BATCH_SIZE, H, W), (BATCH_SIZE))\n",
    "    dtypes = (tf.float32, tf.int32)\n",
    "\n",
    "    # Create pipelines\n",
    "    train_pipe = pipe(audioPaths=train_df.get_column('audio_file').to_list(),\n",
    "                    labels=train_df.get_column(target_label).to_list(),\n",
    "                    device=DEVICE)\n",
    "    val_pipe = pipe(audioPaths=val_df.get_column('audio_file').to_list(),\n",
    "                    labels=val_df.get_column(target_label).to_list(),\n",
    "                    device=DEVICE)            \n",
    "    test_pipe = pipe(audioPaths=test_df.get_column('audio_file').to_list(),\n",
    "                    labels=test_df.get_column(target_label).to_list(),\n",
    "                    device=DEVICE)\n",
    "\n",
    "    # Create datasets\n",
    "    kwargs = dict(batch_size=BATCH_SIZE,\n",
    "                  output_shapes=shapes,\n",
    "                  output_dtypes=dtypes,\n",
    "                  device_id=0,\n",
    "                  prefetch_queue_depth=4,\n",
    "                  num_threads=4,\n",
    "                  exec_separated=True)\n",
    "    train_set = dali_tf.DALIDataset(pipeline=train_pipe, **kwargs)\n",
    "    val_set = dali_tf.DALIDataset(pipeline=val_pipe, **kwargs)\n",
    "    test_set = dali_tf.DALIDataset(pipeline=test_pipe, **kwargs)\n"
   ]
  },
  {
   "cell_type": "code",
   "execution_count": 9,
   "metadata": {},
   "outputs": [],
   "source": [
    "\n",
    "# train_pipe.build()\n",
    "# train_pipe.save_graph_to_dot_file('DALIgraph2.dot', use_colors=True, show_ids=False, show_tensors=True)"
   ]
  },
  {
   "cell_type": "code",
   "execution_count": 10,
   "metadata": {},
   "outputs": [
    {
     "name": "stdout",
     "output_type": "stream",
     "text": [
      "Model: \"sequential\"\n",
      "_________________________________________________________________\n",
      " Layer (type)                Output Shape              Param #   \n",
      "=================================================================\n",
      " conv2d (Conv2D)             (None, 126, 311, 32)      320       \n",
      "                                                                 \n",
      " max_pooling2d (MaxPooling2D  (None, 63, 155, 32)      0         \n",
      " )                                                               \n",
      "                                                                 \n",
      " dropout (Dropout)           (None, 63, 155, 32)       0         \n",
      "                                                                 \n",
      " conv2d_1 (Conv2D)           (None, 61, 153, 64)       18496     \n",
      "                                                                 \n",
      " max_pooling2d_1 (MaxPooling  (None, 30, 76, 64)       0         \n",
      " 2D)                                                             \n",
      "                                                                 \n",
      " dropout_1 (Dropout)         (None, 30, 76, 64)        0         \n",
      "                                                                 \n",
      " conv2d_2 (Conv2D)           (None, 28, 74, 128)       73856     \n",
      "                                                                 \n",
      " max_pooling2d_2 (MaxPooling  (None, 14, 37, 128)      0         \n",
      " 2D)                                                             \n",
      "                                                                 \n",
      " dropout_2 (Dropout)         (None, 14, 37, 128)       0         \n",
      "                                                                 \n",
      " flatten (Flatten)           (None, 66304)             0         \n",
      "                                                                 \n",
      " dense (Dense)               (None, 64)                4243520   \n",
      "                                                                 \n",
      " dropout_3 (Dropout)         (None, 64)                0         \n",
      "                                                                 \n",
      " dense_1 (Dense)             (None, 32)                2080      \n",
      "                                                                 \n",
      " dense_2 (Dense)             (None, 1)                 33        \n",
      "                                                                 \n",
      "=================================================================\n",
      "Total params: 4,338,305\n",
      "Trainable params: 4,338,305\n",
      "Non-trainable params: 0\n",
      "_________________________________________________________________\n",
      "Epoch 1/50\n"
     ]
    },
    {
     "name": "stderr",
     "output_type": "stream",
     "text": [
      "2022-08-16 08:07:45.908248: I tensorflow/stream_executor/cuda/cuda_dnn.cc:384] Loaded cuDNN version 8401\n",
      "2022-08-16 08:07:46.511097: I tensorflow/core/platform/default/subprocess.cc:304] Start cannot spawn child process: No such file or directory\n"
     ]
    },
    {
     "name": "stdout",
     "output_type": "stream",
     "text": [
      "54/54 [==============================] - 5s 39ms/step - loss: 0.7330 - accuracy: 0.5049 - val_loss: 0.6930 - val_accuracy: 0.5024\n",
      "Epoch 2/50\n",
      "54/54 [==============================] - 2s 36ms/step - loss: 0.6922 - accuracy: 0.5148 - val_loss: 0.6921 - val_accuracy: 0.5156\n",
      "Epoch 3/50\n",
      "54/54 [==============================] - 2s 35ms/step - loss: 0.6871 - accuracy: 0.5567 - val_loss: 0.6690 - val_accuracy: 0.5733\n",
      "Epoch 4/50\n",
      "54/54 [==============================] - 2s 36ms/step - loss: 0.6694 - accuracy: 0.5938 - val_loss: 0.6171 - val_accuracy: 0.6370\n",
      "Epoch 5/50\n",
      "54/54 [==============================] - 2s 35ms/step - loss: 0.6302 - accuracy: 0.6421 - val_loss: 0.6217 - val_accuracy: 0.6346\n",
      "Epoch 6/50\n",
      "54/54 [==============================] - 2s 35ms/step - loss: 0.5658 - accuracy: 0.6811 - val_loss: 0.5150 - val_accuracy: 0.7272\n",
      "Epoch 7/50\n",
      "54/54 [==============================] - 2s 35ms/step - loss: 0.5030 - accuracy: 0.7425 - val_loss: 0.4600 - val_accuracy: 0.7752\n",
      "Epoch 8/50\n",
      "54/54 [==============================] - 2s 36ms/step - loss: 0.4616 - accuracy: 0.7804 - val_loss: 0.4256 - val_accuracy: 0.8113\n",
      "Epoch 9/50\n",
      "54/54 [==============================] - 2s 35ms/step - loss: 0.4334 - accuracy: 0.8001 - val_loss: 0.3933 - val_accuracy: 0.8401\n",
      "Epoch 10/50\n",
      "54/54 [==============================] - 2s 35ms/step - loss: 0.3768 - accuracy: 0.8325 - val_loss: 0.4285 - val_accuracy: 0.7933\n",
      "Epoch 11/50\n",
      "54/54 [==============================] - 2s 35ms/step - loss: 0.3519 - accuracy: 0.8374 - val_loss: 0.3714 - val_accuracy: 0.8438\n",
      "Epoch 12/50\n",
      "54/54 [==============================] - 2s 35ms/step - loss: 0.3259 - accuracy: 0.8469 - val_loss: 0.3203 - val_accuracy: 0.8630\n",
      "Epoch 13/50\n",
      "54/54 [==============================] - 2s 35ms/step - loss: 0.3024 - accuracy: 0.8643 - val_loss: 0.3093 - val_accuracy: 0.8606\n",
      "Epoch 14/50\n",
      "54/54 [==============================] - 2s 35ms/step - loss: 0.2996 - accuracy: 0.8692 - val_loss: 0.2863 - val_accuracy: 0.8786\n",
      "Epoch 15/50\n",
      "54/54 [==============================] - 2s 35ms/step - loss: 0.2597 - accuracy: 0.8927 - val_loss: 0.2579 - val_accuracy: 0.9026\n",
      "Epoch 16/50\n",
      "54/54 [==============================] - 2s 36ms/step - loss: 0.2375 - accuracy: 0.9022 - val_loss: 0.3036 - val_accuracy: 0.8750\n",
      "Epoch 17/50\n",
      "54/54 [==============================] - 2s 35ms/step - loss: 0.2371 - accuracy: 0.8999 - val_loss: 0.2567 - val_accuracy: 0.8978\n",
      "Epoch 18/50\n",
      "54/54 [==============================] - 2s 36ms/step - loss: 0.2371 - accuracy: 0.8999 - val_loss: 0.2854 - val_accuracy: 0.8666\n",
      "Epoch 19/50\n",
      "54/54 [==============================] - 2s 36ms/step - loss: 0.2120 - accuracy: 0.9083 - val_loss: 0.2549 - val_accuracy: 0.9062\n",
      "Epoch 20/50\n",
      "54/54 [==============================] - 2s 36ms/step - loss: 0.1991 - accuracy: 0.9233 - val_loss: 0.3097 - val_accuracy: 0.8810\n",
      "Epoch 21/50\n",
      "54/54 [==============================] - 2s 35ms/step - loss: 0.1852 - accuracy: 0.9213 - val_loss: 0.2305 - val_accuracy: 0.9147\n",
      "Epoch 22/50\n",
      "54/54 [==============================] - 2s 35ms/step - loss: 0.1894 - accuracy: 0.9256 - val_loss: 0.2052 - val_accuracy: 0.9255\n",
      "Epoch 23/50\n",
      "54/54 [==============================] - 2s 36ms/step - loss: 0.1677 - accuracy: 0.9323 - val_loss: 0.1992 - val_accuracy: 0.9315\n",
      "Epoch 24/50\n",
      "54/54 [==============================] - 2s 35ms/step - loss: 0.1742 - accuracy: 0.9288 - val_loss: 0.1958 - val_accuracy: 0.9291\n",
      "Epoch 25/50\n",
      "54/54 [==============================] - 2s 35ms/step - loss: 0.1585 - accuracy: 0.9369 - val_loss: 0.1879 - val_accuracy: 0.9327\n",
      "Epoch 26/50\n",
      "54/54 [==============================] - 2s 36ms/step - loss: 0.1395 - accuracy: 0.9462 - val_loss: 0.1752 - val_accuracy: 0.9375\n",
      "Epoch 27/50\n",
      "54/54 [==============================] - 2s 35ms/step - loss: 0.1497 - accuracy: 0.9398 - val_loss: 0.1712 - val_accuracy: 0.9411\n",
      "Epoch 28/50\n",
      "54/54 [==============================] - 2s 35ms/step - loss: 0.1308 - accuracy: 0.9537 - val_loss: 0.1704 - val_accuracy: 0.9399\n",
      "Epoch 29/50\n",
      "54/54 [==============================] - 2s 35ms/step - loss: 0.1016 - accuracy: 0.9604 - val_loss: 0.1577 - val_accuracy: 0.9507\n",
      "Epoch 30/50\n",
      "54/54 [==============================] - 2s 35ms/step - loss: 0.1135 - accuracy: 0.9549 - val_loss: 0.1498 - val_accuracy: 0.9519\n",
      "Epoch 31/50\n",
      "54/54 [==============================] - 2s 35ms/step - loss: 0.1100 - accuracy: 0.9552 - val_loss: 0.1895 - val_accuracy: 0.9339\n",
      "Epoch 32/50\n",
      "54/54 [==============================] - 2s 36ms/step - loss: 0.1160 - accuracy: 0.9554 - val_loss: 0.1268 - val_accuracy: 0.9591\n",
      "Epoch 33/50\n",
      "54/54 [==============================] - 2s 36ms/step - loss: 0.1083 - accuracy: 0.9572 - val_loss: 0.1280 - val_accuracy: 0.9531\n",
      "Epoch 34/50\n",
      "54/54 [==============================] - 2s 36ms/step - loss: 0.1060 - accuracy: 0.9606 - val_loss: 0.1272 - val_accuracy: 0.9567\n",
      "Epoch 35/50\n",
      "54/54 [==============================] - 2s 35ms/step - loss: 0.1060 - accuracy: 0.9586 - val_loss: 0.1208 - val_accuracy: 0.9651\n",
      "Epoch 36/50\n",
      "54/54 [==============================] - 2s 36ms/step - loss: 0.0948 - accuracy: 0.9630 - val_loss: 0.1386 - val_accuracy: 0.9495\n",
      "Epoch 37/50\n",
      "54/54 [==============================] - 2s 36ms/step - loss: 0.0891 - accuracy: 0.9653 - val_loss: 0.0997 - val_accuracy: 0.9651\n",
      "Epoch 38/50\n",
      "54/54 [==============================] - 2s 36ms/step - loss: 0.0914 - accuracy: 0.9670 - val_loss: 0.1023 - val_accuracy: 0.9688\n",
      "Epoch 39/50\n",
      "54/54 [==============================] - 2s 36ms/step - loss: 0.0858 - accuracy: 0.9653 - val_loss: 0.1097 - val_accuracy: 0.9712\n",
      "Epoch 40/50\n",
      "54/54 [==============================] - 2s 35ms/step - loss: 0.0790 - accuracy: 0.9731 - val_loss: 0.0945 - val_accuracy: 0.9724\n",
      "Epoch 41/50\n",
      "54/54 [==============================] - 2s 35ms/step - loss: 0.0719 - accuracy: 0.9725 - val_loss: 0.1883 - val_accuracy: 0.9519\n",
      "Epoch 42/50\n",
      "54/54 [==============================] - 2s 36ms/step - loss: 0.0850 - accuracy: 0.9673 - val_loss: 0.1050 - val_accuracy: 0.9639\n",
      "Epoch 43/50\n",
      "54/54 [==============================] - 2s 36ms/step - loss: 0.0960 - accuracy: 0.9682 - val_loss: 0.1077 - val_accuracy: 0.9700\n",
      "Epoch 44/50\n",
      "54/54 [==============================] - 2s 36ms/step - loss: 0.0721 - accuracy: 0.9719 - val_loss: 0.1159 - val_accuracy: 0.9663\n",
      "Epoch 45/50\n",
      "54/54 [==============================] - 2s 36ms/step - loss: 0.0668 - accuracy: 0.9751 - val_loss: 0.1365 - val_accuracy: 0.9700\n",
      "Epoch 46/50\n",
      "54/54 [==============================] - 2s 36ms/step - loss: 0.0736 - accuracy: 0.9734 - val_loss: 0.1034 - val_accuracy: 0.9736\n",
      "Epoch 47/50\n",
      "54/54 [==============================] - 2s 36ms/step - loss: 0.0694 - accuracy: 0.9740 - val_loss: 0.1152 - val_accuracy: 0.9700\n",
      "Epoch 48/50\n",
      "54/54 [==============================] - 2s 36ms/step - loss: 0.0662 - accuracy: 0.9771 - val_loss: 0.1295 - val_accuracy: 0.9543\n",
      "Epoch 49/50\n",
      "54/54 [==============================] - 2s 35ms/step - loss: 0.0782 - accuracy: 0.9716 - val_loss: 0.1001 - val_accuracy: 0.9712\n",
      "Epoch 50/50\n",
      "54/54 [==============================] - 2s 35ms/step - loss: 0.0669 - accuracy: 0.9725 - val_loss: 0.0746 - val_accuracy: 0.9796\n"
     ]
    }
   ],
   "source": [
    "#keras script\n",
    "\n",
    "import numpy as np\n",
    "from keras.models import Sequential\n",
    "from keras import datasets, layers, models\n",
    "\n",
    "with tf.device('/gpu:0' if DEVICE=='gpu' else '/cpu:0'):\n",
    "    # Design model\n",
    "    input_shape = (H, W, 1) # 128,313,1\n",
    "    model = Sequential()\n",
    "\n",
    "    # Arcitecture\n",
    "    # model.add(layers.Conv2D(8, (3,3), activation='relu', input_shape=input_shape, padding='same'))\n",
    "    # model.add(layers.MaxPool2D(pool_size=(2,2), strides=2))\n",
    "    # model.add(layers.Conv2D(16, (5,5), activation='relu'))\n",
    "    # model.add(layers.MaxPool2D(pool_size=(2,2), strides=2))\n",
    "    # model.add(layers.Conv2D(32, (5,5), activation='relu'))\n",
    "    # model.add(layers.MaxPool2D(pool_size=(2,2), strides=2))\n",
    "    # model.add(layers.Conv2D(64, (5,5), activation='relu'))\n",
    "    # model.add(layers.MaxPool2D(pool_size=(2,2), strides=2))\n",
    "    # model.add(layers.Flatten())\n",
    "    # model.add(layers.Dense(128, activation='relu'))\n",
    "    # model.add(layers.Dense(64, activation='relu'))\n",
    "    # model.add(layers.Dense(32, activation='relu'))\n",
    "    # model.add(layers.Dense(1, activation='sigmoid'))\n",
    "\n",
    "\n",
    "\n",
    "    model.add(layers.Conv2D(32, (3,3), activation='relu', input_shape=input_shape))\n",
    "    model.add(layers.MaxPool2D((2,2)))\n",
    "    model.add(layers.Dropout(0.2))\n",
    "    model.add(layers.Conv2D(64, (3,3), activation='relu'))\n",
    "    model.add(layers.MaxPool2D((2,2)))\n",
    "    model.add(layers.Dropout(0.2))\n",
    "    model.add(layers.Conv2D(128, (3,3), activation='relu'))\n",
    "    model.add(layers.MaxPool2D((2,2)))\n",
    "    model.add(layers.Dropout(0.2))\n",
    "    # model.add(layers.Conv2D(256, (3,3), activation='relu'))\n",
    "    # model.add(layers.MaxPool2D((2,2)))\n",
    "    # model.add(layers.Dropout(0.2))\n",
    "    model.add(layers.Flatten())\n",
    "    model.add(layers.Dense(64, activation='relu'))\n",
    "    model.add(layers.Dropout(0.5))\n",
    "    model.add(layers.Dense(32, activation='relu'))\n",
    "    # model.add(layers.Dropout(0.1))\n",
    "    model.add(layers.Dense(1, activation='sigmoid'))\n",
    "\n",
    "\n",
    "\n",
    "    # model.add(layers.Conv2D(16, (3,3), activation='relu', input_shape=input_shape))\n",
    "    # model.add(layers.Conv2D(16, (3,3), activation='relu'))\n",
    "    # model.add(layers.MaxPool2D((2,2)))\n",
    "    # model.add(layers.Dropout(0.2))\n",
    "    # model.add(layers.Conv2D(32, (3,3), activation='relu'))\n",
    "    # model.add(layers.Conv2D(32, (3,3), activation='relu'))\n",
    "    # model.add(layers.MaxPool2D((2,2)))\n",
    "    # model.add(layers.Dropout(0.5))\n",
    "    # model.add(layers.Flatten())\n",
    "    # model.add(layers.Dense(64, activation='relu'))\n",
    "    # model.add(layers.Dropout(0.5))\n",
    "    # # model.add(layers.Dense(32, activation='relu'))\n",
    "    # model.add(layers.Dense(1, activation='sigmoid'))\n",
    "\n",
    "    model.compile(optimizer='adam', loss='bce', metrics=['accuracy'])\n",
    "    model.summary()\n",
    "\n",
    "    # # Create a TensorBoard callback\n",
    "    # logs = \"logs/\" + datetime.now().strftime(\"%Y%m%d-%H%M%S\")\n",
    "    # tboard_callback = tf.keras.callbacks.TensorBoard(log_dir = logs, histogram_freq = 1, profile_batch = '10,15')\n",
    "\n",
    "    # Train model on dataset\n",
    "    history = model.fit(\n",
    "        x=train_set,\n",
    "        validation_data=val_set,\n",
    "        epochs=NUM_EPOCHS,\n",
    "        steps_per_epoch=int(numTrainBatches*0.9),\n",
    "        validation_steps=int(numValBatches*0.9),\n",
    "        # callbacks=tboard_callback\n",
    "    )"
   ]
  },
  {
   "cell_type": "code",
   "execution_count": 11,
   "metadata": {},
   "outputs": [
    {
     "data": {
      "image/png": "[encoded data removed]",
      "text/plain": [
       "<Figure size 1080x360 with 2 Axes>"
      ]
     },
     "metadata": {
      "needs_background": "light"
     },
     "output_type": "display_data"
    }
   ],
   "source": [
    "#Adapted from Deep Learning with Python by Francois Chollet, 2018\n",
    "history_dict=history.history\n",
    "loss_values=history_dict['loss']\n",
    "acc_values=history_dict['accuracy']\n",
    "val_loss_values = history_dict['val_loss']\n",
    "val_acc_values=history_dict['val_accuracy']\n",
    "epochs=range(1,NUM_EPOCHS+1)\n",
    "fig,(ax1,ax2)=plt.subplots(1,2,figsize=(15,5))\n",
    "ax1.plot(epochs,loss_values,'bo',label='Training Loss')\n",
    "ax1.plot(epochs,val_loss_values,'orange', label='Validation Loss')\n",
    "ax1.set_title('Training and validation loss')\n",
    "ax1.set_xlabel('Epochs')\n",
    "ax1.set_ylabel('Loss')\n",
    "ax1.legend()\n",
    "ax2.plot(epochs,acc_values,'bo', label='Training accuracy')\n",
    "ax2.plot(epochs,val_acc_values,'orange',label='Validation accuracy')\n",
    "ax2.set_title('Training and validation accuracy')\n",
    "ax2.set_xlabel('Epochs')\n",
    "ax2.set_ylabel('Accuracy')\n",
    "ax2.legend()\n",
    "plt.show()"
   ]
  },
  {
   "cell_type": "code",
   "execution_count": 12,
   "metadata": {},
   "outputs": [
    {
     "name": "stdout",
     "output_type": "stream",
     "text": [
      "9/9 [==============================] - 0s 11ms/step - loss: 0.0798 - accuracy: 0.9705\n"
     ]
    },
    {
     "data": {
      "text/plain": [
       "[0.07984355092048645, 0.9704861044883728]"
      ]
     },
     "execution_count": 12,
     "metadata": {},
     "output_type": "execute_result"
    }
   ],
   "source": [
    "model.evaluate(test_set, steps=numTestBatches)"
   ]
  },
  {
   "cell_type": "code",
   "execution_count": 13,
   "metadata": {},
   "outputs": [
    {
     "data": {
      "image/png": "[encoded data removed]",
      "text/plain": [
       "<Figure size 432x288 with 1 Axes>"
      ]
     },
     "metadata": {
      "needs_background": "light"
     },
     "output_type": "display_data"
    }
   ],
   "source": [
    "plt.title('Loss')\n",
    "plt.plot(history.history['loss'], label='train', color='red')\n",
    "plt.plot(history.history['val_loss'], label='test', color='blue')\n",
    "plt.legend()\n",
    "plt.show()"
   ]
  },
  {
   "cell_type": "code",
   "execution_count": 14,
   "metadata": {},
   "outputs": [
    {
     "data": {
      "image/png": "[encoded data removed]",
      "text/plain": [
       "<Figure size 432x288 with 1 Axes>"
      ]
     },
     "metadata": {
      "needs_background": "light"
     },
     "output_type": "display_data"
    }
   ],
   "source": [
    "plt.title('Accuracy')\n",
    "plt.plot(history.history['accuracy'], label='train', color='red')\n",
    "plt.plot(history.history['val_accuracy'], label='test', color='blue')\n",
    "plt.legend()\n",
    "plt.show()"
   ]
  },
  {
   "cell_type": "code",
   "execution_count": 15,
   "metadata": {},
   "outputs": [],
   "source": [
    "# Load the TensorBoard notebook extension.\n",
    "%load_ext tensorboard\n"
   ]
  },
  {
   "cell_type": "code",
   "execution_count": 16,
   "metadata": {},
   "outputs": [
    {
     "data": {
      "text/plain": [
       "Reusing TensorBoard on port 6006 (pid 55615), started 10 days, 18:36:26 ago. (Use '!kill 55615' to kill it.)"
      ]
     },
     "metadata": {},
     "output_type": "display_data"
    },
    {
     "data": {
      "text/html": [
       "\n",
       "      <iframe id=\"tensorboard-frame-364a6edc4f34207d\" width=\"100%\" height=\"800\" frameborder=\"0\">\n",
       "      </iframe>\n",
       "      <script>\n",
       "        (function() {\n",
       "          const frame = document.getElementById(\"tensorboard-frame-364a6edc4f34207d\");\n",
       "          const url = new URL(\"http://localhost\");\n",
       "          const port = 6006;\n",
       "          if (port) {\n",
       "            url.port = port;\n",
       "          }\n",
       "          frame.src = url;\n",
       "        })();\n",
       "      </script>\n",
       "    "
      ],
      "text/plain": [
       "<IPython.core.display.HTML object>"
      ]
     },
     "metadata": {},
     "output_type": "display_data"
    }
   ],
   "source": [
    "# Launch TensorBoard and navigate to the Profile tab to view performance profile\n",
    "%tensorboard --logdir=logs"
   ]
  }
 ],
 "metadata": {
  "kernelspec": {
   "display_name": "Python 3.8.10 64-bit",
   "language": "python",
   "name": "python3"
  },
  "language_info": {
   "codemirror_mode": {
    "name": "ipython",
    "version": 3
   },
   "file_extension": ".py",
   "mimetype": "text/x-python",
   "name": "python",
   "nbconvert_exporter": "python",
   "pygments_lexer": "ipython3",
   "version": "3.8.10"
  },
  "orig_nbformat": 4,
  "vscode": {
   "interpreter": {
    "hash": "916dbcbb3f70747c44a77c7bcd40155683ae19c65e1c03b4aa3499c5328201f1"
   }
  }
 },
 "nbformat": 4,
 "nbformat_minor": 2
}
