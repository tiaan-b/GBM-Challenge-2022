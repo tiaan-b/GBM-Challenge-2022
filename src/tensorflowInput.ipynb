{
 "cells": [
  {
   "cell_type": "code",
   "execution_count": 1,
   "metadata": {},
   "outputs": [
    {
     "name": "stderr",
     "output_type": "stream",
     "text": [
      "2022-08-17 16:24:49.397776: I tensorflow/core/util/util.cc:169] oneDNN custom operations are on. You may see slightly different numerical results due to floating-point round-off errors from different computation orders. To turn them off, set the environment variable `TF_ENABLE_ONEDNN_OPTS=0`.\n"
     ]
    }
   ],
   "source": [
    "import os\n",
    "os.environ['TF_GPU_THREAD_MODE'] = 'gpu_private'\n",
    "\n",
    "import polars as pl\n",
    "import librosa\n",
    "import librosa.display\n",
    "import matplotlib.pyplot as plt\n",
    "import helpers.input_processor as ip\n",
    "import tqdm\n",
    "import tensorflow as tf\n",
    "from tensorflow.data import Dataset as tfds\n",
    "import tensorflow_io as tfio\n",
    "import math, random\n",
    "import numpy as np\n",
    "\n",
    "from matplotlib import pyplot as plt\n",
    "import tensorflow.python.util as util"
   ]
  },
  {
   "cell_type": "code",
   "execution_count": 2,
   "metadata": {},
   "outputs": [
    {
     "name": "stderr",
     "output_type": "stream",
     "text": [
      "/home/tiaan/.local/lib/python3.8/site-packages/tqdm/auto.py:22: TqdmWarning: IProgress not found. Please update jupyter and ipywidgets. See https://ipywidgets.readthedocs.io/en/stable/user_install.html\n",
      "  from .autonotebook import tqdm as notebook_tqdm\n"
     ]
    }
   ],
   "source": [
    "import torch\n",
    "import torchaudio\n",
    "import polars as pl\n",
    "import matplotlib.pyplot as plt\n",
    "import os\n",
    "import numpy as np\n",
    "import tqdm\n",
    "from torchaudio import transforms\n",
    "from IPython.display import Audio\n",
    "import math, random\n",
    "\n",
    "import helpers.input_processor as ip"
   ]
  },
  {
   "cell_type": "code",
   "execution_count": 3,
   "metadata": {},
   "outputs": [],
   "source": [
    "from datetime import datetime\n",
    "from packaging import version\n",
    "# pip install -U tensorboard_plugin_profile"
   ]
  },
  {
   "cell_type": "code",
   "execution_count": 4,
   "metadata": {},
   "outputs": [
    {
     "name": "stdout",
     "output_type": "stream",
     "text": [
      "1 Physical GPUs, 1 Logical GPUs\n"
     ]
    },
    {
     "name": "stderr",
     "output_type": "stream",
     "text": [
      "2022-08-17 16:24:51.999696: I tensorflow/core/platform/cpu_feature_guard.cc:193] This TensorFlow binary is optimized with oneAPI Deep Neural Network Library (oneDNN) to use the following CPU instructions in performance-critical operations:  AVX2 AVX512F AVX512_VNNI FMA\n",
      "To enable them in other operations, rebuild TensorFlow with the appropriate compiler flags.\n",
      "2022-08-17 16:24:52.585132: I tensorflow/core/common_runtime/gpu/gpu_device.cc:1532] Created device /job:localhost/replica:0/task:0/device:GPU:0 with 30980 MB memory:  -> device: 0, name: Quadro GV100, pci bus id: 0000:3b:00.0, compute capability: 7.0\n"
     ]
    }
   ],
   "source": [
    "gpus = tf.config.list_physical_devices('GPU')\n",
    "if gpus:\n",
    "  try:\n",
    "    # Currently, memory growth needs to be the same across GPUs\n",
    "    for gpu in gpus:\n",
    "      tf.config.experimental.set_memory_growth(gpu, True)\n",
    "    logical_gpus = tf.config.list_logical_devices('GPU')\n",
    "    print(len(gpus), \"Physical GPUs,\", len(logical_gpus), \"Logical GPUs\")\n",
    "  except RuntimeError as e:\n",
    "    # Memory growth must be set before GPUs have been initialized\n",
    "    print(e)"
   ]
  },
  {
   "cell_type": "code",
   "execution_count": 5,
   "metadata": {},
   "outputs": [],
   "source": [
    "def balanceData(df, method):\n",
    "    if method==1:\n",
    "        #balance the data so that there is an equal number of murmur positive and murmur negative samples\n",
    "        #do this by duplicating random rows of whichever group (pos or neg) is smaller\n",
    "        neg_df = df.filter(pl.col(target_label)==0.0)\n",
    "        pos_df = df.filter(pl.col(target_label)==1.0)\n",
    "        numNeg = neg_df.height\n",
    "        numPos = pos_df.height\n",
    "\n",
    "        while numNeg != numPos:\n",
    "            if numNeg < numPos:\n",
    "                df.vstack(neg_df.sample(n=min(numPos-numNeg, neg_df.height), shuffle=True), in_place=True)\n",
    "            else: \n",
    "                df.vstack(pos_df.sample(n=min(numNeg-numPos, pos_df.height), shuffle=True), in_place=True)\n",
    "            numNeg = df.filter(pl.col(target_label)==0.0).height\n",
    "            numPos = df.filter(pl.col(target_label)==1.0).height\n",
    "\n",
    "        #reshuffle rows\n",
    "        df = df.sample(frac=1.0, shuffle=True)\n",
    "\n",
    "        #check number of positive and negative samples\n",
    "        numNeg = df.filter(pl.col(target_label)==0.0).height\n",
    "        numPos = df.filter(pl.col(target_label)==1.0).height\n",
    "        print('Total Samples:       ', df.height)\n",
    "        print('Positive Samples:    ', numPos)\n",
    "        print('Negative Samples:    ', numNeg)\n",
    "        print('Percent Positive Samples:    ', numPos/(numPos+numNeg))\n",
    "    elif method==2:\n",
    "        #balance the data so that there is an equal number of murmur positive and murmur negative samples\n",
    "        #do this by filtering out rows of whichever group (pos or neg) is larger\n",
    "        neg_df = df.filter(pl.col(target_label)==0.0)\n",
    "        pos_df = df.filter(pl.col(target_label)==1.0)\n",
    "        numNeg = neg_df.height\n",
    "        numPos = pos_df.height\n",
    "\n",
    "        if numNeg < numPos:\n",
    "            df = neg_df.vstack(pos_df.sample(n=numNeg))\n",
    "        elif numPos < numNeg:\n",
    "            df = pos_df.vstack(neg_df.sample(n=numPos))\n",
    "        else:\n",
    "            df = neg_df.vstack(pos_df)\n",
    "\n",
    "        #reshuffle rows\n",
    "        df = df.sample(frac=1.0, shuffle=True)\n",
    "\n",
    "        #check number of positive and negative samples\n",
    "        numNeg = df.filter(pl.col(target_label)==0.0).height\n",
    "        numPos = df.filter(pl.col(target_label)==1.0).height\n",
    "        print('Total Samples:       ', df.height)\n",
    "        print('Positive Samples:    ', numPos)\n",
    "        print('Negative Samples:    ', numNeg)\n",
    "        print('Percent Positive Samples:    ', numPos/(numPos+numNeg))\n",
    "    else:\n",
    "        raise Exception(f'Received unexpected input to \\'method\\' parameter: {method}')\n",
    "\n",
    "    return df"
   ]
  },
  {
   "cell_type": "code",
   "execution_count": 6,
   "metadata": {},
   "outputs": [
    {
     "name": "stdout",
     "output_type": "stream",
     "text": [
      "loading data from save file:  cache/ingested_data.json\n",
      "Training Set Original Size, Batches:      2278, 36\n",
      "Validation Set Original Size, Batches:    569, 9\n",
      "Testing Set Original Size, Batches:       316, 5\n",
      "Total Samples:        3818\n",
      "Positive Samples:     1909\n",
      "Negative Samples:     1909\n",
      "Percent Positive Samples:     0.5\n",
      "Total Samples:        972\n",
      "Positive Samples:     486\n",
      "Negative Samples:     486\n",
      "Percent Positive Samples:     0.5\n",
      "Total Samples:        538\n",
      "Positive Samples:     269\n",
      "Negative Samples:     269\n",
      "Percent Positive Samples:     0.5\n",
      "Training Set Final Size, Batches:      3818, 60\n",
      "Validation Set Final Size, Batches:    972, 16\n",
      "Testing Set Final Size, Batches:       538, 9\n"
     ]
    }
   ],
   "source": [
    "BATCH_SIZE = 64\n",
    "NUM_EPOCHS = 20\n",
    "H = 128\n",
    "W = 313\n",
    "DEVICE = 'gpu'\n",
    "\n",
    "#load data from dataframe\n",
    "data_dir = \"data/raw_training/training_data/\"\n",
    "target_label = 'murmur_in_recording'\n",
    "df = (\n",
    "    ip.loadTrainingData(data_dir)\n",
    "    .filter(pl.col(target_label) != 'Unknown')\n",
    "    .pipe(ip.encodeData)\n",
    "    .select([\n",
    "        pl.col('audio_file').apply(lambda x: os.path.join(data_dir, x)),\n",
    "        pl.col(target_label)\n",
    "    ])\n",
    ")\n",
    "\n",
    "# Shuffle data\n",
    "df = df.sample(frac=1.0, shuffle=True)\n",
    "\n",
    "# Split data into training, validation, and testing sets\n",
    "train_df, test_df = ip.splitDataframe(df, split_ratio=0.9)\n",
    "train_df, val_df = ip.splitDataframe(train_df, split_ratio=0.8)\n",
    "\n",
    "numTrainBatches = math.ceil(train_df.height / BATCH_SIZE)\n",
    "numValBatches = math.ceil(val_df.height / BATCH_SIZE)\n",
    "numTestBatches = math.ceil(test_df.height / BATCH_SIZE)\n",
    "print(f'Training Set Original Size, Batches:      {train_df.height}, {numTrainBatches}')\n",
    "print(f'Validation Set Original Size, Batches:    {val_df.height}, {numValBatches}')\n",
    "print(f'Testing Set Original Size, Batches:       {test_df.height}, {numTestBatches}')\n",
    "\n",
    "# Balance data so there is an equal number of murmur present and murmur absent samples\n",
    "train_df = balanceData(train_df, 1)\n",
    "val_df = balanceData(val_df, 1)\n",
    "test_df = balanceData(test_df, 1)\n",
    "\n",
    "numTrainBatches = math.ceil(train_df.height / BATCH_SIZE)\n",
    "numValBatches = math.ceil(val_df.height / BATCH_SIZE)\n",
    "numTestBatches = math.ceil(test_df.height / BATCH_SIZE)\n",
    "print(f'Training Set Final Size, Batches:      {train_df.height}, {numTrainBatches}')\n",
    "print(f'Validation Set Final Size, Batches:    {val_df.height}, {numValBatches}')\n",
    "print(f'Testing Set Final Size, Batches:       {test_df.height}, {numTestBatches}')\n",
    "\n",
    "# check that sets are unique\n",
    "for set1, set2 in [[train_df, val_df], [train_df, test_df], [val_df, test_df]]:\n",
    "    col1 = set1.get_column('audio_file')\n",
    "    col2 = set2.get_column('audio_file')\n",
    "    overlap = col1.is_in(col2)\n",
    "    if overlap.any():\n",
    "        print(col1.len(), col2.len())\n",
    "        print(overlap.value_counts())\n",
    "        raise Exception(\n",
    "            'Training, validation, and/or testing sets are not unique.' +\n",
    "            f' Number of overlaps: {col1.filter(overlap).len()}'\n",
    "        )"
   ]
  },
  {
   "cell_type": "code",
   "execution_count": 7,
   "metadata": {},
   "outputs": [],
   "source": [
    "from nvidia.dali import pipeline_def\n",
    "import nvidia.dali.fn as fn\n",
    "import nvidia.dali.types as types\n",
    "import nvidia.dali.plugin.tf as dali_tf\n",
    "\n",
    "#prefetch_queue_depth=2*BATCH_SIZE, num_threads=4\n",
    "@pipeline_def(device_id=0, batch_size=BATCH_SIZE)\n",
    "def pipe(audioPaths, labels, device, sr=4000, duration=20, augmentData=True):\n",
    "    # Load audio files\n",
    "    encoded, labelsOut = fn.readers.file(files=audioPaths, labels=labels)\n",
    "    audio, _ = fn.decoders.audio(encoded, sample_rate=sr)\n",
    "    if device=='gpu':\n",
    "        audio = audio.gpu()\n",
    "        labelsOut = labelsOut.gpu()\n",
    "\n",
    "    # Resize samples to uniform length, either by padding it with silence or truncating it\n",
    "    trimmedSize = duration*sr\n",
    "    audio = fn.slice(audio, 0, trimmedSize, axes=0, out_of_bounds_policy='pad')\n",
    "\n",
    "    # Time shift signal to the left or right by a random percent of its original length (max 99%)\n",
    "    #   NOT IMPLEMENTED \n",
    "    # breakpoint = fn.random.uniform(range=(0.,1.))\n",
    "    # head = fn.slice\n",
    "\n",
    "    # Get mel spectrogram\n",
    "    spec = fn.spectrogram(audio, device=device)\n",
    "    melSpec = fn.mel_filter_bank(spec, sample_rate=sr, nfilter=128)\n",
    "    melSpec = fn.to_decibels(melSpec, multiplier=10.0)\n",
    "\n",
    "    if augmentData==True:\n",
    "        # Apply time and frequency masking\n",
    "        # maskValue = fn.reductions.mean(melSpec, device='cpu')\n",
    "        maskValue = 0.\n",
    "        melSpec = fn.erase(melSpec, axes=0, fill_value=maskValue, anchor=fn.random.uniform(range=(0.,1.)), shape=fn.random.uniform(range=(0.,0.1)), normalized=True, device=device)\n",
    "        melSpec = fn.erase(melSpec, axes=1, fill_value=maskValue, anchor=fn.random.uniform(range=(0.,1.)), shape=fn.random.uniform(range=(0.,0.1)), normalized=True, device=device)\n",
    "        normalized = fn.normalize(melSpec)\n",
    "        samplesOut = normalized\n",
    "    else:\n",
    "        samplesOut = melSpec\n",
    "\n",
    "    return samplesOut, labelsOut\n"
   ]
  },
  {
   "cell_type": "code",
   "execution_count": 8,
   "metadata": {},
   "outputs": [],
   "source": [
    "with tf.device('/gpu:0' if DEVICE=='gpu' else '/cpu:0'):\n",
    "    # Define shapes and types of the outputs\n",
    "    shapes = ((BATCH_SIZE, H, W), (BATCH_SIZE))\n",
    "    dtypes = (tf.float32, tf.int32)\n",
    "\n",
    "    # Create pipelines\n",
    "    train_pipe = pipe(audioPaths=train_df.get_column('audio_file').to_list(),\n",
    "                    labels=train_df.get_column(target_label).to_list(),\n",
    "                    device=DEVICE)\n",
    "    val_pipe = pipe(audioPaths=val_df.get_column('audio_file').to_list(),\n",
    "                    labels=val_df.get_column(target_label).to_list(),\n",
    "                    device=DEVICE)            \n",
    "    test_pipe = pipe(audioPaths=test_df.get_column('audio_file').to_list(),\n",
    "                    labels=test_df.get_column(target_label).to_list(),\n",
    "                    device=DEVICE)\n",
    "\n",
    "    # Create datasets\n",
    "    kwargs = dict(batch_size=BATCH_SIZE,\n",
    "                  output_shapes=shapes,\n",
    "                  output_dtypes=dtypes,\n",
    "                  device_id=0,\n",
    "                  prefetch_queue_depth=4,\n",
    "                  num_threads=4,\n",
    "                  exec_separated=True)\n",
    "    train_set = dali_tf.DALIDataset(pipeline=train_pipe, **kwargs)\n",
    "    val_set = dali_tf.DALIDataset(pipeline=val_pipe, **kwargs)\n",
    "    test_set = dali_tf.DALIDataset(pipeline=test_pipe, **kwargs)\n"
   ]
  },
  {
   "cell_type": "code",
   "execution_count": 9,
   "metadata": {},
   "outputs": [],
   "source": [
    "\n",
    "# train_pipe.build()\n",
    "# train_pipe.save_graph_to_dot_file('DALIgraph2.dot', use_colors=True, show_ids=False, show_tensors=True)"
   ]
  },
  {
   "cell_type": "code",
   "execution_count": 18,
   "metadata": {},
   "outputs": [
    {
     "name": "stdout",
     "output_type": "stream",
     "text": [
      "Epoch 1/20\n",
      "54/54 [==============================] - 2s 27ms/step - loss: 1.0055 - accuracy: 0.5689 - mean_absolute_percentage_error: 234060480.0000 - val_loss: 0.6465 - val_accuracy: 0.6049 - val_mean_absolute_percentage_error: 203736656.0000\n",
      "Epoch 2/20\n",
      "54/54 [==============================] - 1s 25ms/step - loss: 0.5818 - accuracy: 0.6861 - mean_absolute_percentage_error: 213000800.0000 - val_loss: 0.6301 - val_accuracy: 0.6507 - val_mean_absolute_percentage_error: 151522016.0000\n",
      "Epoch 3/20\n",
      "54/54 [==============================] - 1s 25ms/step - loss: 0.4931 - accuracy: 0.7483 - mean_absolute_percentage_error: 175581216.0000 - val_loss: 0.6014 - val_accuracy: 0.6652 - val_mean_absolute_percentage_error: 156965104.0000\n",
      "Epoch 4/20\n",
      "54/54 [==============================] - 1s 25ms/step - loss: 0.4121 - accuracy: 0.7943 - mean_absolute_percentage_error: 151351488.0000 - val_loss: 0.5836 - val_accuracy: 0.6775 - val_mean_absolute_percentage_error: 198108672.0000\n",
      "Epoch 5/20\n",
      "54/54 [==============================] - 1s 25ms/step - loss: 0.3270 - accuracy: 0.8573 - mean_absolute_percentage_error: 119321152.0000 - val_loss: 0.8701 - val_accuracy: 0.6440 - val_mean_absolute_percentage_error: 89435736.0000\n",
      "Epoch 6/20\n",
      "54/54 [==============================] - 1s 25ms/step - loss: 0.2856 - accuracy: 0.8773 - mean_absolute_percentage_error: 104301576.0000 - val_loss: 0.7021 - val_accuracy: 0.6998 - val_mean_absolute_percentage_error: 138742688.0000\n",
      "Epoch 7/20\n",
      "54/54 [==============================] - 1s 25ms/step - loss: 0.2371 - accuracy: 0.8981 - mean_absolute_percentage_error: 89215240.0000 - val_loss: 0.9571 - val_accuracy: 0.6685 - val_mean_absolute_percentage_error: 75333328.0000\n",
      "Epoch 8/20\n",
      "54/54 [==============================] - 1s 25ms/step - loss: 0.1984 - accuracy: 0.9175 - mean_absolute_percentage_error: 69955744.0000 - val_loss: 1.1126 - val_accuracy: 0.6607 - val_mean_absolute_percentage_error: 67091796.0000\n",
      "Epoch 9/20\n",
      "54/54 [==============================] - 1s 25ms/step - loss: 0.1723 - accuracy: 0.9349 - mean_absolute_percentage_error: 61947616.0000 - val_loss: 0.9641 - val_accuracy: 0.6730 - val_mean_absolute_percentage_error: 89139392.0000\n",
      "Epoch 10/20\n",
      "54/54 [==============================] - 1s 25ms/step - loss: 0.1423 - accuracy: 0.9439 - mean_absolute_percentage_error: 51025920.0000 - val_loss: 1.1951 - val_accuracy: 0.6808 - val_mean_absolute_percentage_error: 58652828.0000\n",
      "Epoch 11/20\n",
      "54/54 [==============================] - 1s 25ms/step - loss: 0.1295 - accuracy: 0.9497 - mean_absolute_percentage_error: 46162048.0000 - val_loss: 1.2443 - val_accuracy: 0.6708 - val_mean_absolute_percentage_error: 66549612.0000\n",
      "Epoch 12/20\n",
      "54/54 [==============================] - 1s 25ms/step - loss: 0.1197 - accuracy: 0.9505 - mean_absolute_percentage_error: 41216052.0000 - val_loss: 1.5060 - val_accuracy: 0.6685 - val_mean_absolute_percentage_error: 46068312.0000\n",
      "Epoch 13/20\n",
      "54/54 [==============================] - 1s 25ms/step - loss: 0.0999 - accuracy: 0.9615 - mean_absolute_percentage_error: 36550752.0000 - val_loss: 1.2261 - val_accuracy: 0.6920 - val_mean_absolute_percentage_error: 61040160.0000\n",
      "Epoch 14/20\n",
      "54/54 [==============================] - 1s 25ms/step - loss: 0.0864 - accuracy: 0.9679 - mean_absolute_percentage_error: 32181906.0000 - val_loss: 1.4685 - val_accuracy: 0.7020 - val_mean_absolute_percentage_error: 60376860.0000\n",
      "Epoch 15/20\n",
      "54/54 [==============================] - 1s 25ms/step - loss: 0.0747 - accuracy: 0.9754 - mean_absolute_percentage_error: 26506006.0000 - val_loss: 1.4954 - val_accuracy: 0.6953 - val_mean_absolute_percentage_error: 50318616.0000\n",
      "Epoch 16/20\n",
      "54/54 [==============================] - 1s 25ms/step - loss: 0.0687 - accuracy: 0.9754 - mean_absolute_percentage_error: 23945920.0000 - val_loss: 1.3074 - val_accuracy: 0.7154 - val_mean_absolute_percentage_error: 77887640.0000\n",
      "Epoch 17/20\n",
      "54/54 [==============================] - 1s 25ms/step - loss: 0.0642 - accuracy: 0.9783 - mean_absolute_percentage_error: 23057838.0000 - val_loss: 1.3411 - val_accuracy: 0.7087 - val_mean_absolute_percentage_error: 64273144.0000\n",
      "Epoch 18/20\n",
      "54/54 [==============================] - 1s 25ms/step - loss: 0.0539 - accuracy: 0.9832 - mean_absolute_percentage_error: 18325426.0000 - val_loss: 1.6263 - val_accuracy: 0.6953 - val_mean_absolute_percentage_error: 48671972.0000\n",
      "Epoch 19/20\n",
      "54/54 [==============================] - 1s 25ms/step - loss: 0.0411 - accuracy: 0.9864 - mean_absolute_percentage_error: 15590079.0000 - val_loss: 1.3451 - val_accuracy: 0.7299 - val_mean_absolute_percentage_error: 82540304.0000\n",
      "Epoch 20/20\n",
      "54/54 [==============================] - 1s 25ms/step - loss: 0.0517 - accuracy: 0.9818 - mean_absolute_percentage_error: 17559316.0000 - val_loss: 1.7463 - val_accuracy: 0.6897 - val_mean_absolute_percentage_error: 38167684.0000\n"
     ]
    }
   ],
   "source": [
    "#keras script\n",
    "\n",
    "import numpy as np\n",
    "from keras.models import Sequential\n",
    "from keras import datasets, layers, models\n",
    "\n",
    "with tf.device('/gpu:0' if DEVICE=='gpu' else '/cpu:0'):\n",
    "    # Design model\n",
    "    input_shape = (H, W, 1) # 128,313,1\n",
    "    model = Sequential()\n",
    "\n",
    "    #example sequence: conv, batchNorm, pool\n",
    "\n",
    "    # Arcitecture\n",
    "    # model.add(layers.Conv2D(8, (3,3), activation='relu', input_shape=input_shape, padding='same'))\n",
    "    # model.add(layers.MaxPool2D(pool_size=(2,2), strides=2))\n",
    "    # model.add(layers.Conv2D(16, (5,5), activation='relu'))\n",
    "    # model.add(layers.MaxPool2D(pool_size=(2,2), strides=2))\n",
    "    # model.add(layers.Conv2D(32, (5,5), activation='relu'))\n",
    "    # model.add(layers.MaxPool2D(pool_size=(2,2), strides=2))\n",
    "    # model.add(layers.Conv2D(64, (5,5), activation='relu'))\n",
    "    # model.add(layers.MaxPool2D(pool_size=(2,2), strides=2))\n",
    "    # model.add(layers.Flatten())\n",
    "    # model.add(layers.Dense(128, activation='relu'))\n",
    "    # model.add(layers.Dense(64, activation='relu'))\n",
    "    # model.add(layers.Dense(32, activation='relu'))\n",
    "    # model.add(layers.Dense(1, activation='sigmoid'))\n",
    "\n",
    "\n",
    "\n",
    "    model.add(layers.Conv2D(32, (3,3), activation='relu', input_shape=input_shape))\n",
    "    model.add(layers.MaxPool2D((2,2)))\n",
    "    # model.add(layers.Dropout(0.2))\n",
    "    model.add(layers.Conv2D(64, (3,3), activation='relu'))\n",
    "    model.add(layers.MaxPool2D((2,2)))\n",
    "    # model.add(layers.Dropout(0.2))\n",
    "    # model.add(layers.Conv2D(64, (3,3), activation='relu'))\n",
    "    # model.add(layers.MaxPool2D((2,2)))\n",
    "    # model.add(layers.Dropout(0.2))\n",
    "    model.add(layers.Flatten())\n",
    "    # model.add(layers.Dense(64, activation='relu'))\n",
    "    # model.add(layers.Dropout(0.5))\n",
    "    model.add(layers.Dense(32, activation='relu'))\n",
    "    # model.add(layers.Dropout(0.1))\n",
    "    model.add(layers.Dense(1, activation='sigmoid'))\n",
    "\n",
    "\n",
    "\n",
    "    # model.add(layers.Conv2D(16, (3,3), activation='relu', input_shape=input_shape))\n",
    "    # model.add(layers.Conv2D(16, (3,3), activation='relu'))\n",
    "    # model.add(layers.MaxPool2D((2,2)))\n",
    "    # # model.add(layers.Dropout(0.2))\n",
    "    # model.add(layers.Conv2D(32, (3,3), activation='relu'))\n",
    "    # model.add(layers.Conv2D(32, (3,3), activation='relu'))\n",
    "    # model.add(layers.MaxPool2D((2,2)))\n",
    "    # # model.add(layers.Dropout(0.5))\n",
    "    # model.add(layers.Flatten())\n",
    "    # model.add(layers.Dense(64, activation='relu'))\n",
    "    # # model.add(layers.Dropout(0.5))\n",
    "    # # model.add(layers.Dense(32, activation='relu'))\n",
    "    # model.add(layers.Dense(1, activation='sigmoid'))\n",
    "\n",
    "    model.compile(optimizer='adam', loss='bce', metrics=['accuracy'])\n",
    "    # model.summary()\n",
    "\n",
    "    # # Create a TensorBoard callback\n",
    "    # logs = \"logs/\" + datetime.now().strftime(\"%Y%m%d-%H%M%S\")\n",
    "    # tboard_callback = tf.keras.callbacks.TensorBoard(log_dir = logs, histogram_freq = 1, profile_batch = '10,15')\n",
    "\n",
    "    # Train model on dataset\n",
    "    history = model.fit(\n",
    "        x=train_set,\n",
    "        validation_data=val_set,\n",
    "        epochs=NUM_EPOCHS,\n",
    "        steps_per_epoch=int(numTrainBatches*0.9),\n",
    "        validation_steps=int(numValBatches*0.9),\n",
    "        # callbacks=tboard_callback\n",
    "    )"
   ]
  },
  {
   "cell_type": "code",
   "execution_count": null,
   "metadata": {},
   "outputs": [],
   "source": [
    "def fitModel(model):\n",
    "    "
   ]
  },
  {
   "cell_type": "code",
   "execution_count": 38,
   "metadata": {},
   "outputs": [
    {
     "data": {
      "image/png": "[encoded data removed]",
      "text/plain": [
       "<Figure size 1080x360 with 2 Axes>"
      ]
     },
     "metadata": {
      "needs_background": "light"
     },
     "output_type": "display_data"
    }
   ],
   "source": [
    "#Adapted from Deep Learning with Python by Francois Chollet, 2018\n",
    "history_dict=history.history\n",
    "loss_values=history_dict['loss']\n",
    "acc_values=history_dict['accuracy']\n",
    "val_loss_values = history_dict['val_loss']\n",
    "val_acc_values=history_dict['val_accuracy']\n",
    "epochs=range(1,NUM_EPOCHS+1)\n",
    "fig,(ax1,ax2)=plt.subplots(1,2,figsize=(15,5))\n",
    "ax1.plot(epochs,loss_values,'bo',label='Training Loss')\n",
    "ax1.plot(epochs,val_loss_values,'orange', label='Validation Loss')\n",
    "ax1.set_title('Training and validation loss')\n",
    "ax1.set_xlabel('Epochs')\n",
    "ax1.set_ylabel('Loss')\n",
    "ax1.legend()\n",
    "ax2.plot(epochs,acc_values,'bo', label='Training accuracy')\n",
    "ax2.plot(epochs,val_acc_values,'orange',label='Validation accuracy')\n",
    "ax2.set_title('Training and validation accuracy')\n",
    "ax2.set_xlabel('Epochs')\n",
    "ax2.set_ylabel('Accuracy')\n",
    "ax2.legend()\n",
    "plt.show()"
   ]
  },
  {
   "cell_type": "code",
   "execution_count": 21,
   "metadata": {},
   "outputs": [
    {
     "name": "stdout",
     "output_type": "stream",
     "text": [
      "9/9 [==============================] - 0s 10ms/step - loss: 1.7998 - accuracy: 0.7569 - mean_absolute_percentage_error: 29279416.0000\n"
     ]
    },
    {
     "data": {
      "text/plain": [
       "[1.799757480621338, 0.7569444179534912, 29279416.0]"
      ]
     },
     "execution_count": 21,
     "metadata": {},
     "output_type": "execute_result"
    }
   ],
   "source": [
    "model.evaluate(test_set, steps=numTestBatches)"
   ]
  },
  {
   "cell_type": "code",
   "execution_count": 22,
   "metadata": {},
   "outputs": [
    {
     "data": {
      "image/png": "[encoded data removed]",
      "text/plain": [
       "<Figure size 432x288 with 1 Axes>"
      ]
     },
     "metadata": {
      "needs_background": "light"
     },
     "output_type": "display_data"
    }
   ],
   "source": [
    "plt.title('Loss')\n",
    "plt.plot(history.history['loss'], label='train', color='red')\n",
    "plt.plot(history.history['val_loss'], label='test', color='blue')\n",
    "plt.legend()\n",
    "plt.show()"
   ]
  },
  {
   "cell_type": "code",
   "execution_count": 23,
   "metadata": {},
   "outputs": [
    {
     "data": {
      "image/png": "[encoded data removed]",
      "text/plain": [
       "<Figure size 432x288 with 1 Axes>"
      ]
     },
     "metadata": {
      "needs_background": "light"
     },
     "output_type": "display_data"
    }
   ],
   "source": [
    "plt.title('Accuracy')\n",
    "plt.plot(history.history['accuracy'], label='train', color='red')\n",
    "plt.plot(history.history['val_accuracy'], label='test', color='blue')\n",
    "plt.legend()\n",
    "plt.show()"
   ]
  },
  {
   "cell_type": "code",
   "execution_count": 24,
   "metadata": {},
   "outputs": [
    {
     "name": "stdout",
     "output_type": "stream",
     "text": [
      "The tensorboard extension is already loaded. To reload it, use:\n",
      "  %reload_ext tensorboard\n"
     ]
    }
   ],
   "source": [
    "# Load the TensorBoard notebook extension.\n",
    "%load_ext tensorboard\n"
   ]
  },
  {
   "cell_type": "code",
   "execution_count": 25,
   "metadata": {},
   "outputs": [
    {
     "data": {
      "text/plain": [
       "Reusing TensorBoard on port 6006 (pid 4137063), started 1 day, 2:39:41 ago. (Use '!kill 4137063' to kill it.)"
      ]
     },
     "metadata": {},
     "output_type": "display_data"
    },
    {
     "data": {
      "text/html": [
       "\n",
       "      <iframe id=\"tensorboard-frame-91ce1afc8c1aec92\" width=\"100%\" height=\"800\" frameborder=\"0\">\n",
       "      </iframe>\n",
       "      <script>\n",
       "        (function() {\n",
       "          const frame = document.getElementById(\"tensorboard-frame-91ce1afc8c1aec92\");\n",
       "          const url = new URL(\"http://localhost\");\n",
       "          const port = 6006;\n",
       "          if (port) {\n",
       "            url.port = port;\n",
       "          }\n",
       "          frame.src = url;\n",
       "        })();\n",
       "      </script>\n",
       "    "
      ],
      "text/plain": [
       "<IPython.core.display.HTML object>"
      ]
     },
     "metadata": {},
     "output_type": "display_data"
    }
   ],
   "source": [
    "# Launch TensorBoard and navigate to the Profile tab to view performance profile\n",
    "%tensorboard --logdir=logs"
   ]
  }
 ],
 "metadata": {
  "kernelspec": {
   "display_name": "Python 3.8.10 64-bit",
   "language": "python",
   "name": "python3"
  },
  "language_info": {
   "codemirror_mode": {
    "name": "ipython",
    "version": 3
   },
   "file_extension": ".py",
   "mimetype": "text/x-python",
   "name": "python",
   "nbconvert_exporter": "python",
   "pygments_lexer": "ipython3",
   "version": "3.8.10"
  },
  "orig_nbformat": 4,
  "vscode": {
   "interpreter": {
    "hash": "31f2aee4e71d21fbe5cf8b01ff0e069b9275f58929596ceb00d14d90e3e16cd6"
   }
  }
 },
 "nbformat": 4,
 "nbformat_minor": 2
}
