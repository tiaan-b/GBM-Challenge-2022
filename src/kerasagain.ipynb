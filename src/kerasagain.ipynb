{
 "cells": [
  {
   "cell_type": "code",
   "execution_count": null,
   "metadata": {},
   "outputs": [],
   "source": [
    "import polars\n",
    "import matplotlib.pyplot as plt\n",
    "import torchaudio\n",
    "\n",
    "import helpers.input_processor as ip"
   ]
  },
  {
   "cell_type": "code",
   "execution_count": null,
   "metadata": {},
   "outputs": [],
   "source": [
    "data_dir = \"data/raw_training/training_data/\"\n",
    "df = ip.ingest_data(data_dir)"
   ]
  },
  {
   "cell_type": "code",
   "execution_count": null,
   "metadata": {},
   "outputs": [],
   "source": [
    "# output metadata of first audio file\n",
    "metadata = torchaudio.info(data_dir + df['audio_file'][0][0])\n",
    "print(metadata)"
   ]
  }
 ],
 "metadata": {
  "kernelspec": {
   "display_name": "Python 3.9.6 64-bit",
   "language": "python",
   "name": "python3"
  },
  "language_info": {
   "name": "python",
   "version": "3.9.6"
  },
  "orig_nbformat": 4,
  "vscode": {
   "interpreter": {
    "hash": "7b8c902a5db4bd22b43399a271754202218dc4d05c7622b2f621f708dd6b6e04"
   }
  }
 },
 "nbformat": 4,
 "nbformat_minor": 2
}
