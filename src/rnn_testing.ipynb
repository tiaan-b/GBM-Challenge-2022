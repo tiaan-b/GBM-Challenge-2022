{
 "cells": [
  {
   "cell_type": "code",
   "execution_count": 10,
   "metadata": {},
   "outputs": [],
   "source": [
    "import polars as pl\n",
    "import os\n",
    "import librosa\n",
    "import librosa.display\n",
    "import matplotlib.pyplot as plt\n",
    "from sklearn.model_selection import train_test_split\n",
    "from sklearn.preprocessing import normalize\n",
    "import warnings\n",
    "warnings.filterwarnings('ignore')\n",
    "from sklearn.model_selection import train_test_split\n",
    "import tensorflow\n",
    "from tensorflow.keras.layers import LSTM, Dense\n",
    "import helpers.input_processor as ip\n",
    "import tqdm"
   ]
  },
  {
   "cell_type": "code",
   "execution_count": 16,
   "metadata": {},
   "outputs": [],
   "source": [
    "#code adapted from: https://towardsdatascience.com/recurrent-neural-nets-for-audio-classification-81cb62327990\n",
    "\n",
    "def getMFCC(df, data_dir):\n",
    "    #check if df already has mfcc column\n",
    "    if 'mfcc' in df.columns:\n",
    "        return df\n",
    "    \n",
    "    progress = tqdm.tqdm(total=df.height, desc='Generating Mel-frequency cepstral coefficients')\n",
    "    out = df.with_column(\n",
    "        pl.col('audio_file')\n",
    "        .apply(lambda x: __function_with_logUpdater(progress, wav_to_mfcc(data_dir + '/' + x)))\n",
    "        # .apply(lambda x: __function_with_logUpdater(progress, np.array([padding(mfcc,1,400)])))   #not sure what padding does, is it necessary?\n",
    "        .alias('mfcc')\n",
    "    )\n",
    "\n",
    "    out = ip.reorderCols(out)\n",
    "    return out\n",
    "\n",
    "def wav_to_mfcc(x, sr=4000):\n",
    "    waveform, samp_rate = librosa.load(x, sr=sr) #make sure that the correct sample rate is passed as a parameters. if unspecified, the function chooses some default value\n",
    "    t_start = 0\n",
    "    t_end = librosa.get_duration(waveform, sr)\n",
    "    #trim waveform to desired range\n",
    "    waveform_trimmed = waveform[int(round(t_start*sr)):int(round(t_end*sr))]\n",
    "    #get Mel-frequency cepstral coefficients\n",
    "    mfcc = librosa.feature.mfcc(waveform_trimmed)\n",
    "    return mfcc\n",
    "\n",
    "def __function_with_logUpdater(progress, func):\n",
    "    progress.update(1)\n",
    "    out = func\n",
    "    return out\n"
   ]
  },
  {
   "cell_type": "code",
   "execution_count": 12,
   "metadata": {},
   "outputs": [
    {
     "name": "stdout",
     "output_type": "stream",
     "text": [
      "loading data from save file:  cache/ingested_data.json\n"
     ]
    }
   ],
   "source": [
    "data_dir = 'data/raw_training/training_data'\n",
    "df = ip.loadTrainingData(data_dir, encode_data=True)"
   ]
  },
  {
   "cell_type": "code",
   "execution_count": 13,
   "metadata": {},
   "outputs": [
    {
     "name": "stderr",
     "output_type": "stream",
     "text": [
      "Generating Mel-frequency cepstral coefficients: 100%|██████████| 3163/3163 [00:36<00:00, 86.40it/s] \n"
     ]
    }
   ],
   "source": [
    "df = df.pipe(getMFCC, data_dir)"
   ]
  }
 ],
 "metadata": {
  "kernelspec": {
   "display_name": "Python 3.9.6 64-bit",
   "language": "python",
   "name": "python3"
  },
  "language_info": {
   "codemirror_mode": {
    "name": "ipython",
    "version": 3
   },
   "file_extension": ".py",
   "mimetype": "text/x-python",
   "name": "python",
   "nbconvert_exporter": "python",
   "pygments_lexer": "ipython3",
   "version": "3.9.6"
  },
  "orig_nbformat": 4,
  "vscode": {
   "interpreter": {
    "hash": "7e6d5e7838ad5a6f21e653aad162287478f080f67842ffea6b41d6cafcf50439"
   }
  }
 },
 "nbformat": 4,
 "nbformat_minor": 2
}
