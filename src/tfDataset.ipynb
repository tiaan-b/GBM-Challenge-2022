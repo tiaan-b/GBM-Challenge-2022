{
 "cells": [
  {
   "cell_type": "code",
   "execution_count": null,
   "metadata": {},
   "outputs": [],
   "source": [
    "import os\n",
    "import numpy as np\n",
    "import tensorflow as tf\n",
    "from typing import Sequence, Optional\n",
    "import math"
   ]
  },
  {
   "cell_type": "code",
   "execution_count": null,
   "metadata": {},
   "outputs": [],
   "source": [
    "class input(object):\n",
    "    def __init__(self, filePaths:Sequence[str], labels:Sequence[float], startTimes:Optional[Sequence[float]]=None, endTimes:Optional[Sequence[float]]=None, batchSize:Optional[int]=None):\n",
    "        # Check that data has consistent shape\n",
    "        cols = [filePaths, labels, startTimes, endTimes]\n",
    "        if any(len(col)!=len(cols[0]) for col in cols if col is not None):\n",
    "            raise Exception(f'Expected lists with equal length, but received lists with lengths {[len(col) for col in cols if col is not None]}')\n",
    "        # Check that startTime and endTime are either both specified or both unspecified\n",
    "        if all(type(startTimes)!=type(endTimes), type(startTimes) in (list, None))\n",
    "        # Check that batch size is not larger than the total amount of data\n",
    "        if batchSize is not None and batchSize > len(filePaths):\n",
    "            raise Exception(f'batchSize={batchSize} cannot be larger than the length of filePaths')\n",
    "\n",
    "        self.__filePaths = filePaths\n",
    "        self.__labels = labels\n",
    "        self.__startTimes = startTimes if startTimes is not None else [None]*len(filePaths)\n",
    "        self.__endTimes = endTimes if endTimes is not None else [None]*len(filePaths)\n",
    "\n",
    "        self.totalSize = len(filePaths)\n",
    "        self.batchSize = batchSize\n",
    "        self.numBatches = math.floor(self.totalSize / batchSize) if batchSize is not None else 0\n",
    "\n",
    "        def dataset(self) -> tf.data.Dataset:\n",
    "            try:\n",
    "                out = self.__dataset\n",
    "            except AttributeError:\n",
    "                datasetCols = [self.filePaths, self.labels, self.startTimes, self.endTimes]\n",
    "                self.__dataset = (\n",
    "                    tf.data.Dataset.from_tensor_slices(datasetCols)\n",
    "                    .map(self.__preprocessor, num_parallel_calls=tf.data.AUTOTUNE)\n",
    "                )\n",
    "            return out\n",
    "\n",
    "        def __preprocessor(filePath, label, startTime, endTime):\n",
    "            # Load and decode audio file\n",
    "            encodedAudio = tf.io.read_file(filePath)\n",
    "            rawAudio = tf.audio.decode_wav(encodedAudio)\n",
    "\n",
    "            if startTime is not None and endTime is not None:\n",
    "                \n",
    "            pass"
   ]
  }
 ],
 "metadata": {
  "kernelspec": {
   "display_name": "Python 3.8.10 64-bit",
   "language": "python",
   "name": "python3"
  },
  "language_info": {
   "codemirror_mode": {
    "name": "ipython",
    "version": 3
   },
   "file_extension": ".py",
   "mimetype": "text/x-python",
   "name": "python",
   "nbconvert_exporter": "python",
   "pygments_lexer": "ipython3",
   "version": "3.8.10"
  },
  "orig_nbformat": 4,
  "vscode": {
   "interpreter": {
    "hash": "916dbcbb3f70747c44a77c7bcd40155683ae19c65e1c03b4aa3499c5328201f1"
   }
  }
 },
 "nbformat": 4,
 "nbformat_minor": 2
}
